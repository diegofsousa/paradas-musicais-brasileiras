{
 "cells": [
  {
   "cell_type": "code",
   "execution_count": 1,
   "metadata": {},
   "outputs": [],
   "source": [
    "# importando as libs\n",
    "import pandas as pd\n",
    "import numpy as np\n",
    "import requests as req\n",
    "#from selenium import webdriver\n",
    "from scrapy.selector import Selector as scp\n",
    "import json"
   ]
  },
  {
   "cell_type": "code",
   "execution_count": 2,
   "metadata": {},
   "outputs": [
    {
     "name": "stdout",
     "output_type": "stream",
     "text": [
      "200\n"
     ]
    }
   ],
   "source": [
    "r = req.get('https://www.cifraclub.com.br/kell-smith/era-uma-vez/')\n",
    "print(r.status_code)"
   ]
  },
  {
   "cell_type": "code",
   "execution_count": 3,
   "metadata": {},
   "outputs": [],
   "source": [
    "texto = r.content\n",
    "#print(texto)\n",
    "acordes = scp(text=texto).xpath('//div[@id=\"js-view-script\"]/script/text()').extract()[1]"
   ]
  },
  {
   "cell_type": "code",
   "execution_count": 4,
   "metadata": {},
   "outputs": [
    {
     "name": "stdout",
     "output_type": "stream",
     "text": [
      "[{\"chord\":\"Cm7\",\"alt\":\"Am7\",\"guitar\":[\"X 0 2 0 1 0\",\"X 0 2 0 1 3\",\"5 3 5 5 X X\",\"5 3 5 2 X X\",\"X 12 10 12 13 10\",\"5 X 5 5 5 5\",\"5 5 5 5 5 7\",\"5 X 5 5 5 X\",\"X X 7 9 8 8\",\"5 7 5 5 5 5\",\"X 12 10 9 8 X\",\"X 12 10 12 13 X\",\"X 12 14 12 13 12\",\"17 X 17 17 17 X\",\"X X 19 21 20 20\",\"X 24 22 21 20 X\",\"X 0 5 5 5 5\",\"X X 7 9 8 X\",\"5 X X 5 5 3\",\"X X 7 5 8 5\",\"X 5 7 5 8 5\",\"X 0 X 5 5 3\"],\"cavaco\":[\"7 P5 5 5\"],\"keyboard\":[\"10 1 5 8\"],\"ukulele\":[\"0 0 0 0\",\"2 4 3 3\",\"0 4 5 3\",\"5 4 3 0\",\"5 7 0 0\",\"5 7 5 7\",\"9 7 8 0\",\"0 9 8 7\",\"0 0 5 7\",\"9 9 8 10\",\"12 12 12 12\",\"14 12 12 10\",\"14 0 0 10\",\"14 0 12 10\",\"14 12 0 10\",\"0 4 8 0\"]},{\"chord\":\"D#\",\"alt\":\"C\",\"guitar\":[\"X 3 2 0 1 0\",\"X 3 2 0 1 3\",\"X 3 2 0 1 X\",\"X 3 5 5 5 3\",\"8 7 5 5 5 8\",\"8 7 5 5 5 X\",\"8 10 10 9 8 8\",\"X X 10 9 8 8\",\"X X 10 12 13 12\",\"X 15 14 12 13 12\",\"X 15 14 12 13 X\",\"X 15 17 17 17 15\",\"20 19 17 17 17 20\",\"20 19 17 17 17 X\",\"20 22 22 21 20 20\",\"X X 22 21 20 20\",\"X 3 5 0 5 0\",\"X 3 2 X X X\",\"X 3 2 0 X X\",\"X 3 P5 5 5 X\",\"X X X P12 13 12\",\"X 2 X 0 X 0\",\"10 X 10 9 8 X\",\"X X 10 9 8 X\",\"X 3 5 5 5 X\"],\"cavaco\":[\"2 0 1 2\"],\"keyboard\":[\"1 5 8\"],\"ukulele\":[\"0 0 0 3\",\"0 0 3 3\",\"0 4 3 3\",\"5 4 3 3\",\"0 4 0 3\",\"5 7 0 7\",\"5 7 8 7\",\"0 7 8 7\",\"0 0 8 7\",\"9 7 8 7\",\"9 0 8 10\",\"9 7 8 10\",\"9 0 0 10\",\"x 0 3 7\",\"5 4 3 7\",\"5 0 3 7\",\"5 7 0 3\",\"5 4 3 x\",\"5 7 3 7\",\"x 0 0 10\",\"x 0 12 10\",\"x 12 12 10\",\"5 7 0 x\",\"12 0 0 10\",\"12 0 12 10\",\"9 0 12 10\",\"x 4 3 3\",\"x 7 0 3\",\"x 12 0 10\",\"12 12 0 10\",\"9 7 8 x\",\"9 12 0 10\",\"9 12 8 10\",\"9 12 12 10\",\"0 0 0 7\",\"0 0 3 7\",\"0 0 0 x\",\"x 7 8 7\",\"0 7 0 3\",\"0 4 8 7\",\"0 0 0 10\",\"0 0 12 10\",\"0 12 12 10\",\"0 12 0 10\",\"0 4 8 x\",\"12 12 12 10\"]},{\"chord\":\"D#4\",\"alt\":\"C4\",\"guitar\":[\"X 3 3 0 1 0\",\"X 3 2 0 1 0\",\"X 3 3 0 1 3\",\"X 3 2 0 1 3\",\"X 3 5 5 6 3\",\"X 3 2 0 1 X\",\"8 10 10 10 8 8\",\"X 3 5 5 5 3\",\"X X 10 10 8 8\",\"8 7 5 5 5 8\",\"X X 10 12 13 13\",\"8 7 5 5 5 X\",\"X 15 15 12 13 X\",\"8 10 10 9 8 8\",\"X 15 17 17 18 15\",\"X X 10 9 8 8\",\"20 22 22 22 20 20\",\"X X 10 12 13 12\",\"X X 22 22 20 20\",\"X 15 14 12 13 12\",\"X 15 14 12 13 X\",\"X 3 3 0 1 X\",\"X 15 17 17 17 15\",\"X 1 5 5 5 1\",\"20 19 17 17 17 20\",\"X 3 3 X X X\",\"20 19 17 17 17 X\",\"10 X 10 10 X X\",\"20 22 22 21 20 20\",\"X 3 3 5 3 4\",\"X X 22 21 20 20\"],\"cavaco\":[\"3 0 1 3\"],\"keyboard\":[\"1 6 8\"],\"ukulele\":[\"5 5 3 3\",\"5 5 3 x\",\"5 7 8 8\",\"10 0 8 10\",\"x 0 13 10\",\"x 12 13 10\",\"12 0 8 8\",\"12 0 13 10\",\"10 0 13 10\",\"x 5 3 3\",\"10 7 8 8\",\"10 7 8 10\",\"10 7 8 x\",\"10 12 8 10\",\"10 12 13 10\",\"0 5 3 3\",\"0 0 1 3\",\"0 5 8 8\",\"0 7 8 8\",\"0 0 8 8\",\"0 0 1 x\",\"x 7 8 8\",\"0 5 1 3\",\"0 5 8 x\",\"0 0 13 10\",\"0 12 13 10\",\"0 12 8 8\",\"12 12 13 10\",\"12 12 8 8\"]},{\"chord\":\"D#9\",\"alt\":\"C9\",\"guitar\":[\"X 3 0 0 1 0\",\"X 2 1 0 3 4\",\"X 3 2 0 3 3\",\"X 3 5 5 3 3\",\"X 3 2 0 3 0\",\"X 3 0 0 3 0\",\"X 3 2 0 3 X\",\"X 3 0 0 3 3\",\"0 3 0 2 0 0\",\"X 3 0 0 3 X\"],\"cavaco\":[\"2 0 1 0\"],\"keyboard\":[\"1 3 5\"],\"ukulele\":[\"5 4 6 5\",\"5 2 0 1\",\"7 0 6 7\",\"9 0 6 5\",\"9 0 10 13\",\"7 4 6 3\",\"7 10 8 7\",\"9 12 10 13\",\"3 2 0 3\",\"3 0 0 5\",\"x 0 0 5\",\"5 2 0 5\",\"5 4 0 5\",\"5 4 3 5\",\"5 2 0 3\",\"5 0 0 5\",\"7 0 0 5\",\"5 7 0 5\",\"x 0 10 7\",\"5 4 8 5\",\"7 0 0 3\",\"5 2 0 x\",\"9 0 0 5\",\"7 0 0 7\",\"7 0 3 7\",\"9 0 10 7\",\"9 0 8 5\",\"7 0 8 7\",\"7 0 0 10\",\"7 0 10 7\",\"9 0 10 10\",\"7 0 0 x\",\"9 0 10 x\",\"x 2 0 3\",\"7 4 0 3\",\"7 7 0 3\",\"7 4 3 3\",\"7 7 8 7\",\"7 4 8 5\",\"7 4 8 7\",\"7 4 8 x\",\"x 4 8 5\",\"9 7 8 5\",\"9 12 10 10\",\"9 12 10 x\",\"0 0 0 5\",\"0 2 0 3\",\"0 0 10 7\",\"0 4 8 5\"]},{\"chord\":\"G#9\",\"alt\":\"F9\",\"guitar\":[\"1 3 3 0 1 X\",\"1 3 5 2 1 1\",\"1 X 3 0 1 X\",\"X X 3 0 1 3\",\"X 8 10 10 8 8\",\"X 8 10 12 10 8\",\"13 X 10 12 10 X\",\"13 15 17 14 13 13\",\"X 20 22 22 20 20\",\"X 20 22 24 22 20\",\"X X 3 2 1 3\",\"X X 3 0 1 1\"],\"cavaco\":[\"3 0 1 3\"],\"keyboard\":[\"6 8 10\"],\"ukulele\":[\"10 9 11 10\",\"10 7 11 0\",\"0 3 1 0\",\"0 5 5 6\",\"0 9 11 8\",\"12 9 11 8\",\"2 5 3 6\",\"8 7 5 8\",\"x 5 3 0\",\"10 9 8 10\",\"10 7 8 0\",\"10 9 13 10\",\"0 0 1 0\",\"0 5 3 0\",\"0 5 5 3\",\"0 5 5 0\",\"0 5 8 0\",\"0 5 1 0\",\"0 5 5 8\",\"0 0 5 8\",\"x 7 5 8\",\"0 7 5 8\",\"0 9 8 8\",\"0 5 5 x\",\"0 9 5 8\",\"12 9 8 8\",\"0 9 13 10\",\"0 9 13 12\",\"12 9 13 0\",\"0 9 13 0\",\"12 9 13 10\",\"12 9 13 12\",\"12 9 13 x\",\"0 9 13 x\",\"2 5 3 0\",\"2 5 3 3\",\"2 5 3 x\",\"x 9 13 10\",\"14 12 13 10\",\"5 5 3 0\",\"5 7 5 8\",\"14 0 13 10\"]},{\"chord\":\"A#5\",\"alt\":\"G5\",\"guitar\":[\"3 X 0 0 3 X\",\"3 5 5 X X X\",\"X 10 12 12 X X\",\"3 X 0 0 X X\",\"X X 5 0 3 X\",\"5 X 0 0 3 X\",\"3 X 0 0 3 3\",\"X 10 12 X X X\",\"3 5 X X X X\",\"15 17 X X X X\",\"X X 5 7 8 X\",\"X X 5 7 X X\",\"3 X 0 0 3 2\"],\"cavaco\":[],\"keyboard\":[\"8 12 3\"],\"ukulele\":[\"0 2 3 5\",\"x x 3 5\",\"0 7 10 10\",\"0 7 3 5\",\"0 2 3 x\",\"0 2 x x\",\"x 7 10 10\",\"x 7 3 5\",\"0 7 10 x\",\"x 7 10 x\",\"0 14 10 10\",\"12 14 10 10\",\"0 14 10 x\",\"12 14 10 x\",\"x 2 3 5\",\"x 2 3 x\",\"7 7 3 5\",\"7 7 10 10\",\"x x 10 10\",\"7 7 3 x\",\"7 7 x x\",\"7 7 10 x\",\"x 14 10 10\"],\"fingers\":\"2 3\"}]\n"
     ]
    }
   ],
   "source": [
    "inicio = acordes.find('chords: ') + 8\n",
    "fim = acordes.find('fingers') + 16\n",
    "acordes = acordes[inicio:fim]\n",
    "print(acordes)"
   ]
  },
  {
   "cell_type": "code",
   "execution_count": 5,
   "metadata": {},
   "outputs": [
    {
     "data": {
      "text/plain": [
       "['Cm7', 'D#', 'D#4', 'D#9', 'G#9', 'A#5']"
      ]
     },
     "execution_count": 5,
     "metadata": {},
     "output_type": "execute_result"
    }
   ],
   "source": [
    "js = json.loads(acordes)\n",
    "#print(js)\n",
    "chords = []\n",
    "for chord in js:\n",
    "    chords.append(chord['chord'])\n",
    "chords"
   ]
  },
  {
   "cell_type": "code",
   "execution_count": 6,
   "metadata": {},
   "outputs": [],
   "source": [
    "# retirando informações do letras.mus.br"
   ]
  },
  {
   "cell_type": "code",
   "execution_count": 7,
   "metadata": {},
   "outputs": [
    {
     "name": "stdout",
     "output_type": "stream",
     "text": [
      "200\n"
     ]
    }
   ],
   "source": [
    "r = req.get('https://www.letras.mus.br/kell-smith/era-uma-vez/')\n",
    "print(r.status_code)"
   ]
  },
  {
   "cell_type": "code",
   "execution_count": 8,
   "metadata": {},
   "outputs": [],
   "source": [
    "texto = r.content\n",
    "#print(texto)\n",
    "letra = scp(text=texto).xpath('//div[@class=\"cnt-letra p402_premium\"]/article/p/text()').extract()\n",
    "qtd_exibicoes = list(scp(text=texto).xpath('//div[@class=\"cnt-info_exib\"]/b/text()').extract_first())\n",
    "qtd_exibicoes.remove(\".\")\n",
    "qtd_exibicoes = int(''.join(qtd_exibicoes))\n",
    "genero = scp(text=texto).xpath('//div[@id=\"breadcrumb\"]/span/a/span/text()').extract()[1]"
   ]
  },
  {
   "cell_type": "code",
   "execution_count": 9,
   "metadata": {},
   "outputs": [
    {
     "name": "stdout",
     "output_type": "stream",
     "text": [
      "823117\n",
      "Pop\n"
     ]
    }
   ],
   "source": [
    "len(list(set(' '.join(acordes).lower().split(' '))))\n",
    "print(qtd_exibicoes)\n",
    "print(genero)"
   ]
  },
  {
   "cell_type": "code",
   "execution_count": 10,
   "metadata": {},
   "outputs": [],
   "source": [
    "# scrapy do site dos hits"
   ]
  },
  {
   "cell_type": "code",
   "execution_count": 11,
   "metadata": {},
   "outputs": [
    {
     "name": "stdout",
     "output_type": "stream",
     "text": [
      "200\n"
     ]
    }
   ],
   "source": [
    "sitehits = req.get('http://www.mofolandia.com.br/mofolandia_nova/musica_tophits_81.htm')\n",
    "print(sitehits.status_code)"
   ]
  },
  {
   "cell_type": "code",
   "execution_count": 12,
   "metadata": {},
   "outputs": [
    {
     "data": {
      "text/plain": [
       "['Bette Davis Eyes - Kim Carnes',\n",
       " 'Baila Comigo - Rita Lee',\n",
       " 'Nos Bailes da Vida - MIlton Nascimento',\n",
       " 'Emoções - Roberto Carlos',\n",
       " 'Endless Love - Diana Ross & Lionel Richie',\n",
       " '(Just Like) Starting Over - John Lennon',\n",
       " 'Clarear - Roupa Nova',\n",
       " 'Palco - Gilberto Gil',\n",
       " 'Lança Perfume - Rita Lee',\n",
       " \"Arthur's Theme (Best That You Can Do) - Christopher Cross\",\n",
       " 'Deixa Chover - Guilherme Arantes',\n",
       " 'Nova Manhã - 14-Bis',\n",
       " 'Lua e Estrela - Caetano Veloso',\n",
       " 'Kiss On My List - Daryl Hall & John Oates',\n",
       " 'Se Eu Quiser Falar Com Deus - Gilberto Gil',\n",
       " 'Woman - John Lennon',\n",
       " 'Paixão - Kleiton & Kledir',\n",
       " 'The One That You Love - Air Supply',\n",
       " 'Caçador de Mim - Milton Nascimento',\n",
       " 'Time - Alan Parsons Project',\n",
       " 'Keep On Loving You - REO Speedwagon',\n",
       " 'Guilty - Barbra Streisand & Barry Gibb',\n",
       " 'Eternas Ondas - Fagner',\n",
       " 'Living Inside Myself - Gino Vannelli',\n",
       " 'Bem-Te-Vi - Renato Terra',\n",
       " 'Cama e Mesa - Roberto Carlos',\n",
       " 'Eu Também Quero Beijar - Pepeu Gomes',\n",
       " 'Neném - Boca Livre',\n",
       " 'Conga, Conga, Conga - Gretchen',\n",
       " 'Abre Coração - Marcelo',\n",
       " 'Celebration - Kool & The Gang',\n",
       " 'Shine On - L.T.D.',\n",
       " 'Decisão - Joanna',\n",
       " 'Just The Two Of Us - Groover Washington Jr.',\n",
       " 'For Your Eyes Only - Sheena Easton',\n",
       " 'Luiza - Tom Jobim',\n",
       " 'Eu Me Rendo - Fábio Jr.',\n",
       " 'Outras Palavras - Caetano Veloso',\n",
       " 'O Sal da Terra - Beto Guedes',\n",
       " 'Quero Quero - Cláudio Nucci',\n",
       " 'Canção de Verão - Roupa Nova',\n",
       " 'Morning Train (Nine To Five) - Sheena Easton',\n",
       " 'All Those Years Ago - George Harrison',\n",
       " 'Crying - Don McLean',\n",
       " 'Daquilo Que Eu Sei - Ivan Lins',\n",
       " 'Hearts - Marty Balin',\n",
       " 'Reality - Richard Sanderson',\n",
       " 'Rapture - Blondie',\n",
       " 'A Chuva Cai - Beth Carvalho',\n",
       " 'Homem Com H - Ney Matogrosso\\xa0',\n",
       " 'Lady (You Bring Me Up) - Commodores',\n",
       " 'Without Your Love - Roger Daltrey',\n",
       " 'Being With You - Smokey Robinson',\n",
       " 'Take Me Now - David Gates',\n",
       " 'Seduzir - Djavan',\n",
       " 'Para Ser o Sol - A Cor do Som',\n",
       " 'Me Deixas Louca - Elis Regina',\n",
       " 'Tell It Like It Is - Heart',\n",
       " 'Dia Branco - Geraldo Azevedo',\n",
       " 'Tesouros da Juventude - Lulu Santos',\n",
       " 'The Best Of Times - Styx',\n",
       " 'Purpurina - Lucinha Lins',\n",
       " 'Theme From \"Greatest American Hero\" - Joey Scarbury',\n",
       " \"You Weren't In Love - Mick Fleetwood\",\n",
       " '9 To 5 - Dolly Parton',\n",
       " \"What's In A Kiss? - Gilbert O'Sullivan\",\n",
       " 'Portela na Avenida - Clara Nunes',\n",
       " 'Bem Simples - Roupa Nova',\n",
       " 'Corações a Mil - Marina',\n",
       " 'A Woman Needs Love - Ray Parker Jr & Raydio',\n",
       " 'Agora Só Falta Você - Zizi Possi',\n",
       " 'Coração Cigano - Wando',\n",
       " 'Zanzibar - A Cor do Som',\n",
       " 'Vira Virou - Kleiton & Kledir',\n",
       " 'Good Thing Going - Sugar Minott',\n",
       " 'Onde a Dor Não Tem Razão - Paulinho da Viola',\n",
       " 'Pega na Mentira - Erasmo Carlos',\n",
       " \"I Don't Need You - Kenny Rogers\",\n",
       " 'Love On The Rocks - Neil Diamond',\n",
       " 'A Terceira Lâmina - Zé Ramalho',\n",
       " 'Estrela Guia - Joanna',\n",
       " 'Gata Todo Dia - Marina',\n",
       " 'Old Photographs - Jim Capaldi',\n",
       " 'Shaddap You Face - Joe Dolce',\n",
       " 'Hurt - Carly Simon',\n",
       " 'Sentinela - Milton Nascimento',\n",
       " 'Perdidos na Selva - Gang 90 & As Absurdettes',\n",
       " 'If Leaving Me Is Easy - Phil Collins',\n",
       " 'Physical - Olivia Newton-John',\n",
       " 'Planeta Água - Guilherme Arantes',\n",
       " 'Stars on 45 (medley) - Stars On 45',\n",
       " 'Vida - Beth Goulart',\n",
       " 'Viajante - Ney Matogrosso',\n",
       " 'Vevecos, Panelas e Canelas - Beto Guedes',\n",
       " \"Comin' In And Out Of Your Life - Barbra Streisand\",\n",
       " 'Do You Miss Me - Morris Albert',\n",
       " 'Eu Velejava em Você - Zizi Possi',\n",
       " 'Eu Voltei - Cláudia Telles',\n",
       " 'Mordomia - Almir Guineto',\n",
       " 'Meu Bem Meu Mal - Gal Costa']"
      ]
     },
     "execution_count": 12,
     "metadata": {},
     "output_type": "execute_result"
    }
   ],
   "source": [
    "texto = sitehits.content.decode('iso8859-1')\n",
    "#print(texto)\n",
    "lista_hits81 = scp(text=texto).xpath('//font[@face=\"Arial\"]/text()').extract()\n",
    "#print(lista_hits81)\n",
    "lista81_nova = []\n",
    "\n",
    "for musica in lista_hits81:\n",
    "    laux = list(musica)\n",
    "    laux.remove(\"\\n\")\n",
    "    laux.remove(\"\\r\")\n",
    "    lista81_nova.append(\"\".join(laux).replace(\"      \",' '))\n",
    "lista81_nova "
   ]
  },
  {
   "cell_type": "code",
   "execution_count": 57,
   "metadata": {},
   "outputs": [
    {
     "data": {
      "text/plain": [
       "200"
      ]
     },
     "execution_count": 57,
     "metadata": {},
     "output_type": "execute_result"
    }
   ],
   "source": [
    "post_tentativa = req.get(\"https://duckduckgo.com/?q=Bette+Davis+Eyes+-+Kim+Carnes+letras.mus.br&t=h_&ia=web\")\n",
    "post_tentativa.status_code"
   ]
  },
  {
   "cell_type": "code",
   "execution_count": 58,
   "metadata": {},
   "outputs": [
    {
     "name": "stdout",
     "output_type": "stream",
     "text": [
      "b'<!DOCTYPE html><!--[if IEMobile 7 ]> <html lang=\"en_US\" class=\"no-js iem7\"> <![endif]--><!--[if lt IE 7]> <html lang=\"en_US\" class=\"no-js ie6 lt-ie10 lt-ie9 lt-ie8 lt-ie7\"><![endif]--><!--[if IE 7]>    <html lang=\"en_US\" class=\"no-js ie7 lt-ie10 lt-ie9 lt-ie8\"> <![endif]--><!--[if IE 8]>    <html lang=\"en_US\" class=\"no-js ie8 lt-ie10 lt-ie9  has-zcm\"><![endif]--><!--[if IE 9]>    <html lang=\"en_US\" class=\"no-js ie9 lt-ie10 has-zcm\"> <![endif]--><!--[if (gte IE 9)|(gt IEMobile 7)|!(IEMobile)|!(IE)]><!--><html class=\"no-js has-zcm  \"><!--<![endif]--><head><meta http-equiv=\"X-UA-Compatible\" content=\"IE=edge, chrome=1\"><meta http-equiv=\"content-type\" content=\"text/html; charset=utf-8\"><title>Bette Davis Eyes - Kim Carnes letras.mus.br at DuckDuckGo</title><link rel=\"stylesheet\" href=\"/s1516.css\" type=\"text/css\"><link rel=\"stylesheet\" href=\"/r1516.css\" type=\"text/css\"><link rel=\"manifest\" href=\"manifest.json\"><meta name=\"robots\" content=\"noindex,nofollow\"><meta name=\"referrer\" content=\"origin\"><link rel=\"shortcut icon\" href=\"/favicon.ico\" type=\"image/x-icon\" sizes=\"16x16 24x24 32x32 64x64\"/><link rel=\"apple-touch-icon\" href=\"/assets/icons/meta/DDG-iOS-icon_60x60.png\"/><link rel=\"apple-touch-icon\" sizes=\"76x76\" href=\"/assets/icons/meta/DDG-iOS-icon_76x76.png\"/><link rel=\"apple-touch-icon\" sizes=\"120x120\" href=\"/assets/icons/meta/DDG-iOS-icon_120x120.png\"/><link rel=\"apple-touch-icon\" sizes=\"152x152\" href=\"/assets/icons/meta/DDG-iOS-icon_152x152.png\"/><link rel=\"image_src\" href=\"/assets/icons/meta/DDG-icon_256x256.png\"/><script type=\"text/javascript\">var ct,fd,fq,it,iqa,iqm,iqs,iqp,iqq,qw,dl,ra,rv,rad,r1hc,r1c,r2c,r3c,rfq,rq,rds,rs,rt,rl,y,y1,ti,tig,iqd,locale,settings_js_version=\\'s2314\\',is_twitter=\\'\\';fq=0;fd=1;it=0;iqa=0;iqbi=0;iqm=1;iqs=0;iqp=0;iqq=0;qw=7;dl=\\'en\\';ct=\\'BR\\';iqd=0;r1hc=0;r1c=0;r3c=0;rq=\\'Bette%20Davis%20Eyes%20%2D%20Kim%20Carnes%20letras.mus.br\\';rqd=\"Bette Davis Eyes - Kim Carnes letras.mus.br\";rfq=0;rt=\\'\\';ra=\\'h_\\';rv=\\'\\';rad=\\'\\';rds=30;rs=0;spice_version=\\'1360\\';spice_paths=\\'{}\\';locale=\\'en_US\\';settings_url_params={};rl=\\'us-en\\';rlo=0;df=\\'\\';ds=\\'\\';sfq=\\'\\';iar=\\'\\';vqd=\\'310352182820460690721598013595230749863\\';</script><meta name=\"viewport\" content=\"width=device-width, initial-scale=1, maximum-scale=1, user-scalable=0\" /><meta name=\"HandheldFriendly\" content=\"true\" /><meta name=\"apple-mobile-web-app-capable\" content=\"no\" /></head><body class=\"body--serp\"><input id=\"state_hidden\" name=\"state_hidden\" type=\"text\" size=\"1\"><span class=\"hide\">Ignore this box please.</span><div id=\"spacing_hidden_wrapper\"><div id=\"spacing_hidden\"></div></div><script type=\"text/javascript\" src=\"/locales/en_US/LC_MESSAGES/duckduckgo-duckduckgo+sprintf+gettext+locale-simple.20180105.093004.js\"></script><script type=\"text/javascript\" src=\"/lib/l109.js\"></script><script type=\"text/javascript\" src=\"/util/u164.js\"></script><script type=\"text/javascript\" src=\"/d2314.js\"></script><div class=\"site-wrapper  js-site-wrapper\"><div id=\"header_wrapper\" class=\"header-wrap js-header-wrap\"><div id=\"header\" class=\"header  cw\"><div class=\"header__search-wrap\"><a tabindex=\"-1\" href=\"/?t=h_\" class=\"header__logo-wrap js-header-logo\"><span class=\"header__logo js-logo-ddg\">DuckDuckGo</span></a><div class=\"header__content  header__search\"><form id=\"search_form\" class=\"search--adv  search--header  js-search-form\" name=\"x\" action=\"/\"><input type=\"text\" name=\"q\" tabindex=\"1\" autocomplete=\"off\" id=\"search_form_input\" class=\"search__input--adv  js-search-input\" value=\"Bette Davis Eyes - Kim Carnes letras.mus.br\"><input id=\"search_form_input_clear\" class=\"search__clear  js-search-clear\" type=\"button\" tabindex=\"3\" value=\"X\"/><input id=\"search_button\" class=\"search__button  js-search-button\" type=\"submit\" tabindex=\"2\" value=\"S\" /><a id=\"search_dropdown\" class=\"search__dropdown\" href=\"javascript:;\" tabindex=\"4\"></a><div id=\"search_elements_hidden\" class=\"search__hidden  js-search-hidden\"></div></form></div></div><div id=\"duckbar\" class=\"zcm-wrap  zcm-wrap--header  is-noscript-hidden\"></div></div></div><div id=\"zero_click_wrapper\" class=\"zci-wrap\"></div><div id=\"vertical_wrapper\" class=\"verticals\"></div><div id=\"web_content_wrapper\" class=\"content-wrap \"><div class=\"serp__top-right  js-serp-top-right\"></div><div class=\"serp__bottom-right  js-serp-bottom-right\"><div class=\"js-feedback-btn-wrap\"></div></div><div class=\"cw\"><div id=\"links_wrapper\" class=\"serp__results js-serp-results\"><div class=\"results--main\"><div class=\"search-filters-wrap\"><div class=\"js-search-filters search-filters\"></div></div><noscript><meta http-equiv=\"refresh\" content=\"0;URL=/html?q=Bette%20Davis%20Eyes%20%2D%20Kim%20Carnes%20letras.mus.br\"><link href=\"/css/noscript.css\" rel=\"stylesheet\" type=\"text/css\"><div class=\"msg msg--noscript\"><p class=\"msg-title--noscript\">You are being redirected to the non-JavaScript site.</p>Click <a href=\"/html/?q=Bette%20Davis%20Eyes%20%2D%20Kim%20Carnes%20letras.mus.br\">here</a> if it doesn\\'t happen automatically.</div></noscript><div class=\"ia-modules js-ia-modules\"></div><div id=\"message\" class=\"results--message\"></div><div id=\"ads\" class=\"results--ads results--ads--main is-hidden js-results-ads\"></div><div id=\"links\" class=\"results is-hidden js-results\"></div></div><div class=\"results--sidebar js-results-sidebar\"><div class=\"sidebar-modules js-sidebar-modules\"></div><div class=\"is-hidden js-sidebar-ads\"></div></div></div></div></div><div id=\"bottom_spacing2\"> </div></div><script type=\"text/javascript\"></script><script type=\"text/JavaScript\">function nrji() {nrj(\\'/t.js?q=Bette%20Davis%20Eyes%20%2D%20Kim%20Carnes%20letras.mus.br&l=us-en&p=1&s=0&dl=en&ct=BR&ss_mkt=us&yhs=1\\');nrje(\\'/d.js?q=Bette%20Davis%20Eyes%20%2D%20Kim%20Carnes%20letras.mus.br&l=us-en&p=1&s=0&a=h_&dl=en&ct=BR&ss_mkt=us&vqd=310352182820460690721598013595230749863&yhs=1\\',\\'/d.js?q=Bette%20Davis%20Eyes%20%2D%20Kim%20Carnes%20letras.mus.br&l=us-en&p=1&s=0&a=h_&dl=en&ct=BR&ss_mkt=us&vqd=310352182820460690721598013595230749863&yhs=1\\');;};DDG.ready(nrji, 1);</script><script src=\"/g1814.js\"></script><script type=\"text/javascript\">DDG.page = new DDG.Pages.SERP({ showSafeSearch: 0, instantAnswerAds: false });</script><div id=\"z2\"> </div><div id=\"z\"></div></body></html>'\n"
     ]
    }
   ],
   "source": [
    "print(post_tentativa.content)"
   ]
  },
  {
   "cell_type": "code",
   "execution_count": 17,
   "metadata": {},
   "outputs": [
    {
     "data": {
      "text/plain": [
       "[]"
      ]
     },
     "execution_count": 17,
     "metadata": {},
     "output_type": "execute_result"
    }
   ],
   "source": [
    "#letra = scp(text=post_tentativa.content).xpath('//div[@class=\"gs-per-result-labels\"]').extract()\n",
    "#letra"
   ]
  },
  {
   "cell_type": "code",
   "execution_count": 20,
   "metadata": {},
   "outputs": [],
   "source": [
    "# tentativa com requests falha\n",
    "# tentando com webdrive selenium\n",
    "from selenium import webdriver\n",
    "from selenium.webdriver.chrome.options import Options"
   ]
  },
  {
   "cell_type": "code",
   "execution_count": 74,
   "metadata": {},
   "outputs": [
    {
     "name": "stdout",
     "output_type": "stream",
     "text": [
      "<!DOCTYPE html><!--[if IEMobile 7 ]> <html lang=\"pt_BR\" class=\"no-js iem7\"> <![endif]--><!--[if lt IE 7]> <html lang=\"pt_BR\" class=\"no-js ie6 lt-ie10 lt-ie9 lt-ie8 lt-ie7\"><![endif]--><!--[if IE 7]>    <html lang=\"pt_BR\" class=\"no-js ie7 lt-ie10 lt-ie9 lt-ie8\"> <![endif]--><!--[if IE 8]>    <html lang=\"pt_BR\" class=\"no-js ie8 lt-ie10 lt-ie9  has-zcm\"><![endif]--><!--[if IE 9]>    <html lang=\"pt_BR\" class=\"no-js ie9 lt-ie10 has-zcm\"> <![endif]--><!--[if (gte IE 9)|(gt IEMobile 7)|!(IEMobile)|!(IE)]><!--><html class=\"has-zcm   js touch opacity csstransforms3d csstransitions svg cssfilters is-mobile is-mobile-device full-urls\"><!--<![endif]--><head><meta http-equiv=\"X-UA-Compatible\" content=\"IE=edge, chrome=1\"><meta http-equiv=\"content-type\" content=\"text/html; charset=utf-8\"><title>Bette Davis Eyes - Kim Carnes letras.mus.br em DuckDuckGo</title><link rel=\"stylesheet\" href=\"/s1516.css\" type=\"text/css\"><link rel=\"stylesheet\" href=\"/r1516.css\" type=\"text/css\"><link rel=\"manifest\" href=\"manifest.json\"><meta name=\"robots\" content=\"noindex,nofollow\"><meta name=\"referrer\" content=\"origin\"><link rel=\"shortcut icon\" href=\"/favicon.ico\" type=\"image/x-icon\" sizes=\"16x16 24x24 32x32 64x64\"><link rel=\"apple-touch-icon\" href=\"/assets/icons/meta/DDG-iOS-icon_60x60.png\"><link rel=\"apple-touch-icon\" sizes=\"76x76\" href=\"/assets/icons/meta/DDG-iOS-icon_76x76.png\"><link rel=\"apple-touch-icon\" sizes=\"120x120\" href=\"/assets/icons/meta/DDG-iOS-icon_120x120.png\"><link rel=\"apple-touch-icon\" sizes=\"152x152\" href=\"/assets/icons/meta/DDG-iOS-icon_152x152.png\"><link rel=\"image_src\" href=\"/assets/icons/meta/DDG-icon_256x256.png\"><script type=\"text/javascript\" async=\"\" src=\"/a.js?q=bette%20davis%20eyes%20%20kim%20carnes%20letrasmusbr&amp;s=lyrics&amp;p=1&amp;from=lyrics\"></script><script type=\"text/javascript\" async=\"\" src=\"/d.js?q=Bette%20Davis%20Eyes%20%2D%20Kim%20Carnes%20letras.mus.br&amp;l=br-pt&amp;p=1&amp;s=0&amp;dl=pt&amp;ct=BR&amp;ss_mkt=br&amp;vqd=310352182820460690721598013595230762839\"></script><script type=\"text/javascript\" async=\"\" src=\"/t.js?q=Bette%20Davis%20Eyes%20%2D%20Kim%20Carnes%20letras.mus.br&amp;l=br-pt&amp;p=1&amp;s=0&amp;dl=pt&amp;ct=BR&amp;ss_mkt=br\"></script><script type=\"text/javascript\">var ct,fd,fq,it,iqa,iqm,iqs,iqp,iqq,qw,dl,ra,rv,rad,r1hc,r1c,r2c,r3c,rfq,rq,rds,rs,rt,rl,y,y1,ti,tig,iqd,locale,settings_js_version='s2314',is_twitter='';fq=0;fd=1;it=0;iqa=0;iqbi=0;iqm=1;iqs=0;iqp=0;iqq=0;qw=7;dl='pt';ct='BR';iqd=0;r1hc=0;r1c=0;r3c=0;rq='Bette%20Davis%20Eyes%20%2D%20Kim%20Carnes%20letras.mus.br';rqd=\"Bette Davis Eyes - Kim Carnes letras.mus.br\";rfq=0;rt='';ra='';rv='';rad='';rds=30;rs=0;spice_version='1360';spice_paths='{}';locale='pt_BR';settings_url_params={};rl='br-pt';rlo=0;df='';ds='';sfq='';iar='';vqd='310352182820460690721598013595230762839';</script><meta name=\"viewport\" content=\"width=device-width, initial-scale=1, maximum-scale=1, user-scalable=0\"><meta name=\"HandheldFriendly\" content=\"true\"><meta name=\"apple-mobile-web-app-capable\" content=\"no\"><link title=\"DuckDuckGo\" type=\"application/opensearchdescription+xml\" rel=\"search\" href=\"https://duckduckgo.com/opensearch.xml?atb=v98-3__\"></head><body class=\"body--serp\"><input id=\"state_hidden\" name=\"state_hidden\" type=\"text\" size=\"1\"><span class=\"hide\">por favor, ignore este quadro.</span><div id=\"spacing_hidden_wrapper\"><div id=\"spacing_hidden\"></div></div><script type=\"text/javascript\" src=\"/locales/pt_BR/LC_MESSAGES/duckduckgo-duckduckgo+sprintf+gettext+locale-simple.20180105.093004.js\"></script><script type=\"text/javascript\" src=\"/lib/l109.js\"></script><script type=\"text/javascript\" src=\"/util/u164.js\"></script><script type=\"text/javascript\" src=\"/d2314.js\"></script><div class=\"site-wrapper  js-site-wrapper\"><div id=\"header_wrapper\" class=\"header-wrap js-header-wrap\"><div id=\"header\" class=\"header  cw\"><div class=\"header__search-wrap\"><a tabindex=\"-1\" href=\"/\" class=\"header__logo-wrap js-header-logo\"><span class=\"header__logo js-logo-ddg\">DuckDuckGo</span></a><div class=\"header__content  header__search\"><form id=\"search_form\" class=\"search--adv  search--header  js-search-form has-text\" name=\"x\" action=\"/\" method=\"GET\"><input type=\"text\" name=\"q\" tabindex=\"1\" autocomplete=\"off\" id=\"search_form_input\" class=\"search__input--adv  js-search-input\" value=\"Bette Davis Eyes - Kim Carnes letras.mus.br\" autocapitalize=\"off\" autocorrect=\"off\"><input id=\"search_form_input_clear\" class=\"search__clear  js-search-clear\" type=\"button\" tabindex=\"3\" value=\"X\"><input id=\"search_button\" class=\"search__button  js-search-button\" type=\"submit\" tabindex=\"2\" value=\"S\"><a id=\"search_dropdown\" class=\"search__dropdown\" href=\"javascript:;\" tabindex=\"4\"></a><div id=\"search_elements_hidden\" class=\"search__hidden  js-search-hidden\"></div><div class=\"search__autocomplete\" style=\"position: absolute; display: none;\"><div class=\"acp-wrap\"></div><div class=\"acp-footer is-hidden\"><span class=\"acp-footer__instructions\">Selecione um !bang para uma busca direta em um site</span><span class=\"acp-footer__link\"><a class=\"no-visited\" href=\"/bang\">Mais sobre !bangs</a></span></div></div></form></div></div><div id=\"duckbar\" class=\"zcm-wrap  zcm-wrap--header  is-noscript-hidden\"><div class=\"zcm\"><ul class=\"zcm__menu zcm__constant has-zci\" id=\"duckbar_static\"><li class=\"zcm__item\"><a data-zci-link=\"web\" class=\"zcm__link  js-zci-link  js-zci-link--web  is-active\" href=\"#\">Web</a></li><li class=\"zcm__item\"><a data-zci-link=\"images\" class=\"zcm__link  js-zci-link  js-zci-link--images\" href=\"#\">Imagens</a></li><li class=\"zcm__item\"><a data-zci-link=\"videos\" class=\"zcm__link  js-zci-link  js-zci-link--videos\" href=\"#\">Vídeos</a></li><li class=\"zcm__item\"><a data-zci-link=\"news\" class=\"zcm__link  js-zci-link  js-zci-link--news\" href=\"#\">Notícias</a></li></ul><ul class=\"zcm__menu zcm__dynamic\" id=\"duckbar_new\"><span id=\"duckbar_dynamic_sep\" class=\"zcm__sep--h sep--before is-hidden\"></span></ul></div></div></div><div class=\"header--aside\"><a class=\"header__button--menu  js-side-menu-open\" href=\"#\">⇶</a></div><div class=\"header--aside\"><div class=\"showcase\"><span class=\"js-showcase-button\" aria-haspopup=\"true\" aria-label=\"Confira a lista de coisas que fizemos também.\" role=\"button\" aria-pressed=\"false\"><span class=\"header--aside__msg showcase__label\" id=\"wedonttrack\">Não rastreamos você</span></span><div class=\"header--aside__msg sep--after\"><span class=\"popout-trig  js-popout\"><span class=\"js-popout-link js-showcase-button ddgsi ddgsi-down showcase__dropdown\" aria-hidden=\"true\"></span><div class=\"modal modal--popout modal--popout--bottom-left modal--popout--sm  js-popout-main showcase__dropdown__modal\"><div class=\"modal__box\"><div class=\"modal__body pd--none\"><nav aria-labelledby=\"wedonttrack\"><section class=\"showcase__dropdown-top\"><ul aria-label=\"Aqui estão algumas coisas que fizemos que você pode gostar.\"><li class=\"fix showcase__dropdown__list\"><a href=\"https://spreadprivacy.com/\" class=\"eighteen js-showcase-item\" aria-hidden=\"true\" data-id=\"blog\"><div class=\"privacy-icon\"></div></a><a href=\"https://spreadprivacy.com/\" class=\"text-left showcase__link eighty js-showcase-item\" data-id=\"blog\"><h1 class=\"showcase__heading tx-clr--dk\">Receba Dicas de Privacidade</h1><p class=\"showcase__subheading\">Encontre dicas úteis de privacidade no nosso blog.</p></a></li><li class=\"fix showcase__dropdown__list\"><a href=\"https://duckduckgo.com/spread\" class=\"eighteen js-showcase-item\" aria-hidden=\"true\" data-id=\"spread\"><div class=\"spread-icon\"></div></a><a href=\"https://duckduckgo.com/spread\" class=\"text-left showcase__link eighty js-showcase-item\" data-id=\"spread\"><h1 class=\"showcase__heading tx-clr--dk\">Spread DuckDuckGo</h1><p class=\"showcase__subheading\">Ajude seus amigos e sua família a virem para o lado do Pato!</p></a></li><li class=\"fix showcase__dropdown__list\"><a href=\"https://duckduckgo.com/bang\" class=\"eighteen js-showcase-item\" aria-hidden=\"true\" data-id=\"bangs\"><div class=\"bangs-icon\"></div></a><a href=\"https://duckduckgo.com/bang\" class=\"text-left showcase__link eighty js-showcase-item\" data-id=\"bangs\"><h1 class=\"showcase__heading tx-clr--dk\">Saiba mais sobre Bangs</h1><p class=\"showcase__subheading\">Pesquise milhares de sites diretamente no DuckDuckGo.</p></a></li></ul></section><section class=\"showcase__dropdown-bottom\"><ul class=\"text-left\" aria-label=\"We've got even more things for you.\"><li class=\"fix showcase__dropdown__list\"><a href=\"https://duckduckgo.com/donations\" class=\"eighteen showcase__icon js-showcase-item\" aria-hidden=\"true\" data-id=\"donations\"><div class=\"donations-icon\"></div></a><a href=\"https://duckduckgo.com/donations\" class=\"text-left showcase__link eighty showcase__text tx-clr--dk2 js-showcase-item\" data-id=\"donations\">$800,000 in privacy donations!</a></li><li class=\"fix showcase__dropdown__list\"><a href=\"https://duckduckgo.com/traffic\" class=\"eighteen showcase__icon js-showcase-item\" aria-hidden=\"true\" data-id=\"traffic\"><div class=\"traffic-icon\"></div></a><a href=\"https://duckduckgo.com/traffic\" class=\"text-left showcase__link eighty showcase__text tx-clr--dk2 js-showcase-item\" data-id=\"traffic\">Mais de 15 bilhões de buscas anônimas.</a></li><li class=\"fix showcase__dropdown__list\"><a href=\"https://donttrack.us/\" class=\"eighteen showcase__icon js-showcase-item\" aria-hidden=\"true\" data-id=\"dnt\"><div class=\"donttrack-icon\"></div></a><a href=\"https://donttrack.us/\" class=\"text-left showcase__link eighty showcase__text tx-clr--dk2 js-showcase-item\" data-id=\"dnt\">Aprenda por que reduzir o rastreamento é importante.</a></li></ul></section></nav></div></div></div></span></div></div><a aria-label=\"Twitter\" class=\"header--aside__twitter js-showcase-twitter\" href=\"https://twitter.com/duckduckgo\"></a></div></div><div id=\"zero_click_wrapper\" class=\"zci-wrap\"></div><div id=\"vertical_wrapper\" class=\"verticals\"></div><div id=\"web_content_wrapper\" class=\"content-wrap\"><div class=\"serp__top-right  js-serp-top-right\"></div><div class=\"serp__bottom-right  js-serp-bottom-right\"><div class=\"js-feedback-btn-wrap\"></div><div id=\"powered_by\" class=\"results--powered\"><a href=\"https://duck.co/help/results/sources\" target=\"_blank\">Em sociedade com</a><a href=\"/yandex/\" target=\"_blank\" class=\"results--powered__badge-link\"> <span class=\"results--powered__badge  badge--yandex\" title=\"yandex\"></span></a></div></div><div class=\"cw\"><div id=\"links_wrapper\" class=\"serp__results js-serp-results\"><div class=\"results--main\"><div class=\"search-filters-wrap\"><div class=\"js-search-filters search-filters\"><div class=\"dropdown dropdown--region is-active has-inactive-region\"><div class=\"dropdown__switch switch js-region-filter-switch \"><span class=\"switch__knob\"></span></div><a class=\"dropdown__button dropdown__button js-dropdown-button\">Brasil</a></div><div class=\"dropdown  dropdown--safe-search \"><a href=\"#\" class=\"dropdown__button js-dropdown-button\">Pesquisa segura: Restringir</a></div><div class=\"dropdown  dropdown--date \"><a href=\"#\" class=\"dropdown__button js-dropdown-button\">Qualquer hora</a></div></div></div><noscript>&lt;meta http-equiv=\"refresh\" content=\"0;URL=/html?q=Bette%20Davis%20Eyes%20%2D%20Kim%20Carnes%20letras.mus.br\"&gt;&lt;link href=\"/css/noscript.css\" rel=\"stylesheet\" type=\"text/css\"&gt;&lt;div class=\"msg msg--noscript\"&gt;&lt;p class=\"msg-title--noscript\"&gt;You are being redirected to the non-JavaScript site.&lt;/p&gt;Click &lt;a href=\"/html/?q=Bette%20Davis%20Eyes%20%2D%20Kim%20Carnes%20letras.mus.br\"&gt;aqui&lt;/a&gt; if it doesn't happen automatically.&lt;/div&gt;</noscript><div class=\"ia-modules js-ia-modules\"></div><div id=\"message\" class=\"results--message\"></div><div id=\"ads\" class=\"results--ads results--ads--main js-results-ads\"></div><div id=\"links\" class=\"results js-results\"><div id=\"r1-0\" class=\"result results_links_deep highlight_d\" data-domain=\"letras.mus.br\" data-hostname=\"www.letras.mus.br\" data-nir=\"1\"><div class=\"result__body links_main links_deep\"><h2 class=\"result__title\"><a class=\"result__a\" rel=\"noopener\" href=\"https://www.letras.mus.br/carnes-kim/78326/\"><b>Bette</b> <b>Davis</b> <b>Eyes</b> - <b>Kim</b> <b>Carnes</b> - <b>LETRAS.MUS.BR</b></a><a rel=\"noopener\" class=\"result__check\" href=\"https://www.letras.mus.br/carnes-kim/78326/\"><span class=\"result__check__tt\">Seu navegador diz que você já visitou este link</span></a></h2><div class=\"result__snippet\">Letras de músicas - <b>Letras.mus.br</b>. menu. Ver todas as músicas de <b>Kim</b> <b>Carnes</b> →. <b>Bette</b> <b>Davis</b> <b>Eyes</b>. I'll Be Here Where The Heart Is. More Love.</div><div class=\"result__extras\"><div class=\"result__extras__url\"><span class=\"result__icon\"><a href=\"/?q=Bette%20Davis%20Eyes%20%2D%20Kim%20Carnes%20letras.mus.br+site:www.letras.mus.br\" title=\"Procurar no domínio www.letras.mus.br\"><img height=\"16\" width=\"16\" title=\"Procurar no domínio www.letras.mus.br\" class=\"result__icon__img js-lazyload-icons\" data-src=\"//icons.duckduckgo.com/ip3/www.letras.mus.br.ico\" src=\"//icons.duckduckgo.com/ip3/www.letras.mus.br.ico\"></a></span><a class=\"result__url\" rel=\"noopener\" href=\"https://www.letras.mus.br/carnes-kim/78326/\"><span class=\"result__url__domain\">https://www.letras.mus.br</span><span class=\"result__url__full\">/carnes-kim/78326/</span></a></div><a href=\"/?q=Bette%20Davis%20Eyes%20%2D%20Kim%20Carnes%20letras.mus.br+site:www.letras.mus.br\" title=\"Procurar no domínio www.letras.mus.br\" class=\"result__menu\">Mais resultados</a></div></div></div><div id=\"r1-1\" class=\"result results_links_deep highlight_d\" data-domain=\"letras.mus.br\" data-hostname=\"www.letras.mus.br\" data-nir=\"1\"><div class=\"result__body links_main links_deep\"><h2 class=\"result__title\"><a class=\"result__a\" rel=\"noopener\" href=\"https://www.letras.mus.br/carnes-kim/\"><b>Kim</b> <b>Carnes</b> - <b>LETRAS.MUS.BR</b></a><a rel=\"noopener\" class=\"result__check\" href=\"https://www.letras.mus.br/carnes-kim/\"><span class=\"result__check__tt\">Seu navegador diz que você já visitou este link</span></a></h2><div class=\"result__snippet\">Veja as letras de <b>Kim</b> <b>Carnes</b> e ouça \"<b>Bette</b> <b>Davis</b> <b>Eyes</b>\", \"I'll Be Here Where The Heart Is\", \"More Love\" e muito mais músicas! Letras de músicas - <b>Letras.mus.br</b>. menu. buscar.</div><div class=\"result__extras\"><div class=\"result__extras__url\"><span class=\"result__icon\"><a href=\"/?q=Bette%20Davis%20Eyes%20%2D%20Kim%20Carnes%20letras.mus.br+site:www.letras.mus.br\" title=\"Procurar no domínio www.letras.mus.br\"><img height=\"16\" width=\"16\" title=\"Procurar no domínio www.letras.mus.br\" class=\"result__icon__img js-lazyload-icons\" data-src=\"//icons.duckduckgo.com/ip3/www.letras.mus.br.ico\"></a></span><a class=\"result__url\" rel=\"noopener\" href=\"https://www.letras.mus.br/carnes-kim/\"><span class=\"result__url__domain\">https://www.letras.mus.br</span><span class=\"result__url__full\">/carnes-kim/</span></a></div><a href=\"/?q=Bette%20Davis%20Eyes%20%2D%20Kim%20Carnes%20letras.mus.br+site:www.letras.mus.br\" title=\"Procurar no domínio www.letras.mus.br\" class=\"result__menu\">Mais resultados</a></div></div></div><div id=\"r1-2\" class=\"result results_links_deep highlight_d\" data-domain=\"azlyrics.com\" data-hostname=\"www.azlyrics.com\" data-nir=\"1\"><div class=\"result__body links_main links_deep\"><h2 class=\"result__title\"><a class=\"result__a\" rel=\"noopener\" href=\"https://www.azlyrics.com/lyrics/kimcarnes/bettedaviseyes.html\"><b>Kim</b> <b>Carnes</b> Lyrics - <b>Bette</b> <b>Davis</b> <b>Eyes</b></a><a rel=\"noopener\" class=\"result__check\" href=\"https://www.azlyrics.com/lyrics/kimcarnes/bettedaviseyes.html\"><span class=\"result__check__tt\">Seu navegador diz que você já visitou este link</span></a></h2><div class=\"result__snippet\">\"<b>Bette</b> <b>Davis</b> <b>Eyes</b>\" (originally by Jackie DeShannon). <b>Kim</b> <b>Carnes</b> lyrics are property and copyright of their owners. \"<b>Bette</b> <b>Davis</b> <b>Eyes</b>\" lyrics provided for educational purposes and personal use only.</div><div class=\"result__extras\"><div class=\"result__extras__url\"><span class=\"result__icon\"><a href=\"/?q=Bette%20Davis%20Eyes%20%2D%20Kim%20Carnes%20letras.mus.br+site:www.azlyrics.com\" title=\"Procurar no domínio www.azlyrics.com\"><img height=\"16\" width=\"16\" title=\"Procurar no domínio www.azlyrics.com\" class=\"result__icon__img js-lazyload-icons\" data-src=\"//icons.duckduckgo.com/ip3/www.azlyrics.com.ico\"></a></span><a class=\"result__url\" rel=\"noopener\" href=\"https://www.azlyrics.com/lyrics/kimcarnes/bettedaviseyes.html\"><span class=\"result__url__domain\">https://www.azlyrics.com</span><span class=\"result__url__full\">/lyrics/kimcarnes/bettedaviseyes.html</span></a></div><a href=\"/?q=Bette%20Davis%20Eyes%20%2D%20Kim%20Carnes%20letras.mus.br+site:www.azlyrics.com\" title=\"Procurar no domínio www.azlyrics.com\" class=\"result__menu\">Mais resultados</a></div></div></div><div id=\"r1-3\" class=\"result results_links_deep highlight_d\" data-domain=\"cifraclub.com.br\" data-hostname=\"www.cifraclub.com.br\" data-nir=\"1\"><div class=\"result__body links_main links_deep\"><h2 class=\"result__title\"><a class=\"result__a\" rel=\"noopener\" href=\"https://www.cifraclub.com.br/carnes-kim/bette-davis-eyes/\"><b>BETTE</b> <b>DAVIS</b> <b>EYES</b> - <b>Kim</b> <b>Carnes</b> (cifra para violão...) | Cifra Club</a><a rel=\"noopener\" class=\"result__check\" href=\"https://www.cifraclub.com.br/carnes-kim/bette-davis-eyes/\"><span class=\"result__check__tt\">Seu navegador diz que você já visitou este link</span></a></h2><div class=\"result__snippet\"><b>Kim</b> <b>Carnes</b> - <b>Bette</b> <b>Davis</b> <b>Eyes</b> (cifra para violão e guitarra) - aprenda a tocar com as cifras da música no Cifra Club. Cifra. Letra. Guitar Pro. Acordes para:violão e guitarra.</div><div class=\"result__extras\"><div class=\"result__extras__url\"><span class=\"result__icon\"><a href=\"/?q=Bette%20Davis%20Eyes%20%2D%20Kim%20Carnes%20letras.mus.br+site:www.cifraclub.com.br\" title=\"Procurar no domínio www.cifraclub.com.br\"><img height=\"16\" width=\"16\" title=\"Procurar no domínio www.cifraclub.com.br\" class=\"result__icon__img js-lazyload-icons\" data-src=\"//icons.duckduckgo.com/ip3/www.cifraclub.com.br.ico\"></a></span><a class=\"result__url\" rel=\"noopener\" href=\"https://www.cifraclub.com.br/carnes-kim/bette-davis-eyes/\"><span class=\"result__url__domain\">https://www.cifraclub.com.br</span><span class=\"result__url__full\">/carnes-kim/bette-davis-eyes/</span></a></div><a href=\"/?q=Bette%20Davis%20Eyes%20%2D%20Kim%20Carnes%20letras.mus.br+site:www.cifraclub.com.br\" title=\"Procurar no domínio www.cifraclub.com.br\" class=\"result__menu\">Mais resultados</a></div></div></div><div id=\"r1-4\" class=\"result results_links_deep highlight_d\" data-domain=\"genius.com\" data-hostname=\"genius.com\" data-nir=\"1\"><div class=\"result__body links_main links_deep\"><h2 class=\"result__title\"><a class=\"result__a\" rel=\"noopener\" href=\"https://genius.com/Kim-carnes-bette-davis-eyes-lyrics\"><b>Kim</b> <b>Carnes</b> - <b>Bette</b> <b>Davis</b> <b>Eyes</b> Lyrics | Genius Lyrics</a><a rel=\"noopener\" class=\"result__check\" href=\"https://genius.com/Kim-carnes-bette-davis-eyes-lyrics\"><span class=\"result__check__tt\">Seu navegador diz que você já visitou este link</span></a></h2><div class=\"result__snippet\"><b>Bette</b> <b>Davis</b> <b>Eyes</b>. <b>Kim</b> <b>Carnes</b>. Produced by Val Garay. [Verse 1] Her hair is Harlow gold Her lips sweet surprise Her hands are never cold She's got <b>Bette</b> <b>Davis</b> <b>eyes</b>. She'll turn her music on you You won't have to think twice She's pure as New York snow She's got <b>Bette</b> <b>Davis</b> <b>eyes</b>.</div><div class=\"result__extras\"><div class=\"result__extras__url\"><span class=\"result__icon\"><a href=\"/?q=Bette%20Davis%20Eyes%20%2D%20Kim%20Carnes%20letras.mus.br+site:genius.com\" title=\"Procurar no domínio genius.com\"><img height=\"16\" width=\"16\" title=\"Procurar no domínio genius.com\" class=\"result__icon__img js-lazyload-icons\" data-src=\"//icons.duckduckgo.com/ip3/genius.com.ico\"></a></span><a class=\"result__url\" rel=\"noopener\" href=\"https://genius.com/Kim-carnes-bette-davis-eyes-lyrics\"><span class=\"result__url__domain\">https://genius.com</span><span class=\"result__url__full\">/Kim-carnes-bette-davis-eyes-lyrics</span></a></div><a href=\"/?q=Bette%20Davis%20Eyes%20%2D%20Kim%20Carnes%20letras.mus.br+site:genius.com\" title=\"Procurar no domínio genius.com\" class=\"result__menu\">Mais resultados</a></div></div></div><div id=\"r1-5\" class=\"result results_links_deep highlight_d\" data-domain=\"vagalume.com.br\" data-hostname=\"www.vagalume.com.br\" data-nir=\"1\"><div class=\"result__body links_main links_deep\"><h2 class=\"result__title\"><a class=\"result__a\" rel=\"noopener\" href=\"https://www.vagalume.com.br/kim-carnes/bette-davis-eyes.html\"><b>Bette</b> <b>Davis</b> <b>Eyes</b> - <b>Kim</b> <b>Carnes</b> - VAGALUME</a><a rel=\"noopener\" class=\"result__check\" href=\"https://www.vagalume.com.br/kim-carnes/bette-davis-eyes.html\"><span class=\"result__check__tt\">Seu navegador diz que você já visitou este link</span></a></h2><div class=\"result__snippet\"><b>Kim</b> <b>Carnes</b> - <b>Bette</b> <b>Davis</b> <b>Eyes</b> (música para ouvir e letra da música com legenda)! www.vagalume.com.br. Todos os nossos sites.</div><div class=\"result__extras\"><div class=\"result__extras__url\"><span class=\"result__icon\"><a href=\"/?q=Bette%20Davis%20Eyes%20%2D%20Kim%20Carnes%20letras.mus.br+site:www.vagalume.com.br\" title=\"Procurar no domínio www.vagalume.com.br\"><img height=\"16\" width=\"16\" title=\"Procurar no domínio www.vagalume.com.br\" class=\"result__icon__img js-lazyload-icons\" data-src=\"//icons.duckduckgo.com/ip3/www.vagalume.com.br.ico\"></a></span><a class=\"result__url\" rel=\"noopener\" href=\"https://www.vagalume.com.br/kim-carnes/bette-davis-eyes.html\"><span class=\"result__url__domain\">https://www.vagalume.com.br</span><span class=\"result__url__full\">/kim-carnes/bette-davis-eyes.html</span></a></div><a href=\"/?q=Bette%20Davis%20Eyes%20%2D%20Kim%20Carnes%20letras.mus.br+site:www.vagalume.com.br\" title=\"Procurar no domínio www.vagalume.com.br\" class=\"result__menu\">Mais resultados</a></div></div></div><div id=\"r1-6\" class=\"result results_links_deep highlight_d\" data-domain=\"tabs.ultimate-guitar.com\" data-hostname=\"tabs.ultimate-guitar.com\" data-nir=\"1\"><div class=\"result__body links_main links_deep\"><h2 class=\"result__title\"><a class=\"result__a\" rel=\"noopener\" href=\"https://tabs.ultimate-guitar.com/k/kim_carnes/bette_davis_eyes_crd.htm\"><b>BETTE</b> <b>DAVIS</b> <b>EYES</b> CHORDS by <b>Kim</b> <b>Carnes</b> @ Ultimate-Guitar.Com</a><a rel=\"noopener\" class=\"result__check\" href=\"https://tabs.ultimate-guitar.com/k/kim_carnes/bette_davis_eyes_crd.htm\"><span class=\"result__check__tt\">Seu navegador diz que você já visitou este link</span></a></h2><div class=\"result__snippet\">by <b>Kim</b> <b>Carnes</b>. 113,756 views 204 this week. 6 commentsread comments. [Verse 1] G F-Am-G F G-C Her hair is Harlowe gold, her lips a sweet surprise. F-Am-G C Her hands are never cold, she's got <b>Bette</b> <b>Davis</b> <b>eyes</b>.</div><div class=\"result__extras\"><div class=\"result__extras__url\"><span class=\"result__icon\"><a href=\"/?q=Bette%20Davis%20Eyes%20%2D%20Kim%20Carnes%20letras.mus.br+site:tabs.ultimate-guitar.com\" title=\"Procurar no domínio tabs.ultimate-guitar.com\"><img height=\"16\" width=\"16\" title=\"Procurar no domínio tabs.ultimate-guitar.com\" class=\"result__icon__img js-lazyload-icons\" data-src=\"//icons.duckduckgo.com/ip3/tabs.ultimate-guitar.com.ico\"></a></span><a class=\"result__url\" rel=\"noopener\" href=\"https://tabs.ultimate-guitar.com/k/kim_carnes/bette_davis_eyes_crd.htm\"><span class=\"result__url__domain\">https://tabs.ultimate-guitar.com</span><span class=\"result__url__full\">/k/kim_carnes/bette_davis_eyes_crd.htm</span></a></div><a href=\"/?q=Bette%20Davis%20Eyes%20%2D%20Kim%20Carnes%20letras.mus.br+site:tabs.ultimate-guitar.com\" title=\"Procurar no domínio tabs.ultimate-guitar.com\" class=\"result__menu\">Mais resultados</a></div></div></div><div id=\"r1-7\" class=\"result results_links_deep highlight_d\" data-domain=\"lyricsmode.com\" data-hostname=\"www.lyricsmode.com\" data-nir=\"1\"><div class=\"result__body links_main links_deep\"><h2 class=\"result__title\"><a class=\"result__a\" rel=\"noopener\" href=\"http://www.lyricsmode.com/lyrics/k/kim_carnes/bette_davis_eyes.html\"><b>Kim</b> <b>Carnes</b> - <b>Bette</b> <b>Davis</b> <b>Eyes</b> lyrics | LyricsMode.com</a><a rel=\"noopener\" class=\"result__check\" href=\"http://www.lyricsmode.com/lyrics/k/kim_carnes/bette_davis_eyes.html\"><span class=\"result__check__tt\">Seu navegador diz que você já visitou este link</span></a></h2><div class=\"result__snippet\">Add Meaning. <b>Kim</b> CarnesKim <b>Carnes</b> -. Her hair is Harlow gold Her lips sweet surprise Her hands are never cold She's got <b>Bette</b> <b>Davis</b> <b>eyes</b>. She'll turn the music on you You won't have to think twice She's pure as New York snow She's got <b>Bette</b> <b>Davis</b> <b>eyes</b>.</div><div class=\"result__extras\"><div class=\"result__extras__url\"><span class=\"result__icon\"><a href=\"/?q=Bette%20Davis%20Eyes%20%2D%20Kim%20Carnes%20letras.mus.br+site:www.lyricsmode.com\" title=\"Procurar no domínio www.lyricsmode.com\"><img height=\"16\" width=\"16\" title=\"Procurar no domínio www.lyricsmode.com\" class=\"result__icon__img js-lazyload-icons\" data-src=\"//icons.duckduckgo.com/ip3/www.lyricsmode.com.ico\"></a></span><a class=\"result__url\" rel=\"noopener\" href=\"http://www.lyricsmode.com/lyrics/k/kim_carnes/bette_davis_eyes.html\"><span class=\"result__url__domain\">lyricsmode.com</span><span class=\"result__url__full\">/lyrics/k/kim_carnes/bette_davis_eyes.html</span></a></div><a href=\"/?q=Bette%20Davis%20Eyes%20%2D%20Kim%20Carnes%20letras.mus.br+site:www.lyricsmode.com\" title=\"Procurar no domínio www.lyricsmode.com\" class=\"result__menu\">Mais resultados</a></div></div></div><div id=\"r1-8\" class=\"result results_links_deep highlight_d\" data-domain=\"listenonrepeat.com\" data-hostname=\"listenonrepeat.com\" data-nir=\"1\"><div class=\"result__body links_main links_deep\"><h2 class=\"result__title\"><a class=\"result__a\" rel=\"noopener\" href=\"https://listenonrepeat.com/watch/?v=BEI_A5pp9P0\"><b>Bette</b> <b>Davis</b> <b>Eyes</b> - <b>Kim</b> <b>Carnes</b> with lyrics... - ListenOnRepeat</a><a rel=\"noopener\" class=\"result__check\" href=\"https://listenonrepeat.com/watch/?v=BEI_A5pp9P0\"><span class=\"result__check__tt\">Seu navegador diz que você já visitou este link</span></a></h2><div class=\"result__snippet\">Listen to <b>Bette</b> <b>Davis</b> <b>Eyes</b> - <b>Kim</b> <b>Carnes</b> with lyrics [1981 version] on ListenOnRepeat...</div><div class=\"result__extras\"><div class=\"result__extras__url\"><span class=\"result__icon\"><a href=\"/?q=Bette%20Davis%20Eyes%20%2D%20Kim%20Carnes%20letras.mus.br+site:listenonrepeat.com\" title=\"Procurar no domínio listenonrepeat.com\"><img height=\"16\" width=\"16\" title=\"Procurar no domínio listenonrepeat.com\" class=\"result__icon__img js-lazyload-icons\" data-src=\"//icons.duckduckgo.com/ip3/listenonrepeat.com.ico\"></a></span><a class=\"result__url\" rel=\"noopener\" href=\"https://listenonrepeat.com/watch/?v=BEI_A5pp9P0\"><span class=\"result__url__domain\">https://listenonrepeat.com</span><span class=\"result__url__full\">/watch/?v=BEI_A5pp9P0</span></a></div><a href=\"/?q=Bette%20Davis%20Eyes%20%2D%20Kim%20Carnes%20letras.mus.br+site:listenonrepeat.com\" title=\"Procurar no domínio listenonrepeat.com\" class=\"result__menu\">Mais resultados</a></div></div></div><div id=\"r1-9\" class=\"result results_links_deep highlight_d\" data-domain=\"kimcarnes.com\" data-hostname=\"www.kimcarnes.com\" data-nir=\"1\"><div class=\"result__body links_main links_deep\"><h2 class=\"result__title\"><a class=\"result__a\" rel=\"noopener\" href=\"http://www.kimcarnes.com/audio1.html\"><b>Kim</b> <b>Carnes</b> - <b>Bette</b> <b>Davis</b> <b>Eyes</b></a><a rel=\"noopener\" class=\"result__check\" href=\"http://www.kimcarnes.com/audio1.html\"><span class=\"result__check__tt\">Seu navegador diz que você já visitou este link</span></a></h2><div class=\"result__snippet\"><b>Bette</b> <b>Davis</b> <b>Eyes</b>.</div><div class=\"result__extras\"><div class=\"result__extras__url\"><span class=\"result__icon\"><a href=\"/?q=Bette%20Davis%20Eyes%20%2D%20Kim%20Carnes%20letras.mus.br+site:www.kimcarnes.com\" title=\"Procurar no domínio www.kimcarnes.com\"><img height=\"16\" width=\"16\" title=\"Procurar no domínio www.kimcarnes.com\" class=\"result__icon__img js-lazyload-icons\" data-src=\"//icons.duckduckgo.com/ip3/www.kimcarnes.com.ico\"></a></span><a class=\"result__url\" rel=\"noopener\" href=\"http://www.kimcarnes.com/audio1.html\"><span class=\"result__url__domain\">kimcarnes.com</span><span class=\"result__url__full\">/audio1.html</span></a></div><a href=\"/?q=Bette%20Davis%20Eyes%20%2D%20Kim%20Carnes%20letras.mus.br+site:www.kimcarnes.com\" title=\"Procurar no domínio www.kimcarnes.com\" class=\"result__menu\">Mais resultados</a></div></div></div><div id=\"r1-10\" class=\"result results_links_deep highlight_d\" data-domain=\"lyricsfreak.com\" data-hostname=\"www.lyricsfreak.com\" data-nir=\"1\"><div class=\"result__body links_main links_deep\"><h2 class=\"result__title\"><a class=\"result__a\" rel=\"noopener\" href=\"http://www.lyricsfreak.com/k/kim+carnes/bette+davis+eyes_20495978.html\"><b>Bette</b> <b>Davis</b> <b>Eyes</b> Lyrics - <b>Kim</b> <b>Carnes</b></a><a rel=\"noopener\" class=\"result__check\" href=\"http://www.lyricsfreak.com/k/kim+carnes/bette+davis+eyes_20495978.html\"><span class=\"result__check__tt\">Seu navegador diz que você já visitou este link</span></a></h2><div class=\"result__snippet\">Her hair is Harlow gold Her lips sweet surprise Her hands are never cold She's got <b>Bette</b> <b>Davis</b> <b>eyes</b>. She'll turn the music on you You won't have to think twice She's pure as New York snow She's got <b>Bette</b> <b>Davis</b> <b>eyes</b>. Lyrics ► Artists: K ► <b>Kim</b> <b>Carnes</b> ► <b>Bette</b> <b>Davis</b> <b>Eyes</b>.</div><div class=\"result__extras\"><div class=\"result__extras__url\"><span class=\"result__icon\"><a href=\"/?q=Bette%20Davis%20Eyes%20%2D%20Kim%20Carnes%20letras.mus.br+site:www.lyricsfreak.com\" title=\"Procurar no domínio www.lyricsfreak.com\"><img height=\"16\" width=\"16\" title=\"Procurar no domínio www.lyricsfreak.com\" class=\"result__icon__img js-lazyload-icons\" data-src=\"//icons.duckduckgo.com/ip3/www.lyricsfreak.com.ico\"></a></span><a class=\"result__url\" rel=\"noopener\" href=\"http://www.lyricsfreak.com/k/kim+carnes/bette+davis+eyes_20495978.html\"><span class=\"result__url__domain\">lyricsfreak.com</span><span class=\"result__url__full\">/k/kim+carnes/bette+davis+eyes_20495978.html</span></a></div><a href=\"/?q=Bette%20Davis%20Eyes%20%2D%20Kim%20Carnes%20letras.mus.br+site:www.lyricsfreak.com\" title=\"Procurar no domínio www.lyricsfreak.com\" class=\"result__menu\">Mais resultados</a></div></div></div><div id=\"r1-11\" class=\"result results_links_deep highlight_d\" data-domain=\"karafun.com\" data-hostname=\"www.karafun.com\" data-nir=\"1\"><div class=\"result__body links_main links_deep\"><h2 class=\"result__title\"><a class=\"result__a\" rel=\"noopener\" href=\"http://www.karafun.com/karaoke/kim-carnes/bette-davis-eyes/\">Karaoke <b>Bette</b> <b>Davis</b> <b>Eyes</b> - Video with Lyrics - <b>Kim</b> <b>Carnes</b></a><a rel=\"noopener\" class=\"result__check\" href=\"http://www.karafun.com/karaoke/kim-carnes/bette-davis-eyes/\"><span class=\"result__check__tt\">Seu navegador diz que você já visitou este link</span></a></h2><div class=\"result__snippet\">Karaoke <b>Bette</b> <b>Davis</b> <b>Eyes</b> <b>Kim</b> <b>Carnes</b>. 3:58. In the same key as the original: F. Her hair is Harlowe gold lips sweet surprise Her hands are never cold She's got <b>Bette</b> <b>Davis</b> <b>eyes</b> She'll turn her music on You won't have to think twice She's pure as New York snow She got <b>Bette</b> <b>Davis</b> <b>eyes</b> And she'll...</div><div class=\"result__extras\"><div class=\"result__extras__url\"><span class=\"result__icon\"><a href=\"/?q=Bette%20Davis%20Eyes%20%2D%20Kim%20Carnes%20letras.mus.br+site:www.karafun.com\" title=\"Procurar no domínio www.karafun.com\"><img height=\"16\" width=\"16\" title=\"Procurar no domínio www.karafun.com\" class=\"result__icon__img js-lazyload-icons\" data-src=\"//icons.duckduckgo.com/ip3/www.karafun.com.ico\"></a></span><a class=\"result__url\" rel=\"noopener\" href=\"http://www.karafun.com/karaoke/kim-carnes/bette-davis-eyes/\"><span class=\"result__url__domain\">karafun.com</span><span class=\"result__url__full\">/karaoke/kim-carnes/bette-davis-eyes/</span></a></div><a href=\"/?q=Bette%20Davis%20Eyes%20%2D%20Kim%20Carnes%20letras.mus.br+site:www.karafun.com\" title=\"Procurar no domínio www.karafun.com\" class=\"result__menu\">Mais resultados</a></div></div></div><div id=\"r1-12\" class=\"result results_links_deep highlight_d\" data-domain=\"ofgweb.de\" data-hostname=\"ofgweb.de\" data-nir=\"1\"><div class=\"result__body links_main links_deep\"><h2 class=\"result__title\"><a class=\"result__a\" rel=\"noopener\" href=\"http://ofgweb.de/score/bette/score_bette_davis_eyes_kim_carnes.pdf\"><span class=\"result__type\">PDF</span> Browse and Read Score <b>Bette</b> <b>Davis</b> <b>Eyes</b> <b>Kim</b> <b>Carnes</b></a><a rel=\"noopener\" class=\"result__check\" href=\"http://ofgweb.de/score/bette/score_bette_davis_eyes_kim_carnes.pdf\"><span class=\"result__check__tt\">Seu navegador diz que você já visitou este link</span></a></h2><div class=\"result__snippet\">Follow up what we will offer in this article about score <b>bette</b> <b>davis</b> <b>eyes</b> <b>kim</b> <b>carnes</b>. You know really that this book is coming as the best seller book today. Popular Books Similar With Score <b>Bette</b> <b>Davis</b> <b>Eyes</b> <b>Kim</b> <b>Carnes</b> Are Listed Below</div><div class=\"result__extras\"><div class=\"result__extras__url\"><span class=\"result__icon\"><a href=\"/?q=Bette%20Davis%20Eyes%20%2D%20Kim%20Carnes%20letras.mus.br+site:ofgweb.de\" title=\"Procurar no domínio ofgweb.de\"><img height=\"16\" width=\"16\" title=\"Procurar no domínio ofgweb.de\" class=\"result__icon__img js-lazyload-icons\" data-src=\"//icons.duckduckgo.com/ip3/ofgweb.de.ico\"></a></span><a class=\"result__url\" rel=\"noopener\" href=\"http://ofgweb.de/score/bette/score_bette_davis_eyes_kim_carnes.pdf\"><span class=\"result__url__domain\">ofgweb.de</span><span class=\"result__url__full\">/score/bette/score_bette_davis_eyes_kim_ca...</span></a></div><a href=\"/?q=Bette%20Davis%20Eyes%20%2D%20Kim%20Carnes%20letras.mus.br+site:ofgweb.de\" title=\"Procurar no domínio ofgweb.de\" class=\"result__menu\">Mais resultados</a></div></div></div><div id=\"r1-13\" class=\"result results_links_deep highlight_d\" data-domain=\"dadrox.de\" data-hostname=\"dadrox.de\" data-nir=\"1\"><div class=\"result__body links_main links_deep\"><h2 class=\"result__title\"><a class=\"result__a\" rel=\"noopener\" href=\"http://dadrox.de/score/bette/score_bette_davis_eyes_kim_carnes.pdf\"><span class=\"result__type\">PDF</span> Score <b>Bette</b> <b>Davis</b> <b>Eyes</b> <b>Kim</b> <b>Carnes</b></a><a rel=\"noopener\" class=\"result__check\" href=\"http://dadrox.de/score/bette/score_bette_davis_eyes_kim_carnes.pdf\"><span class=\"result__check__tt\">Seu navegador diz que você já visitou este link</span></a></h2><div class=\"result__snippet\">Now, we will show you a new book enPDFd score <b>bette</b> <b>davis</b> <b>eyes</b> <b>kim</b> <b>carnes</b> that can be a new way to explore the knowledge. When reading this book, you can get one thing to always remember in every reading time, even step by step.</div><div class=\"result__extras\"><div class=\"result__extras__url\"><span class=\"result__icon\"><a href=\"/?q=Bette%20Davis%20Eyes%20%2D%20Kim%20Carnes%20letras.mus.br+site:dadrox.de\" title=\"Procurar no domínio dadrox.de\"><img height=\"16\" width=\"16\" title=\"Procurar no domínio dadrox.de\" class=\"result__icon__img js-lazyload-icons\" data-src=\"//icons.duckduckgo.com/ip3/dadrox.de.ico\"></a></span><a class=\"result__url\" rel=\"noopener\" href=\"http://dadrox.de/score/bette/score_bette_davis_eyes_kim_carnes.pdf\"><span class=\"result__url__domain\">dadrox.de</span><span class=\"result__url__full\">/score/bette/score_bette_davis_eyes_kim_ca...</span></a></div><a href=\"/?q=Bette%20Davis%20Eyes%20%2D%20Kim%20Carnes%20letras.mus.br+site:dadrox.de\" title=\"Procurar no domínio dadrox.de\" class=\"result__menu\">Mais resultados</a></div></div></div><div id=\"r1-14\" class=\"result results_links_deep highlight_d\" data-domain=\"karaoke-version.com\" data-hostname=\"www.karaoke-version.com\" data-nir=\"1\"><div class=\"result__body links_main links_deep\"><h2 class=\"result__title\"><a class=\"result__a\" rel=\"noopener\" href=\"http://www.karaoke-version.com/custombackingtrack/kim-carnes/bette-davis-eyes.html\"><b>Bette</b> <b>Davis</b> <b>Eyes</b> - <b>Kim</b> <b>Carnes</b> - Custom Backing Track - Karaoke...</a><a rel=\"noopener\" class=\"result__check\" href=\"http://www.karaoke-version.com/custombackingtrack/kim-carnes/bette-davis-eyes.html\"><span class=\"result__check__tt\">Seu navegador diz que você já visitou este link</span></a></h2><div class=\"result__snippet\">2.99 USD. This title is a cover of <b>Bette</b> <b>Davis</b> <b>Eyes</b> as made famous by <b>Kim</b> <b>Carnes</b>.</div><div class=\"result__extras\"><div class=\"result__extras__url\"><span class=\"result__icon\"><a href=\"/?q=Bette%20Davis%20Eyes%20%2D%20Kim%20Carnes%20letras.mus.br+site:www.karaoke-version.com\" title=\"Procurar no domínio www.karaoke-version.com\"><img height=\"16\" width=\"16\" title=\"Procurar no domínio www.karaoke-version.com\" class=\"result__icon__img js-lazyload-icons\" data-src=\"//icons.duckduckgo.com/ip3/www.karaoke-version.com.ico\"></a></span><a class=\"result__url\" rel=\"noopener\" href=\"http://www.karaoke-version.com/custombackingtrack/kim-carnes/bette-davis-eyes.html\"><span class=\"result__url__domain\">karaoke-version.com</span><span class=\"result__url__full\">/custombackingtrack/kim-carnes/bette-davis...</span></a></div><a href=\"/?q=Bette%20Davis%20Eyes%20%2D%20Kim%20Carnes%20letras.mus.br+site:www.karaoke-version.com\" title=\"Procurar no domínio www.karaoke-version.com\" class=\"result__menu\">Mais resultados</a></div></div></div><div id=\"r1-15\" class=\"result results_links_deep highlight_d\" data-domain=\"soundcloud.com\" data-hostname=\"soundcloud.com\" data-nir=\"1\"><div class=\"result__body links_main links_deep\"><h2 class=\"result__title\"><a class=\"result__a\" rel=\"noopener\" href=\"https://soundcloud.com/alinababydoll/kim-carnes-bette-davis-eyes\"><b>Kim</b> <b>Carnes</b> - <b>Bette</b> <b>Davis</b> <b>Eyes</b>... | Free Listening on SoundCloud</a><a rel=\"noopener\" class=\"result__check\" href=\"https://soundcloud.com/alinababydoll/kim-carnes-bette-davis-eyes\"><span class=\"result__check__tt\">Seu navegador diz que você já visitou este link</span></a></h2><div class=\"result__snippet\">Your current browser isn't compatible with SoundCloud. Please download one of our supported browsers. Need help? Sorry! Something went wrong. Is your network connection unstable or browser outdated?</div><div class=\"result__extras\"><div class=\"result__extras__url\"><span class=\"result__icon\"><a href=\"/?q=Bette%20Davis%20Eyes%20%2D%20Kim%20Carnes%20letras.mus.br+site:soundcloud.com\" title=\"Procurar no domínio soundcloud.com\"><img height=\"16\" width=\"16\" title=\"Procurar no domínio soundcloud.com\" class=\"result__icon__img js-lazyload-icons\" data-src=\"/assets/icons/favicons/soundcloud.png\"></a></span><a class=\"result__url\" rel=\"noopener\" href=\"https://soundcloud.com/alinababydoll/kim-carnes-bette-davis-eyes\"><span class=\"result__url__domain\">https://soundcloud.com</span><span class=\"result__url__full\">/alinababydoll/kim-carnes-bette-davis-eyes</span></a></div><a href=\"/?q=Bette%20Davis%20Eyes%20%2D%20Kim%20Carnes%20letras.mus.br+site:soundcloud.com\" title=\"Procurar no domínio soundcloud.com\" class=\"result__menu\">Mais resultados</a></div></div></div><div id=\"r1-16\" class=\"result results_links_deep highlight_d\" data-domain=\"chordie.com\" data-hostname=\"www.chordie.com\" data-nir=\"1\"><div class=\"result__body links_main links_deep\"><h2 class=\"result__title\"><a class=\"result__a\" rel=\"noopener\" href=\"http://www.chordie.com/chord.pere/www.lindesign.se/uwp/guitar/c/kim_carnes/bette_davis_eyes.tab\"><b>Bette</b> <b>davis</b> <b>eyes</b> <b>Kim</b> <b>Carnes</b> Tabs and Guitar Tablature</a><a rel=\"noopener\" class=\"result__check\" href=\"http://www.chordie.com/chord.pere/www.lindesign.se/uwp/guitar/c/kim_carnes/bette_davis_eyes.tab\"><span class=\"result__check__tt\">Seu navegador diz que você já visitou este link</span></a></h2><div class=\"result__snippet\">Her hair is Harlowe gold (Fig.A) Lips sweet surprise (Fig.B) Her hands are never cold (Fig.C) She's got <b>Bette</b> <b>Davis</b> <b>eyes</b>. <b>Kim</b> <b>Carnes</b> - <b>Bette</b> <b>davis</b> <b>eyes</b>. SHARE PAGE.</div><div class=\"result__extras\"><div class=\"result__extras__url\"><span class=\"result__icon\"><a href=\"/?q=Bette%20Davis%20Eyes%20%2D%20Kim%20Carnes%20letras.mus.br+site:www.chordie.com\" title=\"Procurar no domínio www.chordie.com\"><img height=\"16\" width=\"16\" title=\"Procurar no domínio www.chordie.com\" class=\"result__icon__img js-lazyload-icons\" data-src=\"//icons.duckduckgo.com/ip3/www.chordie.com.ico\"></a></span><a class=\"result__url\" rel=\"noopener\" href=\"http://www.chordie.com/chord.pere/www.lindesign.se/uwp/guitar/c/kim_carnes/bette_davis_eyes.tab\"><span class=\"result__url__domain\">chordie.com</span><span class=\"result__url__full\">/chord.pere/www.lindesign.se/uwp/guitar/c/...</span></a></div><a href=\"/?q=Bette%20Davis%20Eyes%20%2D%20Kim%20Carnes%20letras.mus.br+site:www.chordie.com\" title=\"Procurar no domínio www.chordie.com\" class=\"result__menu\">Mais resultados</a></div></div></div><div id=\"r1-17\" class=\"result results_links_deep highlight_d\" data-domain=\"multimedia-english.com\" data-hostname=\"multimedia-english.com\" data-nir=\"1\"><div class=\"result__body links_main links_deep\"><h2 class=\"result__title\"><a class=\"result__a\" rel=\"noopener\" href=\"https://multimedia-english.com/videos/music/bette-davis-eyes-3421\"><b>Bette</b> <b>Davis</b> <b>Eyes</b> (<b>Kim</b> <b>Carnes</b>) -[Multimedia-English videos]</a><a rel=\"noopener\" class=\"result__check\" href=\"https://multimedia-english.com/videos/music/bette-davis-eyes-3421\"><span class=\"result__check__tt\">Seu navegador diz que você já visitou este link</span></a></h2><div class=\"result__snippet\">An old song from 1974 turned into a hit by <b>Kim</b> <b>Carnes</b> in 1981. She'll expose you, when she snows you Off your feet with the crumbs she throws you She's ferocious and she knows just What it takes to make a pro blush All the boys think she's a spy She's got <b>Bette</b> <b>Davis</b> <b>eyes</b>.</div><div class=\"result__extras\"><div class=\"result__extras__url\"><span class=\"result__icon\"><a href=\"/?q=Bette%20Davis%20Eyes%20%2D%20Kim%20Carnes%20letras.mus.br+site:multimedia-english.com\" title=\"Procurar no domínio multimedia-english.com\"><img height=\"16\" width=\"16\" title=\"Procurar no domínio multimedia-english.com\" class=\"result__icon__img js-lazyload-icons\" data-src=\"//icons.duckduckgo.com/ip3/multimedia-english.com.ico\"></a></span><a class=\"result__url\" rel=\"noopener\" href=\"https://multimedia-english.com/videos/music/bette-davis-eyes-3421\"><span class=\"result__url__domain\">https://multimedia-english.com</span><span class=\"result__url__full\">/videos/music/bette-davis-eyes-3421</span></a></div><a href=\"/?q=Bette%20Davis%20Eyes%20%2D%20Kim%20Carnes%20letras.mus.br+site:multimedia-english.com\" title=\"Procurar no domínio multimedia-english.com\" class=\"result__menu\">Mais resultados</a></div></div></div><div id=\"r1-18\" class=\"result results_links_deep highlight_d\" data-domain=\"guitaretab.com\" data-hostname=\"www.guitaretab.com\" data-nir=\"1\"><div class=\"result__body links_main links_deep\"><h2 class=\"result__title\"><a class=\"result__a\" rel=\"noopener\" href=\"http://www.guitaretab.com/k/kim-carnes/123817.html\"><b>Kim</b> <b>Carnes</b> - ( <b>Bette</b> <b>Davis</b> <b>Eyes</b> tab )</a><a rel=\"noopener\" class=\"result__check\" href=\"http://www.guitaretab.com/k/kim-carnes/123817.html\"><span class=\"result__check__tt\">Seu navegador diz que você já visitou este link</span></a></h2><div class=\"result__snippet\"><b>Bette</b> <b>Davis</b> <b>Eyes</b> tab (version 1) by <b>Kim</b> <b>Carnes</b> at GuitareTab.com. F F/A (Fig.E repeated) She'll turn the music on you (Fig.C) You won't have to think twice (Fig.D) She's pure as New York Snow (Fig.C) She got <b>Bette</b> <b>Davis</b> <b>eyes</b> (Fig.G).</div><div class=\"result__extras\"><div class=\"result__extras__url\"><span class=\"result__icon\"><a href=\"/?q=Bette%20Davis%20Eyes%20%2D%20Kim%20Carnes%20letras.mus.br+site:www.guitaretab.com\" title=\"Procurar no domínio www.guitaretab.com\"><img height=\"16\" width=\"16\" title=\"Procurar no domínio www.guitaretab.com\" class=\"result__icon__img js-lazyload-icons\" data-src=\"//icons.duckduckgo.com/ip3/www.guitaretab.com.ico\"></a></span><a class=\"result__url\" rel=\"noopener\" href=\"http://www.guitaretab.com/k/kim-carnes/123817.html\"><span class=\"result__url__domain\">guitaretab.com</span><span class=\"result__url__full\">/k/kim-carnes/123817.html</span></a></div><a href=\"/?q=Bette%20Davis%20Eyes%20%2D%20Kim%20Carnes%20letras.mus.br+site:www.guitaretab.com\" title=\"Procurar no domínio www.guitaretab.com\" class=\"result__menu\">Mais resultados</a></div></div></div><div id=\"r1-19\" class=\"result results_links_deep highlight_d\" data-domain=\"bdwon.com\" data-hostname=\"bdwon.com\" data-nir=\"1\"><div class=\"result__body links_main links_deep\"><h2 class=\"result__title\"><a class=\"result__a\" rel=\"noopener\" href=\"http://bdwon.com/mp3/kim-carnes-bette-davis-eyes-lyrics-1981.html\"><b>Kim</b> <b>Carnes</b> <b>Bette</b> <b>Davis</b> <b>Eyes</b> Lyrics 1981 » BDWon.Com</a><a rel=\"noopener\" class=\"result__check\" href=\"http://bdwon.com/mp3/kim-carnes-bette-davis-eyes-lyrics-1981.html\"><span class=\"result__check__tt\">Seu navegador diz que você já visitou este link</span></a></h2><div class=\"result__snippet\">Free <b>Bette</b> <b>Davis</b> <b>Eyes</b> <b>Kim</b> <b>Carnes</b> Lyrics On Screen mp3. For your search query <b>Kim</b> <b>Carnes</b> <b>Bette</b> <b>Davis</b> <b>Eyes</b> Lyrics 1981 MP3 we have found 1000000 songs matching your query but showing only top 10 results.</div><div class=\"result__extras\"><div class=\"result__extras__url\"><span class=\"result__icon\"><a href=\"/?q=Bette%20Davis%20Eyes%20%2D%20Kim%20Carnes%20letras.mus.br+site:bdwon.com\" title=\"Procurar no domínio bdwon.com\"><img height=\"16\" width=\"16\" title=\"Procurar no domínio bdwon.com\" class=\"result__icon__img js-lazyload-icons\" data-src=\"//icons.duckduckgo.com/ip3/bdwon.com.ico\"></a></span><a class=\"result__url\" rel=\"noopener\" href=\"http://bdwon.com/mp3/kim-carnes-bette-davis-eyes-lyrics-1981.html\"><span class=\"result__url__domain\">bdwon.com</span><span class=\"result__url__full\">/mp3/kim-carnes-bette-davis-eyes-lyrics-19...</span></a></div><a href=\"/?q=Bette%20Davis%20Eyes%20%2D%20Kim%20Carnes%20letras.mus.br+site:bdwon.com\" title=\"Procurar no domínio bdwon.com\" class=\"result__menu\">Mais resultados</a></div></div></div><div id=\"r1-20\" class=\"result results_links_deep highlight_d\" data-domain=\"guitartabs.cc\" data-hostname=\"www.guitartabs.cc\" data-nir=\"1\"><div class=\"result__body links_main links_deep\"><h2 class=\"result__title\"><a class=\"result__a\" rel=\"noopener\" href=\"http://www.guitartabs.cc/tabs/k/kim_carnes/bette_davis_eyes_tab.html\"><b>Kim</b> <b>Carnes</b> - <b>Bette</b> <b>Davis</b> <b>Eyes</b> Chords &amp; Tabs</a><a rel=\"noopener\" class=\"result__check\" href=\"http://www.guitartabs.cc/tabs/k/kim_carnes/bette_davis_eyes_tab.html\"><span class=\"result__check__tt\">Seu navegador diz que você já visitou este link</span></a></h2><div class=\"result__snippet\"><b>Bette</b> <b>Davis</b> <b>Eyes</b> by <b>Kim</b> <b>Carnes</b> Tab Different Versions Chords, Tab, Tabs. Key Variations. Play Advices. <b>Bette</b> <b>Davis</b> <b>Eyes</b> Tab. Highlighted Show chords diagrams.</div><div class=\"result__extras\"><div class=\"result__extras__url\"><span class=\"result__icon\"><a href=\"/?q=Bette%20Davis%20Eyes%20%2D%20Kim%20Carnes%20letras.mus.br+site:www.guitartabs.cc\" title=\"Procurar no domínio www.guitartabs.cc\"><img height=\"16\" width=\"16\" title=\"Procurar no domínio www.guitartabs.cc\" class=\"result__icon__img js-lazyload-icons\" data-src=\"//icons.duckduckgo.com/ip3/www.guitartabs.cc.ico\"></a></span><a class=\"result__url\" rel=\"noopener\" href=\"http://www.guitartabs.cc/tabs/k/kim_carnes/bette_davis_eyes_tab.html\"><span class=\"result__url__domain\">guitartabs.cc</span><span class=\"result__url__full\">/tabs/k/kim_carnes/bette_davis_eyes_tab.html</span></a></div><a href=\"/?q=Bette%20Davis%20Eyes%20%2D%20Kim%20Carnes%20letras.mus.br+site:www.guitartabs.cc\" title=\"Procurar no domínio www.guitartabs.cc\" class=\"result__menu\">Mais resultados</a></div></div></div><div id=\"r1-21\" class=\"result results_links_deep highlight_d\" data-domain=\"rabira.ru\" data-hostname=\"www.rabira.ru\" data-nir=\"1\"><div class=\"result__body links_main links_deep\"><h2 class=\"result__title\"><a class=\"result__a\" rel=\"noopener\" href=\"http://www.rabira.ru/mp3/kim-carnes-bette-davis-eyes-1981-tradu%C3%A7%C3%A3o.html\"><b>Kim</b> <b>Carnes</b> <b>Bette</b> <b>Davis</b> <b>Eyes</b> 1981 Tradução » Download Mp3</a><a rel=\"noopener\" class=\"result__check\" href=\"http://www.rabira.ru/mp3/kim-carnes-bette-davis-eyes-1981-tradu%C3%A7%C3%A3o.html\"><span class=\"result__check__tt\">Seu navegador diz que você já visitou este link</span></a></h2><div class=\"result__snippet\">For your search query <b>Kim</b> <b>Carnes</b> <b>Bette</b> <b>Davis</b> <b>Eyes</b> 1981 Tradução MP3 we have found 1000000 songs matching your query but showing only top 10 results. Now we recommend you to Download first result MP3 on mp3tube.pro which is uploaded by of size , duration and bitrate is .</div><div class=\"result__extras\"><div class=\"result__extras__url\"><span class=\"result__icon\"><a href=\"/?q=Bette%20Davis%20Eyes%20%2D%20Kim%20Carnes%20letras.mus.br+site:www.rabira.ru\" title=\"Procurar no domínio www.rabira.ru\"><img height=\"16\" width=\"16\" title=\"Procurar no domínio www.rabira.ru\" class=\"result__icon__img js-lazyload-icons\" data-src=\"//icons.duckduckgo.com/ip3/www.rabira.ru.ico\"></a></span><a class=\"result__url\" rel=\"noopener\" href=\"http://www.rabira.ru/mp3/kim-carnes-bette-davis-eyes-1981-tradu%C3%A7%C3%A3o.html\"><span class=\"result__url__domain\">rabira.ru</span><span class=\"result__url__full\">/mp3/kim-carnes-bette-davis-eyes-1981-trad...</span></a></div><a href=\"/?q=Bette%20Davis%20Eyes%20%2D%20Kim%20Carnes%20letras.mus.br+site:www.rabira.ru\" title=\"Procurar no domínio www.rabira.ru\" class=\"result__menu\">Mais resultados</a></div></div></div><div id=\"r1-22\" class=\"result results_links_deep highlight_d\" data-domain=\"bumbablog.com\" data-hostname=\"www.bumbablog.com\" data-nir=\"1\"><div class=\"result__body links_main links_deep\"><h2 class=\"result__title\"><a class=\"result__a\" rel=\"noopener\" href=\"http://www.bumbablog.com/lyrics/?lyr=101627\"><b>Kim</b> <b>Carnes</b> - <b>BETTE</b> <b>DAVIS</b> <b>EYE</b> - Les années bonheur - Patrick...</a><a rel=\"noopener\" class=\"result__check\" href=\"http://www.bumbablog.com/lyrics/?lyr=101627\"><span class=\"result__check__tt\">Seu navegador diz que você já visitou este link</span></a></h2><div class=\"result__snippet\"><b>Kim</b> <b>Carnes</b> - <b>Bette</b> <b>Davis</b> <b>Eyes</b> Letra e Musica - Jackie De Shannon Her hair is Harlow gold Her lips, sweet surprise Her hands are never cold She's got <b>Bette</b> ...</div><div class=\"result__extras\"><div class=\"result__extras__url\"><span class=\"result__icon\"><a href=\"/?q=Bette%20Davis%20Eyes%20%2D%20Kim%20Carnes%20letras.mus.br+site:www.bumbablog.com\" title=\"Procurar no domínio www.bumbablog.com\"><img height=\"16\" width=\"16\" title=\"Procurar no domínio www.bumbablog.com\" class=\"result__icon__img js-lazyload-icons\" data-src=\"//icons.duckduckgo.com/ip3/www.bumbablog.com.ico\"></a></span><a class=\"result__url\" rel=\"noopener\" href=\"http://www.bumbablog.com/lyrics/?lyr=101627\"><span class=\"result__url__domain\">bumbablog.com</span><span class=\"result__url__full\">/lyrics/?lyr=101627</span></a></div><a href=\"/?q=Bette%20Davis%20Eyes%20%2D%20Kim%20Carnes%20letras.mus.br+site:www.bumbablog.com\" title=\"Procurar no domínio www.bumbablog.com\" class=\"result__menu\">Mais resultados</a></div></div></div><div id=\"r1-23\" class=\"result results_links_deep highlight_d\" data-domain=\"tuxdoc.com\" data-hostname=\"tuxdoc.com\" data-nir=\"1\"><div class=\"result__body links_main links_deep\"><h2 class=\"result__title\"><a class=\"result__a\" rel=\"noopener\" href=\"https://tuxdoc.com/download/bette-davis-eyes-kim-carnes-music-sheet_pdf\">Download \"<b>Bette</b> <b>Davis</b> <b>Eyes</b> _ <b>Kim</b> <b>Carnes</b> Music Sheet\"</a><a rel=\"noopener\" class=\"result__check\" href=\"https://tuxdoc.com/download/bette-davis-eyes-kim-carnes-music-sheet_pdf\"><span class=\"result__check__tt\">Seu navegador diz que você já visitou este link</span></a></h2><div class=\"result__snippet\">Report \"<b>Bette</b> <b>Davis</b> <b>Eyes</b> _ <b>Kim</b> <b>Carnes</b> Music Sheet\". Download \"<b>Bette</b> <b>Davis</b> <b>Eyes</b> _ <b>Kim</b> <b>Carnes</b> Music Sheet\". We are a sharing community. So please help us by uploading 1 new document or like us to download</div><div class=\"result__extras\"><div class=\"result__extras__url\"><span class=\"result__icon\"><a href=\"/?q=Bette%20Davis%20Eyes%20%2D%20Kim%20Carnes%20letras.mus.br+site:tuxdoc.com\" title=\"Procurar no domínio tuxdoc.com\"><img height=\"16\" width=\"16\" title=\"Procurar no domínio tuxdoc.com\" class=\"result__icon__img js-lazyload-icons\" data-src=\"//icons.duckduckgo.com/ip3/tuxdoc.com.ico\"></a></span><a class=\"result__url\" rel=\"noopener\" href=\"https://tuxdoc.com/download/bette-davis-eyes-kim-carnes-music-sheet_pdf\"><span class=\"result__url__domain\">https://tuxdoc.com</span><span class=\"result__url__full\">/download/bette-davis-eyes-kim-carnes-musi...</span></a></div><a href=\"/?q=Bette%20Davis%20Eyes%20%2D%20Kim%20Carnes%20letras.mus.br+site:tuxdoc.com\" title=\"Procurar no domínio tuxdoc.com\" class=\"result__menu\">Mais resultados</a></div></div></div><div id=\"r1-24\" class=\"result results_links_deep highlight_d\" data-domain=\"teksty-pesenok.ru\" data-hostname=\"teksty-pesenok.ru\" data-nir=\"1\"><div class=\"result__body links_main links_deep\"><h2 class=\"result__title\"><a class=\"result__a\" rel=\"noopener\" href=\"http://teksty-pesenok.ru/kim-carnes/tekst-pesni-bette-davis-eyes/4603151/\">Перевод <b>Kim</b> <b>Carnes</b> - <b>Bette</b> <b>Davis</b> <b>Eyes</b> и текст песни</a><a rel=\"noopener\" class=\"result__check\" href=\"http://teksty-pesenok.ru/kim-carnes/tekst-pesni-bette-davis-eyes/4603151/\"><span class=\"result__check__tt\">Seu navegador diz que você já visitou este link</span></a></h2><div class=\"result__snippet\">She'll expose you, when she snows you She knows ya, she's got <b>Bette</b> <b>Davis</b> <b>eyes</b> 'Cause she'll please you (fade). <b>Kim</b> <b>Carnes</b> - Crazy In The Night. <b>Kim</b> <b>Carnes</b> - Hit and run. <b>Kim</b> <b>Carnes</b> - What Am I Gonna Do. <b>Kim</b> <b>Carnes</b> - Still Hold On.</div><div class=\"result__extras\"><div class=\"result__extras__url\"><span class=\"result__icon\"><a href=\"/?q=Bette%20Davis%20Eyes%20%2D%20Kim%20Carnes%20letras.mus.br+site:teksty-pesenok.ru\" title=\"Procurar no domínio teksty-pesenok.ru\"><img height=\"16\" width=\"16\" title=\"Procurar no domínio teksty-pesenok.ru\" class=\"result__icon__img js-lazyload-icons\" data-src=\"//icons.duckduckgo.com/ip3/teksty-pesenok.ru.ico\"></a></span><a class=\"result__url\" rel=\"noopener\" href=\"http://teksty-pesenok.ru/kim-carnes/tekst-pesni-bette-davis-eyes/4603151/\"><span class=\"result__url__domain\">teksty-pesenok.ru</span><span class=\"result__url__full\">/kim-carnes/tekst-pesni-bette-davis-eyes/4...</span></a></div><a href=\"/?q=Bette%20Davis%20Eyes%20%2D%20Kim%20Carnes%20letras.mus.br+site:teksty-pesenok.ru\" title=\"Procurar no domínio teksty-pesenok.ru\" class=\"result__menu\">Mais resultados</a></div></div></div><div id=\"r1-25\" class=\"result results_links_deep highlight_d\" data-domain=\"lingualeo.com\" data-hostname=\"lingualeo.com\" data-nir=\"1\"><div class=\"result__body links_main links_deep\"><h2 class=\"result__title\"><a class=\"result__a\" rel=\"noopener\" href=\"http://Lingualeo.com/pt/jungle/bette-davis-eyes-kim-carnes-419231\">Vídeo: <b>Bette</b> <b>Davis</b> <b>Eyes</b> - <b>Kim</b> <b>Carnes</b></a><a rel=\"noopener\" class=\"result__check\" href=\"http://Lingualeo.com/pt/jungle/bette-davis-eyes-kim-carnes-419231\"><span class=\"result__check__tt\">Seu navegador diz que você já visitou este link</span></a></h2><div class=\"result__snippet\">Her hair is Harlow gold Her lips, sweet surprise Her hands are never cold She's got <b>Bette</b> <b>Davis</b> <b>eyes</b> She'll turn her music on you You won't have to think twice She's pure as New York snow She's got <b>Bette</b> <b>Davis</b> <b>eyes</b>.</div><div class=\"result__extras\"><div class=\"result__extras__url\"><span class=\"result__icon\"><a href=\"/?q=Bette%20Davis%20Eyes%20%2D%20Kim%20Carnes%20letras.mus.br+site:Lingualeo.com\" title=\"Procurar no domínio Lingualeo.com\"><img height=\"16\" width=\"16\" title=\"Procurar no domínio Lingualeo.com\" class=\"result__icon__img js-lazyload-icons\" data-src=\"//icons.duckduckgo.com/ip3/Lingualeo.com.ico\"></a></span><a class=\"result__url\" rel=\"noopener\" href=\"http://Lingualeo.com/pt/jungle/bette-davis-eyes-kim-carnes-419231\"><span class=\"result__url__domain\">lingualeo.com</span><span class=\"result__url__full\">/pt/jungle/bette-davis-eyes-kim-carnes-419231</span></a></div><a href=\"/?q=Bette%20Davis%20Eyes%20%2D%20Kim%20Carnes%20letras.mus.br+site:Lingualeo.com\" title=\"Procurar no domínio Lingualeo.com\" class=\"result__menu\">Mais resultados</a></div></div></div><div id=\"r1-26\" class=\"result results_links_deep highlight_d\" data-domain=\"youtube.com\" data-hostname=\"www.youtube.com\" data-nir=\"1\"><div class=\"result__body links_main links_deep\"><h2 class=\"result__title\"><a class=\"result__a\" rel=\"noopener\" href=\"https://www.youtube.com/watch?v=ifDycyRNpcI\"><b>Kim</b> <b>Carnes</b> - <b>Bette</b> <b>Davis</b> <b>Eyes</b> - YouTube</a><a rel=\"noopener\" class=\"result__check\" href=\"https://www.youtube.com/watch?v=ifDycyRNpcI\"><span class=\"result__check__tt\">Seu navegador diz que você já visitou este link</span></a></h2><div class=\"result__snippet\"><b>Bette</b> <b>Davis</b> <b>Eyes</b> - <b>Kim</b> <b>Carnes</b> - Duration: 3:43. <b>Kim</b> <b>Carnes</b> - <b>BETTE</b> <b>DAVIS</b> <b>EYE</b> - Les années bonheur - Patrick Sébastien - Live - Duration: 4:20.</div><div class=\"result__extras\"><div class=\"result__extras__url\"><span class=\"result__icon\"><a href=\"/?q=Bette%20Davis%20Eyes%20%2D%20Kim%20Carnes%20letras.mus.br+site:www.youtube.com\" title=\"Procurar no domínio www.youtube.com\"><img height=\"16\" width=\"16\" title=\"Procurar no domínio www.youtube.com\" class=\"result__icon__img js-lazyload-icons\" data-src=\"/assets/icons/favicons/youtube.png\"></a></span><a class=\"result__url\" rel=\"noopener\" href=\"https://www.youtube.com/watch?v=ifDycyRNpcI\"><span class=\"result__url__domain\">https://www.youtube.com</span><span class=\"result__url__full\">/watch?v=ifDycyRNpcI</span></a></div><a href=\"/?q=Bette%20Davis%20Eyes%20%2D%20Kim%20Carnes%20letras.mus.br+site:www.youtube.com\" title=\"Procurar no domínio www.youtube.com\" class=\"result__menu\">Mais resultados</a></div></div></div><div class=\"result result--more\" id=\"rld-1\"><a href=\"javascript:;\" class=\"result--more__btn  btn  btn--alt  btn--full\">Carregar mais</a></div><div id=\"rrd-1\" style=\"display: none;\"></div></div></div><div class=\"results--sidebar js-results-sidebar\"><div class=\"sidebar-modules js-sidebar-modules\"></div><div class=\"js-sidebar-ads\"></div></div></div></div></div><div id=\"bottom_spacing2\"> </div><div class=\"nav-menu--slideout\"><ul class=\"nav-menu__list\"><i class=\"nav-menu__close  js-side-menu-close\">X</i><ul class=\"nav-menu--theme\"><li class=\"nav-menu__heading\"><span>Configurações</span></li><li class=\"nav-menu__item\"><ul class=\"nav-menu__themes\"><li class=\"nav-menu__theme  js-side-menu-theme theme-is-selected\"><span class=\"nav-menu__theme-color\"><span class=\"nav-menu__theme-color-top\" style=\"background-color:#084999;\"></span><span class=\"nav-menu__theme-color-bot\" style=\"background-color:#888;\"></span></span></li><li class=\"nav-menu__theme  js-side-menu-theme\"><span class=\"nav-menu__theme-color\"><span class=\"nav-menu__theme-color-top\" style=\"background-color:#333;\"></span><span class=\"nav-menu__theme-color-bot\" style=\"background-color:#888;\"></span></span></li><li class=\"nav-menu__theme  js-side-menu-theme\"><span class=\"nav-menu__theme-color\"><span class=\"nav-menu__theme-color-top\" style=\"background-color:#3434d4;\"></span><span class=\"nav-menu__theme-color-bot\" style=\"background-color:#047d00;\"></span></span></li><li class=\"nav-menu__theme  js-side-menu-theme\"><span class=\"nav-menu__theme-color\"><span class=\"nav-menu__theme-color-top\" style=\"background-color:#444;\"></span><span class=\"nav-menu__theme-color-bot\" style=\"background-color:#222;\"></span></span></li></ul></li><li class=\"nav-menu__item clear\"><a href=\"/settings#theme\" data-settings=\"1\">Mais Temas</a></li><li class=\"nav-menu__item\"><a href=\"/settings\" tabindex=\"-1\" data-settings=\"1\">Outras Configurações</a></li></ul><ul class=\"nav-menu--feedback\"><li class=\"nav-menu__heading\"><span>Enviar comentários</span></li><li class=\"nav-menu__feedback\"><a href=\"#\" class=\"nav-menu__feedback__icon nav-menu__feedback__icon--love js-side-menu-love\"></a><a href=\"#\" class=\"nav-menu__feedback__icon nav-menu__feedback__icon--nolove js-side-menu-nolove\"></a></li></ul><ul class=\"nav-menu--main\"><li class=\"nav-menu__heading\"><span>Menu</span></li><li class=\"nav-menu__item\"><a href=\"/about\">Sobre</a></li><li class=\"nav-menu__item\"><a href=\"/bang\">Bangs</a></li><li class=\"nav-menu__item\"><a href=\"/spread\">Espalhar</a></li><li class=\"nav-menu__item\"><a href=\"/hiring\">Carreiras</a></li><li class=\"nav-menu__item  hide--mob\"><a href=\"https://duck.co/help\">Ajuda</a></li></ul><ul class=\"nav-menu--privacy\">       <li class=\"nav-menu__heading\"><span>Privacidade</span></li><li class=\"nav-menu__item\"><a href=\"https://spreadprivacy.com/\">Blogue</a></li><li class=\"nav-menu__item\"><a href=\"https://donttrack.us/\">DontTrack.us</a></li><li class=\"nav-menu__item\"><a href=\"/privacy\">Política</a></li></ul><ul class=\"nav-menu--social-media\">       <li class=\"nav-menu__heading\"><span>Mantenha contato</span></li><li class=\"nav-menu__item\"><a href=\"https://twitter.com/duckduckgo\">Twitter</a></li><li class=\"nav-menu__item\"><a href=\"https://reddit.com/r/duckduckgo\">Reddit</a></li></ul></ul></div></div><script type=\"text/javascript\"></script><script type=\"text/JavaScript\">function nrji() {nrj('/t.js?q=Bette%20Davis%20Eyes%20%2D%20Kim%20Carnes%20letras.mus.br&l=br-pt&p=1&s=0&dl=pt&ct=BR&ss_mkt=br');nrje('/d.js?q=Bette%20Davis%20Eyes%20%2D%20Kim%20Carnes%20letras.mus.br&l=br-pt&p=1&s=0&dl=pt&ct=BR&ss_mkt=br&vqd=310352182820460690721598013595230762839','/d.js?q=Bette%20Davis%20Eyes%20%2D%20Kim%20Carnes%20letras.mus.br&l=br-pt&p=1&s=0&dl=pt&ct=BR&ss_mkt=br&vqd=310352182820460690721598013595230762839');;};DDG.ready(nrji, 1);</script><script src=\"/g1814.js\"></script><script type=\"text/javascript\">DDG.page = new DDG.Pages.SERP({ showSafeSearch: 0, instantAnswerAds: false });</script><div id=\"z2\"> </div><div id=\"z\"></div><iframe id=\"iframe_hidden\" src=\"/post2.html\"></iframe></body></html>\n"
     ]
    }
   ],
   "source": [
    "from selenium import webdriver\n",
    "driver = webdriver.PhantomJS()\n",
    "driver.get(\"https://duckduckgo.com/?q=Bette Davis Eyes - Kim Carnes letras.mus.br\")\n",
    "print(driver.page_source)\n",
    "#print(p_element.text)"
   ]
  },
  {
   "cell_type": "code",
   "execution_count": 75,
   "metadata": {},
   "outputs": [
    {
     "data": {
      "text/plain": [
       "'https://www.letras.mus.br/carnes-kim/78326/'"
      ]
     },
     "execution_count": 75,
     "metadata": {},
     "output_type": "execute_result"
    }
   ],
   "source": [
    "buscando_link = scp(text=driver.page_source).xpath('//a[@class=\"result__a\"]/@href').extract_first()\n",
    "buscando_link"
   ]
  },
  {
   "cell_type": "code",
   "execution_count": 77,
   "metadata": {},
   "outputs": [],
   "source": [
    "# success! #:)"
   ]
  },
  {
   "cell_type": "code",
   "execution_count": 78,
   "metadata": {},
   "outputs": [
    {
     "name": "stdout",
     "output_type": "stream",
     "text": [
      "200\n"
     ]
    }
   ],
   "source": [
    "#indo até o site letras.mus.br\n",
    "r = req.get(buscando_link)\n",
    "print(r.status_code)"
   ]
  },
  {
   "cell_type": "code",
   "execution_count": 82,
   "metadata": {},
   "outputs": [
    {
     "data": {
      "text/plain": [
       "'http://www.cifraclub.com.br/carnes-kim/bette-davis-eyes/'"
      ]
     },
     "execution_count": 82,
     "metadata": {},
     "output_type": "execute_result"
    }
   ],
   "source": [
    "# pegando link da cifra\n",
    "link_da_cifra = scp(text=r.content).xpath('//div[@class=\"letra-menu\"]/a/@href').extract()[2]\n",
    "link_da_cifra"
   ]
  },
  {
   "cell_type": "code",
   "execution_count": 83,
   "metadata": {},
   "outputs": [
    {
     "name": "stdout",
     "output_type": "stream",
     "text": [
      "200\n"
     ]
    }
   ],
   "source": [
    "# crawleando os links para acesso as músicas por ano\n",
    "\n",
    "r = req.get(\"http://www.mofolandia.com.br/mofolandia_nova/musica_tophits.htm\")\n",
    "print(r.status_code)"
   ]
  },
  {
   "cell_type": "code",
   "execution_count": 85,
   "metadata": {},
   "outputs": [
    {
     "data": {
      "text/plain": [
       "['musica_tophits_58.htm',\n",
       " 'musica_tophits_59.htm',\n",
       " 'musica_tophits_60.htm',\n",
       " 'musica_tophits_61.htm',\n",
       " 'musica_tophits_62.htm',\n",
       " 'musica_tophits_63.htm',\n",
       " 'musica_tophits_64.htm',\n",
       " 'musica_tophits_65.htm',\n",
       " 'musica_tophits_66.htm',\n",
       " 'musica_tophits_67.htm',\n",
       " 'musica_tophits_68.htm',\n",
       " 'musica_tophits_69.htm',\n",
       " 'musica_tophits_70.htm',\n",
       " 'musica_tophits_71.htm',\n",
       " 'musica_tophits_72.htm',\n",
       " 'musica_tophits_73.htm',\n",
       " 'musica_tophits_74.htm',\n",
       " 'musica_tophits_75.htm',\n",
       " 'musica_tophits_76.htm',\n",
       " 'musica_tophits_77.htm',\n",
       " 'musica_tophits_78.htm',\n",
       " 'musica_tophits_79.htm',\n",
       " 'musica_tophits_80.htm',\n",
       " 'musica_tophits_81.htm',\n",
       " 'musica_tophits_82.htm',\n",
       " 'musica_tophits_83.htm',\n",
       " 'musica_tophits_84.htm',\n",
       " 'musica_tophits_85.htm',\n",
       " 'musica_tophits_86.htm',\n",
       " 'musica_tophits_87.htm',\n",
       " 'musica_tophits_88.htm',\n",
       " 'musica_tophits_89.htm',\n",
       " 'musica_tophits_90.htm',\n",
       " 'musica_tophits_91.htm',\n",
       " 'musica_tophits_92.htm',\n",
       " 'musica_tophits_93.htm',\n",
       " 'musica_tophits_94.htm',\n",
       " 'musica_tophits_95.htm',\n",
       " 'musica_tophits_96.htm',\n",
       " 'musica_tophits_97.htm',\n",
       " 'musica_tophits_98.htm',\n",
       " 'musica_tophits_99.htm',\n",
       " 'musica_tophits_00.htm',\n",
       " 'musica_tophits_01.htm',\n",
       " 'musica_tophits_02.htm',\n",
       " 'musica_tophits_03.htm',\n",
       " 'musica_tophits_04.htm',\n",
       " 'musica_tophits_05.htm',\n",
       " 'musica_tophits_06.htm',\n",
       " 'musica_tophits_07.htm',\n",
       " 'musica_tophits_08.htm',\n",
       " 'musica_tophits_09.htm',\n",
       " 'musica_tophits_10.htm',\n",
       " 'musica_tophits_11.htm',\n",
       " 'musica_tophits_12.htm',\n",
       " 'musica_tophits_13.htm',\n",
       " 'musica_tophits_14.htm',\n",
       " 'musica_tophits_15.htm']"
      ]
     },
     "execution_count": 85,
     "metadata": {},
     "output_type": "execute_result"
    }
   ],
   "source": [
    "links_para_os_anos = scp(text=r.content).xpath('//a/@href').extract()\n",
    "links_para_os_anos"
   ]
  }
 ],
 "metadata": {
  "kernelspec": {
   "display_name": "Python 3",
   "language": "python",
   "name": "python3"
  },
  "language_info": {
   "codemirror_mode": {
    "name": "ipython",
    "version": 3
   },
   "file_extension": ".py",
   "mimetype": "text/x-python",
   "name": "python",
   "nbconvert_exporter": "python",
   "pygments_lexer": "ipython3",
   "version": "3.6.3"
  }
 },
 "nbformat": 4,
 "nbformat_minor": 2
}
