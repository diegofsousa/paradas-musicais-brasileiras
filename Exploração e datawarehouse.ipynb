{
 "cells": [
  {
   "cell_type": "code",
   "execution_count": 1,
   "metadata": {},
   "outputs": [],
   "source": [
    "# importando as libs\n",
    "import pandas as pd\n",
    "import numpy as np\n",
    "import requests as req\n",
    "#from selenium import webdriver\n",
    "from scrapy.selector import Selector as scp\n",
    "import json"
   ]
  },
  {
   "cell_type": "code",
   "execution_count": 11,
   "metadata": {},
   "outputs": [
    {
     "name": "stdout",
     "output_type": "stream",
     "text": [
      "200\n"
     ]
    }
   ],
   "source": [
    "r = req.get('https://www.cifraclub.com.br/kell-smith/era-uma-vez/')\n",
    "print(r.status_code)"
   ]
  },
  {
   "cell_type": "code",
   "execution_count": 12,
   "metadata": {},
   "outputs": [],
   "source": [
    "texto = r.content\n",
    "#print(texto)\n",
    "acordes = scp(text=texto).xpath('//div[@id=\"js-view-script\"]/script/text()').extract()[1]"
   ]
  },
  {
   "cell_type": "code",
   "execution_count": 13,
   "metadata": {},
   "outputs": [
    {
     "name": "stdout",
     "output_type": "stream",
     "text": [
      "[{\"chord\":\"Cm7\",\"alt\":\"Am7\",\"guitar\":[\"X 0 2 0 1 0\",\"X 0 2 0 1 3\",\"5 3 5 5 X X\",\"5 3 5 2 X X\",\"X 12 10 12 13 10\",\"5 X 5 5 5 5\",\"5 5 5 5 5 7\",\"5 X 5 5 5 X\",\"X X 7 9 8 8\",\"5 7 5 5 5 5\",\"X 12 10 9 8 X\",\"X 12 10 12 13 X\",\"X 12 14 12 13 12\",\"17 X 17 17 17 X\",\"X X 19 21 20 20\",\"X 24 22 21 20 X\",\"X 0 5 5 5 5\",\"X X 7 9 8 X\",\"5 X X 5 5 3\",\"X X 7 5 8 5\",\"X 5 7 5 8 5\",\"X 0 X 5 5 3\"],\"cavaco\":[\"7 P5 5 5\"],\"keyboard\":[\"10 1 5 8\"],\"ukulele\":[\"0 0 0 0\",\"2 4 3 3\",\"0 4 5 3\",\"5 4 3 0\",\"5 7 0 0\",\"5 7 5 7\",\"9 7 8 0\",\"0 9 8 7\",\"0 0 5 7\",\"9 9 8 10\",\"12 12 12 12\",\"14 12 12 10\",\"14 0 0 10\",\"14 0 12 10\",\"14 12 0 10\",\"0 4 8 0\"]},{\"chord\":\"D#\",\"alt\":\"C\",\"guitar\":[\"X 3 2 0 1 0\",\"X 3 2 0 1 3\",\"X 3 2 0 1 X\",\"X 3 5 5 5 3\",\"8 7 5 5 5 8\",\"8 7 5 5 5 X\",\"8 10 10 9 8 8\",\"X X 10 9 8 8\",\"X X 10 12 13 12\",\"X 15 14 12 13 12\",\"X 15 14 12 13 X\",\"X 15 17 17 17 15\",\"20 19 17 17 17 20\",\"20 19 17 17 17 X\",\"20 22 22 21 20 20\",\"X X 22 21 20 20\",\"X 3 5 0 5 0\",\"X 3 2 X X X\",\"X 3 2 0 X X\",\"X 3 P5 5 5 X\",\"X X X P12 13 12\",\"X 2 X 0 X 0\",\"10 X 10 9 8 X\",\"X X 10 9 8 X\",\"X 3 5 5 5 X\"],\"cavaco\":[\"2 0 1 2\"],\"keyboard\":[\"1 5 8\"],\"ukulele\":[\"0 0 0 3\",\"0 0 3 3\",\"0 4 3 3\",\"5 4 3 3\",\"0 4 0 3\",\"5 7 0 7\",\"5 7 8 7\",\"0 7 8 7\",\"0 0 8 7\",\"9 7 8 7\",\"9 0 8 10\",\"9 7 8 10\",\"9 0 0 10\",\"x 0 3 7\",\"5 4 3 7\",\"5 0 3 7\",\"5 7 0 3\",\"5 4 3 x\",\"5 7 3 7\",\"x 0 0 10\",\"x 0 12 10\",\"x 12 12 10\",\"5 7 0 x\",\"12 0 0 10\",\"12 0 12 10\",\"9 0 12 10\",\"x 4 3 3\",\"x 7 0 3\",\"x 12 0 10\",\"12 12 0 10\",\"9 7 8 x\",\"9 12 0 10\",\"9 12 8 10\",\"9 12 12 10\",\"0 0 0 7\",\"0 0 3 7\",\"0 0 0 x\",\"x 7 8 7\",\"0 7 0 3\",\"0 4 8 7\",\"0 0 0 10\",\"0 0 12 10\",\"0 12 12 10\",\"0 12 0 10\",\"0 4 8 x\",\"12 12 12 10\"]},{\"chord\":\"D#4\",\"alt\":\"C4\",\"guitar\":[\"X 3 3 0 1 0\",\"X 3 2 0 1 0\",\"X 3 3 0 1 3\",\"X 3 2 0 1 3\",\"X 3 5 5 6 3\",\"X 3 2 0 1 X\",\"8 10 10 10 8 8\",\"X 3 5 5 5 3\",\"X X 10 10 8 8\",\"8 7 5 5 5 8\",\"X X 10 12 13 13\",\"8 7 5 5 5 X\",\"X 15 15 12 13 X\",\"8 10 10 9 8 8\",\"X 15 17 17 18 15\",\"X X 10 9 8 8\",\"20 22 22 22 20 20\",\"X X 10 12 13 12\",\"X X 22 22 20 20\",\"X 15 14 12 13 12\",\"X 15 14 12 13 X\",\"X 3 3 0 1 X\",\"X 15 17 17 17 15\",\"X 1 5 5 5 1\",\"20 19 17 17 17 20\",\"X 3 3 X X X\",\"20 19 17 17 17 X\",\"10 X 10 10 X X\",\"20 22 22 21 20 20\",\"X 3 3 5 3 4\",\"X X 22 21 20 20\"],\"cavaco\":[\"3 0 1 3\"],\"keyboard\":[\"1 6 8\"],\"ukulele\":[\"5 5 3 3\",\"5 5 3 x\",\"5 7 8 8\",\"10 0 8 10\",\"x 0 13 10\",\"x 12 13 10\",\"12 0 8 8\",\"12 0 13 10\",\"10 0 13 10\",\"x 5 3 3\",\"10 7 8 8\",\"10 7 8 10\",\"10 7 8 x\",\"10 12 8 10\",\"10 12 13 10\",\"0 5 3 3\",\"0 0 1 3\",\"0 5 8 8\",\"0 7 8 8\",\"0 0 8 8\",\"0 0 1 x\",\"x 7 8 8\",\"0 5 1 3\",\"0 5 8 x\",\"0 0 13 10\",\"0 12 13 10\",\"0 12 8 8\",\"12 12 13 10\",\"12 12 8 8\"]},{\"chord\":\"D#9\",\"alt\":\"C9\",\"guitar\":[\"X 3 0 0 1 0\",\"X 2 1 0 3 4\",\"X 3 2 0 3 3\",\"X 3 5 5 3 3\",\"X 3 2 0 3 0\",\"X 3 0 0 3 0\",\"X 3 2 0 3 X\",\"X 3 0 0 3 3\",\"0 3 0 2 0 0\",\"X 3 0 0 3 X\"],\"cavaco\":[\"2 0 1 0\"],\"keyboard\":[\"1 3 5\"],\"ukulele\":[\"5 4 6 5\",\"5 2 0 1\",\"7 0 6 7\",\"9 0 6 5\",\"9 0 10 13\",\"7 4 6 3\",\"7 10 8 7\",\"9 12 10 13\",\"3 2 0 3\",\"3 0 0 5\",\"x 0 0 5\",\"5 2 0 5\",\"5 4 0 5\",\"5 4 3 5\",\"5 2 0 3\",\"5 0 0 5\",\"7 0 0 5\",\"5 7 0 5\",\"x 0 10 7\",\"5 4 8 5\",\"7 0 0 3\",\"5 2 0 x\",\"9 0 0 5\",\"7 0 0 7\",\"7 0 3 7\",\"9 0 10 7\",\"9 0 8 5\",\"7 0 8 7\",\"7 0 0 10\",\"7 0 10 7\",\"9 0 10 10\",\"7 0 0 x\",\"9 0 10 x\",\"x 2 0 3\",\"7 4 0 3\",\"7 7 0 3\",\"7 4 3 3\",\"7 7 8 7\",\"7 4 8 5\",\"7 4 8 7\",\"7 4 8 x\",\"x 4 8 5\",\"9 7 8 5\",\"9 12 10 10\",\"9 12 10 x\",\"0 0 0 5\",\"0 2 0 3\",\"0 0 10 7\",\"0 4 8 5\"]},{\"chord\":\"G#9\",\"alt\":\"F9\",\"guitar\":[\"1 3 3 0 1 X\",\"1 3 5 2 1 1\",\"1 X 3 0 1 X\",\"X X 3 0 1 3\",\"X 8 10 10 8 8\",\"X 8 10 12 10 8\",\"13 X 10 12 10 X\",\"13 15 17 14 13 13\",\"X 20 22 22 20 20\",\"X 20 22 24 22 20\",\"X X 3 2 1 3\",\"X X 3 0 1 1\"],\"cavaco\":[\"3 0 1 3\"],\"keyboard\":[\"6 8 10\"],\"ukulele\":[\"10 9 11 10\",\"10 7 11 0\",\"0 3 1 0\",\"0 5 5 6\",\"0 9 11 8\",\"12 9 11 8\",\"2 5 3 6\",\"8 7 5 8\",\"x 5 3 0\",\"10 9 8 10\",\"10 7 8 0\",\"10 9 13 10\",\"0 0 1 0\",\"0 5 3 0\",\"0 5 5 3\",\"0 5 5 0\",\"0 5 8 0\",\"0 5 1 0\",\"0 5 5 8\",\"0 0 5 8\",\"x 7 5 8\",\"0 7 5 8\",\"0 9 8 8\",\"0 5 5 x\",\"0 9 5 8\",\"12 9 8 8\",\"0 9 13 10\",\"0 9 13 12\",\"12 9 13 0\",\"0 9 13 0\",\"12 9 13 10\",\"12 9 13 12\",\"12 9 13 x\",\"0 9 13 x\",\"2 5 3 0\",\"2 5 3 3\",\"2 5 3 x\",\"x 9 13 10\",\"14 12 13 10\",\"5 5 3 0\",\"5 7 5 8\",\"14 0 13 10\"]},{\"chord\":\"A#5\",\"alt\":\"G5\",\"guitar\":[\"3 X 0 0 3 X\",\"3 5 5 X X X\",\"X 10 12 12 X X\",\"3 X 0 0 X X\",\"X X 5 0 3 X\",\"5 X 0 0 3 X\",\"3 X 0 0 3 3\",\"X 10 12 X X X\",\"3 5 X X X X\",\"15 17 X X X X\",\"X X 5 7 8 X\",\"X X 5 7 X X\",\"3 X 0 0 3 2\"],\"cavaco\":[],\"keyboard\":[\"8 12 3\"],\"ukulele\":[\"0 2 3 5\",\"x x 3 5\",\"0 7 10 10\",\"0 7 3 5\",\"0 2 3 x\",\"0 2 x x\",\"x 7 10 10\",\"x 7 3 5\",\"0 7 10 x\",\"x 7 10 x\",\"0 14 10 10\",\"12 14 10 10\",\"0 14 10 x\",\"12 14 10 x\",\"x 2 3 5\",\"x 2 3 x\",\"7 7 3 5\",\"7 7 10 10\",\"x x 10 10\",\"7 7 3 x\",\"7 7 x x\",\"7 7 10 x\",\"x 14 10 10\"],\"fingers\":\"2 3\"}]\n"
     ]
    }
   ],
   "source": [
    "inicio = acordes.find('chords: ') + 8\n",
    "fim = acordes.find('fingers') + 16\n",
    "acordes = acordes[inicio:fim]\n",
    "print(acordes)"
   ]
  },
  {
   "cell_type": "code",
   "execution_count": 14,
   "metadata": {},
   "outputs": [
    {
     "data": {
      "text/plain": [
       "['Cm7', 'D#', 'D#4', 'D#9', 'G#9', 'A#5']"
      ]
     },
     "execution_count": 14,
     "metadata": {},
     "output_type": "execute_result"
    }
   ],
   "source": [
    "js = json.loads(acordes)\n",
    "#print(js)\n",
    "chords = []\n",
    "for chord in js:\n",
    "    chords.append(chord['chord'])\n",
    "chords"
   ]
  },
  {
   "cell_type": "code",
   "execution_count": 6,
   "metadata": {},
   "outputs": [],
   "source": [
    "# retirando informações do letras.mus.br"
   ]
  },
  {
   "cell_type": "code",
   "execution_count": 2,
   "metadata": {},
   "outputs": [
    {
     "name": "stdout",
     "output_type": "stream",
     "text": [
      "200\n"
     ]
    }
   ],
   "source": [
    "r = req.get('https://www.letras.mus.br/kell-smith/era-uma-vez/')\n",
    "print(r.status_code)"
   ]
  },
  {
   "cell_type": "code",
   "execution_count": 3,
   "metadata": {},
   "outputs": [],
   "source": [
    "texto = r.content\n",
    "#print(texto)\n",
    "letra = scp(text=texto).xpath('//div[@class=\"cnt-letra p402_premium\"]/article/p/text()').extract()\n",
    "qtd_exibicoes = list(scp(text=texto).xpath('//div[@class=\"cnt-info_exib\"]/b/text()').extract_first())\n",
    "qtd_exibicoes.remove(\".\")\n",
    "qtd_exibicoes = int(''.join(qtd_exibicoes))\n",
    "genero = scp(text=texto).xpath('//div[@id=\"breadcrumb\"]/span/a/span/text()').extract()[1]"
   ]
  },
  {
   "cell_type": "code",
   "execution_count": 6,
   "metadata": {
    "scrolled": true
   },
   "outputs": [
    {
     "name": "stdout",
     "output_type": "stream",
     "text": [
      "['Era uma vez', 'O dia em que todo dia era bom', 'Delicioso gosto e o bom gosto', 'Das nuvens serem feitas de algodão', 'Dava pra ser herói', 'No mesmo dia em que escolhia ser vilão', 'E acabava tudo em lanche, um banho quente', 'E talvez um arranhão', 'Dava pra ver', 'A ingenuidade, a inocência cantando no tom', 'Milhões de mundos e universos tão reais', 'Quanto a nossa imaginação', 'Bastava um colo, um carinho', 'E o remédio era beijo e proteção', 'Tudo voltava a ser novo no outro dia', 'Sem muita preocupação', 'É que a gente quer crescer', 'E, quando cresce, quer voltar do início', 'Porque um joelho ralado', 'Dói bem menos que um coração partido', 'É que a gente quer crescer', 'E, quando cresce, quer voltar do início', 'Porque um joelho ralado', 'Dói bem menos que um coração partido', 'Dá pra viver', 'Mesmo depois de descobrir que o mundo ficou mau', 'É só não permitir que a maldade do mundo', 'Te pareça normal', 'Pra não perder a magia de acreditar', 'Na felicidade real', 'E entender que ela mora no caminho', 'E não no final', 'É que a gente quer crescer', 'E, quando cresce, quer voltar do início', 'Porque um joelho ralado', 'Dói bem menos que um coração partido', 'É que a gente quer crescer', 'E, quando cresce, quer voltar do início', 'Porque um joelho ralado', 'Dói bem menos que um coração partido', 'Era uma vez']\n",
      "829823\n",
      "Pop\n"
     ]
    }
   ],
   "source": [
    "print(letra)\n",
    "print(qtd_exibicoes)\n",
    "print(genero)"
   ]
  },
  {
   "cell_type": "code",
   "execution_count": 8,
   "metadata": {},
   "outputs": [
    {
     "data": {
      "text/plain": [
       "103"
      ]
     },
     "execution_count": 8,
     "metadata": {},
     "output_type": "execute_result"
    }
   ],
   "source": [
    "#palavras_unicas = []\n",
    "#for frase in letra:\n",
    "len(list(set(' '.join(letra).lower().split(' '))))   "
   ]
  },
  {
   "cell_type": "code",
   "execution_count": 17,
   "metadata": {},
   "outputs": [
    {
     "name": "stdout",
     "output_type": "stream",
     "text": [
      "825136\n",
      "Pop\n"
     ]
    }
   ],
   "source": [
    "len(list(set(' '.join(acordes).lower().split(' '))))\n",
    "print(qtd_exibicoes)\n",
    "print(genero)"
   ]
  },
  {
   "cell_type": "code",
   "execution_count": 10,
   "metadata": {},
   "outputs": [],
   "source": [
    "# scrapy do site dos hits"
   ]
  },
  {
   "cell_type": "code",
   "execution_count": 18,
   "metadata": {},
   "outputs": [
    {
     "name": "stdout",
     "output_type": "stream",
     "text": [
      "200\n"
     ]
    }
   ],
   "source": [
    "sitehits = req.get('http://www.mofolandia.com.br/mofolandia_nova/musica_tophits_81.htm')\n",
    "print(sitehits.status_code)"
   ]
  },
  {
   "cell_type": "code",
   "execution_count": 19,
   "metadata": {},
   "outputs": [
    {
     "data": {
      "text/plain": [
       "['Bette Davis Eyes - Kim Carnes',\n",
       " 'Baila Comigo - Rita Lee',\n",
       " 'Nos Bailes da Vida - MIlton Nascimento',\n",
       " 'Emoções - Roberto Carlos',\n",
       " 'Endless Love - Diana Ross & Lionel Richie',\n",
       " '(Just Like) Starting Over - John Lennon',\n",
       " 'Clarear - Roupa Nova',\n",
       " 'Palco - Gilberto Gil',\n",
       " 'Lança Perfume - Rita Lee',\n",
       " \"Arthur's Theme (Best That You Can Do) - Christopher Cross\",\n",
       " 'Deixa Chover - Guilherme Arantes',\n",
       " 'Nova Manhã - 14-Bis',\n",
       " 'Lua e Estrela - Caetano Veloso',\n",
       " 'Kiss On My List - Daryl Hall & John Oates',\n",
       " 'Se Eu Quiser Falar Com Deus - Gilberto Gil',\n",
       " 'Woman - John Lennon',\n",
       " 'Paixão - Kleiton & Kledir',\n",
       " 'The One That You Love - Air Supply',\n",
       " 'Caçador de Mim - Milton Nascimento',\n",
       " 'Time - Alan Parsons Project',\n",
       " 'Keep On Loving You - REO Speedwagon',\n",
       " 'Guilty - Barbra Streisand & Barry Gibb',\n",
       " 'Eternas Ondas - Fagner',\n",
       " 'Living Inside Myself - Gino Vannelli',\n",
       " 'Bem-Te-Vi - Renato Terra',\n",
       " 'Cama e Mesa - Roberto Carlos',\n",
       " 'Eu Também Quero Beijar - Pepeu Gomes',\n",
       " 'Neném - Boca Livre',\n",
       " 'Conga, Conga, Conga - Gretchen',\n",
       " 'Abre Coração - Marcelo',\n",
       " 'Celebration - Kool & The Gang',\n",
       " 'Shine On - L.T.D.',\n",
       " 'Decisão - Joanna',\n",
       " 'Just The Two Of Us - Groover Washington Jr.',\n",
       " 'For Your Eyes Only - Sheena Easton',\n",
       " 'Luiza - Tom Jobim',\n",
       " 'Eu Me Rendo - Fábio Jr.',\n",
       " 'Outras Palavras - Caetano Veloso',\n",
       " 'O Sal da Terra - Beto Guedes',\n",
       " 'Quero Quero - Cláudio Nucci',\n",
       " 'Canção de Verão - Roupa Nova',\n",
       " 'Morning Train (Nine To Five) - Sheena Easton',\n",
       " 'All Those Years Ago - George Harrison',\n",
       " 'Crying - Don McLean',\n",
       " 'Daquilo Que Eu Sei - Ivan Lins',\n",
       " 'Hearts - Marty Balin',\n",
       " 'Reality - Richard Sanderson',\n",
       " 'Rapture - Blondie',\n",
       " 'A Chuva Cai - Beth Carvalho',\n",
       " 'Homem Com H - Ney Matogrosso\\xa0',\n",
       " 'Lady (You Bring Me Up) - Commodores',\n",
       " 'Without Your Love - Roger Daltrey',\n",
       " 'Being With You - Smokey Robinson',\n",
       " 'Take Me Now - David Gates',\n",
       " 'Seduzir - Djavan',\n",
       " 'Para Ser o Sol - A Cor do Som',\n",
       " 'Me Deixas Louca - Elis Regina',\n",
       " 'Tell It Like It Is - Heart',\n",
       " 'Dia Branco - Geraldo Azevedo',\n",
       " 'Tesouros da Juventude - Lulu Santos',\n",
       " 'The Best Of Times - Styx',\n",
       " 'Purpurina - Lucinha Lins',\n",
       " 'Theme From \"Greatest American Hero\" - Joey Scarbury',\n",
       " \"You Weren't In Love - Mick Fleetwood\",\n",
       " '9 To 5 - Dolly Parton',\n",
       " \"What's In A Kiss? - Gilbert O'Sullivan\",\n",
       " 'Portela na Avenida - Clara Nunes',\n",
       " 'Bem Simples - Roupa Nova',\n",
       " 'Corações a Mil - Marina',\n",
       " 'A Woman Needs Love - Ray Parker Jr & Raydio',\n",
       " 'Agora Só Falta Você - Zizi Possi',\n",
       " 'Coração Cigano - Wando',\n",
       " 'Zanzibar - A Cor do Som',\n",
       " 'Vira Virou - Kleiton & Kledir',\n",
       " 'Good Thing Going - Sugar Minott',\n",
       " 'Onde a Dor Não Tem Razão - Paulinho da Viola',\n",
       " 'Pega na Mentira - Erasmo Carlos',\n",
       " \"I Don't Need You - Kenny Rogers\",\n",
       " 'Love On The Rocks - Neil Diamond',\n",
       " 'A Terceira Lâmina - Zé Ramalho',\n",
       " 'Estrela Guia - Joanna',\n",
       " 'Gata Todo Dia - Marina',\n",
       " 'Old Photographs - Jim Capaldi',\n",
       " 'Shaddap You Face - Joe Dolce',\n",
       " 'Hurt - Carly Simon',\n",
       " 'Sentinela - Milton Nascimento',\n",
       " 'Perdidos na Selva - Gang 90 & As Absurdettes',\n",
       " 'If Leaving Me Is Easy - Phil Collins',\n",
       " 'Physical - Olivia Newton-John',\n",
       " 'Planeta Água - Guilherme Arantes',\n",
       " 'Stars on 45 (medley) - Stars On 45',\n",
       " 'Vida - Beth Goulart',\n",
       " 'Viajante - Ney Matogrosso',\n",
       " 'Vevecos, Panelas e Canelas - Beto Guedes',\n",
       " \"Comin' In And Out Of Your Life - Barbra Streisand\",\n",
       " 'Do You Miss Me - Morris Albert',\n",
       " 'Eu Velejava em Você - Zizi Possi',\n",
       " 'Eu Voltei - Cláudia Telles',\n",
       " 'Mordomia - Almir Guineto',\n",
       " 'Meu Bem Meu Mal - Gal Costa']"
      ]
     },
     "execution_count": 19,
     "metadata": {},
     "output_type": "execute_result"
    }
   ],
   "source": [
    "texto = sitehits.content.decode('iso8859-1')\n",
    "#print(texto)\n",
    "lista_hits81 = scp(text=texto).xpath('//font[@face=\"Arial\"]/text()').extract()\n",
    "#print(lista_hits81)\n",
    "lista81_nova = []\n",
    "\n",
    "for musica in lista_hits81:\n",
    "    laux = list(musica)\n",
    "    laux.remove(\"\\n\")\n",
    "    laux.remove(\"\\r\")\n",
    "    lista81_nova.append(\"\".join(laux).replace(\"      \",' '))\n",
    "lista81_nova "
   ]
  },
  {
   "cell_type": "code",
   "execution_count": 20,
   "metadata": {},
   "outputs": [
    {
     "data": {
      "text/plain": [
       "200"
      ]
     },
     "execution_count": 20,
     "metadata": {},
     "output_type": "execute_result"
    }
   ],
   "source": [
    "post_tentativa = req.get(\"https://duckduckgo.com/?q=Bette+Davis+Eyes+-+Kim+Carnes+letras.mus.br&t=h_&ia=web\")\n",
    "post_tentativa.status_code"
   ]
  },
  {
   "cell_type": "code",
   "execution_count": 21,
   "metadata": {},
   "outputs": [
    {
     "name": "stdout",
     "output_type": "stream",
     "text": [
      "b'<!DOCTYPE html><!--[if IEMobile 7 ]> <html lang=\"en_US\" class=\"no-js iem7\"> <![endif]--><!--[if lt IE 7]> <html lang=\"en_US\" class=\"no-js ie6 lt-ie10 lt-ie9 lt-ie8 lt-ie7\"><![endif]--><!--[if IE 7]>    <html lang=\"en_US\" class=\"no-js ie7 lt-ie10 lt-ie9 lt-ie8\"> <![endif]--><!--[if IE 8]>    <html lang=\"en_US\" class=\"no-js ie8 lt-ie10 lt-ie9  has-zcm\"><![endif]--><!--[if IE 9]>    <html lang=\"en_US\" class=\"no-js ie9 lt-ie10 has-zcm\"> <![endif]--><!--[if (gte IE 9)|(gt IEMobile 7)|!(IEMobile)|!(IE)]><!--><html class=\"no-js has-zcm  \"><!--<![endif]--><head><meta http-equiv=\"X-UA-Compatible\" content=\"IE=edge, chrome=1\"><meta http-equiv=\"content-type\" content=\"text/html; charset=utf-8\"><title>Bette Davis Eyes - Kim Carnes letras.mus.br at DuckDuckGo</title><link rel=\"stylesheet\" href=\"/s1517.css\" type=\"text/css\"><link rel=\"stylesheet\" href=\"/r1517.css\" type=\"text/css\"><link rel=\"manifest\" href=\"manifest.json\"><meta name=\"robots\" content=\"noindex,nofollow\"><meta name=\"referrer\" content=\"origin\"><link rel=\"shortcut icon\" href=\"/favicon.ico\" type=\"image/x-icon\" sizes=\"16x16 24x24 32x32 64x64\"/><link rel=\"apple-touch-icon\" href=\"/assets/icons/meta/DDG-iOS-icon_60x60.png\"/><link rel=\"apple-touch-icon\" sizes=\"76x76\" href=\"/assets/icons/meta/DDG-iOS-icon_76x76.png\"/><link rel=\"apple-touch-icon\" sizes=\"120x120\" href=\"/assets/icons/meta/DDG-iOS-icon_120x120.png\"/><link rel=\"apple-touch-icon\" sizes=\"152x152\" href=\"/assets/icons/meta/DDG-iOS-icon_152x152.png\"/><link rel=\"image_src\" href=\"/assets/icons/meta/DDG-icon_256x256.png\"/><script type=\"text/javascript\">var ct,fd,fq,it,iqa,iqm,iqs,iqp,iqq,qw,dl,ra,rv,rad,r1hc,r1c,r2c,r3c,rfq,rq,rds,rs,rt,rl,y,y1,ti,tig,iqd,locale,settings_js_version=\\'s2315\\',is_twitter=\\'\\';fq=0;fd=1;it=0;iqa=0;iqbi=0;iqm=1;iqs=0;iqp=0;iqq=0;qw=7;dl=\\'en\\';ct=\\'BR\\';iqd=0;r1hc=0;r1c=0;r3c=0;rq=\\'Bette%20Davis%20Eyes%20%2D%20Kim%20Carnes%20letras.mus.br\\';rqd=\"Bette Davis Eyes - Kim Carnes letras.mus.br\";rfq=0;rt=\\'\\';ra=\\'h_\\';rv=\\'\\';rad=\\'\\';rds=30;rs=0;spice_version=\\'1360\\';spice_paths=\\'{}\\';locale=\\'en_US\\';settings_url_params={};rl=\\'us-en\\';rlo=0;df=\\'\\';ds=\\'\\';sfq=\\'\\';iar=\\'\\';vqd=\\'310352182820460690721598013595229384743\\';</script><meta name=\"viewport\" content=\"width=device-width, initial-scale=1, maximum-scale=1, user-scalable=0\" /><meta name=\"HandheldFriendly\" content=\"true\" /><meta name=\"apple-mobile-web-app-capable\" content=\"no\" /></head><body class=\"body--serp\"><input id=\"state_hidden\" name=\"state_hidden\" type=\"text\" size=\"1\"><span class=\"hide\">Ignore this box please.</span><div id=\"spacing_hidden_wrapper\"><div id=\"spacing_hidden\"></div></div><script type=\"text/javascript\" src=\"/locales/en_US/LC_MESSAGES/duckduckgo-duckduckgo+sprintf+gettext+locale-simple.20180106.093003.js\"></script><script type=\"text/javascript\" src=\"/lib/l109.js\"></script><script type=\"text/javascript\" src=\"/util/u165.js\"></script><script type=\"text/javascript\" src=\"/d2315.js\"></script><div class=\"site-wrapper  js-site-wrapper\"><div id=\"header_wrapper\" class=\"header-wrap js-header-wrap\"><div id=\"header\" class=\"header  cw\"><div class=\"header__search-wrap\"><a tabindex=\"-1\" href=\"/?t=h_\" class=\"header__logo-wrap js-header-logo\"><span class=\"header__logo js-logo-ddg\">DuckDuckGo</span></a><div class=\"header__content  header__search\"><form id=\"search_form\" class=\"search--adv  search--header  js-search-form\" name=\"x\" action=\"/\"><input type=\"text\" name=\"q\" tabindex=\"1\" autocomplete=\"off\" id=\"search_form_input\" class=\"search__input--adv  js-search-input\" value=\"Bette Davis Eyes - Kim Carnes letras.mus.br\"><input id=\"search_form_input_clear\" class=\"search__clear  js-search-clear\" type=\"button\" tabindex=\"3\" value=\"X\"/><input id=\"search_button\" class=\"search__button  js-search-button\" type=\"submit\" tabindex=\"2\" value=\"S\" /><a id=\"search_dropdown\" class=\"search__dropdown\" href=\"javascript:;\" tabindex=\"4\"></a><div id=\"search_elements_hidden\" class=\"search__hidden  js-search-hidden\"></div></form></div></div><div id=\"duckbar\" class=\"zcm-wrap  zcm-wrap--header  is-noscript-hidden\"></div></div></div><div id=\"zero_click_wrapper\" class=\"zci-wrap\"></div><div id=\"vertical_wrapper\" class=\"verticals\"></div><div id=\"web_content_wrapper\" class=\"content-wrap \"><div class=\"serp__top-right  js-serp-top-right\"></div><div class=\"serp__bottom-right  js-serp-bottom-right\"><div class=\"js-feedback-btn-wrap\"></div></div><div class=\"cw\"><div id=\"links_wrapper\" class=\"serp__results js-serp-results\"><div class=\"results--main\"><div class=\"search-filters-wrap\"><div class=\"js-search-filters search-filters\"></div></div><noscript><meta http-equiv=\"refresh\" content=\"0;URL=/html?q=Bette%20Davis%20Eyes%20%2D%20Kim%20Carnes%20letras.mus.br\"><link href=\"/css/noscript.css\" rel=\"stylesheet\" type=\"text/css\"><div class=\"msg msg--noscript\"><p class=\"msg-title--noscript\">You are being redirected to the non-JavaScript site.</p>Click <a href=\"/html/?q=Bette%20Davis%20Eyes%20%2D%20Kim%20Carnes%20letras.mus.br\">here</a> if it doesn\\'t happen automatically.</div></noscript><div class=\"ia-modules js-ia-modules\"></div><div id=\"message\" class=\"results--message\"></div><div id=\"ads\" class=\"results--ads results--ads--main is-hidden js-results-ads\"></div><div id=\"links\" class=\"results is-hidden js-results\"></div></div><div class=\"results--sidebar js-results-sidebar\"><div class=\"sidebar-modules js-sidebar-modules\"></div><div class=\"is-hidden js-sidebar-ads\"></div></div></div></div></div><div id=\"bottom_spacing2\"> </div></div><script type=\"text/javascript\"></script><script type=\"text/JavaScript\">function nrji() {nrj(\\'/t.js?q=Bette%20Davis%20Eyes%20%2D%20Kim%20Carnes%20letras.mus.br&l=us-en&p=1&s=0&dl=en&ct=BR&ss_mkt=us&yhs=1\\');nrje(\\'/d.js?q=Bette%20Davis%20Eyes%20%2D%20Kim%20Carnes%20letras.mus.br&l=us-en&p=1&s=0&a=h_&dl=en&ct=BR&ss_mkt=us&vqd=310352182820460690721598013595229384743&yhs=1\\',\\'/d.js?q=Bette%20Davis%20Eyes%20%2D%20Kim%20Carnes%20letras.mus.br&l=us-en&p=1&s=0&a=h_&dl=en&ct=BR&ss_mkt=us&vqd=310352182820460690721598013595229384743&yhs=1\\');;};DDG.ready(nrji, 1);</script><script src=\"/g1815.js\"></script><script type=\"text/javascript\">DDG.page = new DDG.Pages.SERP({ showSafeSearch: 0, instantAnswerAds: false });</script><div id=\"z2\"> </div><div id=\"z\"></div></body></html>'\n"
     ]
    }
   ],
   "source": [
    "print(post_tentativa.content)"
   ]
  },
  {
   "cell_type": "code",
   "execution_count": 17,
   "metadata": {},
   "outputs": [
    {
     "data": {
      "text/plain": [
       "[]"
      ]
     },
     "execution_count": 17,
     "metadata": {},
     "output_type": "execute_result"
    }
   ],
   "source": [
    "#letra = scp(text=post_tentativa.content).xpath('//div[@class=\"gs-per-result-labels\"]').extract()\n",
    "#letra"
   ]
  },
  {
   "cell_type": "code",
   "execution_count": 22,
   "metadata": {},
   "outputs": [],
   "source": [
    "# tentativa com requests falha\n",
    "# tentando com webdrive selenium\n",
    "from selenium import webdriver\n",
    "from selenium.webdriver.chrome.options import Options"
   ]
  },
  {
   "cell_type": "code",
   "execution_count": 23,
   "metadata": {},
   "outputs": [
    {
     "name": "stdout",
     "output_type": "stream",
     "text": [
      "<!DOCTYPE html><!--[if IEMobile 7 ]> <html lang=\"pt_BR\" class=\"no-js iem7\"> <![endif]--><!--[if lt IE 7]> <html lang=\"pt_BR\" class=\"no-js ie6 lt-ie10 lt-ie9 lt-ie8 lt-ie7\"><![endif]--><!--[if IE 7]>    <html lang=\"pt_BR\" class=\"no-js ie7 lt-ie10 lt-ie9 lt-ie8\"> <![endif]--><!--[if IE 8]>    <html lang=\"pt_BR\" class=\"no-js ie8 lt-ie10 lt-ie9  has-zcm\"><![endif]--><!--[if IE 9]>    <html lang=\"pt_BR\" class=\"no-js ie9 lt-ie10 has-zcm\"> <![endif]--><!--[if (gte IE 9)|(gt IEMobile 7)|!(IEMobile)|!(IE)]><!--><html class=\"has-zcm   js touch opacity csstransforms3d csstransitions svg cssfilters is-mobile is-mobile-device full-urls\"><!--<![endif]--><head><meta http-equiv=\"X-UA-Compatible\" content=\"IE=edge, chrome=1\"><meta http-equiv=\"content-type\" content=\"text/html; charset=utf-8\"><title>Bette Davis Eyes - Kim Carnes letras.mus.br em DuckDuckGo</title><link rel=\"stylesheet\" href=\"/s1517.css\" type=\"text/css\"><link rel=\"stylesheet\" href=\"/r1517.css\" type=\"text/css\"><link rel=\"manifest\" href=\"manifest.json\"><meta name=\"robots\" content=\"noindex,nofollow\"><meta name=\"referrer\" content=\"origin\"><link rel=\"shortcut icon\" href=\"/favicon.ico\" type=\"image/x-icon\" sizes=\"16x16 24x24 32x32 64x64\"><link rel=\"apple-touch-icon\" href=\"/assets/icons/meta/DDG-iOS-icon_60x60.png\"><link rel=\"apple-touch-icon\" sizes=\"76x76\" href=\"/assets/icons/meta/DDG-iOS-icon_76x76.png\"><link rel=\"apple-touch-icon\" sizes=\"120x120\" href=\"/assets/icons/meta/DDG-iOS-icon_120x120.png\"><link rel=\"apple-touch-icon\" sizes=\"152x152\" href=\"/assets/icons/meta/DDG-iOS-icon_152x152.png\"><link rel=\"image_src\" href=\"/assets/icons/meta/DDG-icon_256x256.png\"><script type=\"text/javascript\" async=\"\" src=\"/a.js?q=bette%20davis%20eyes%20%20kim%20carnes%20letrasmusbr&amp;s=lyrics&amp;p=1&amp;from=lyrics\"></script><script type=\"text/javascript\" async=\"\" src=\"/d.js?q=Bette%20Davis%20Eyes%20%2D%20Kim%20Carnes%20letras.mus.br&amp;l=br-pt&amp;p=1&amp;s=0&amp;dl=pt&amp;ct=BR&amp;ss_mkt=br&amp;vqd=310352182820460690721598013595229384743\"></script><script type=\"text/javascript\" async=\"\" src=\"/t.js?q=Bette%20Davis%20Eyes%20%2D%20Kim%20Carnes%20letras.mus.br&amp;l=br-pt&amp;p=1&amp;s=0&amp;dl=pt&amp;ct=BR&amp;ss_mkt=br\"></script><script type=\"text/javascript\">var ct,fd,fq,it,iqa,iqm,iqs,iqp,iqq,qw,dl,ra,rv,rad,r1hc,r1c,r2c,r3c,rfq,rq,rds,rs,rt,rl,y,y1,ti,tig,iqd,locale,settings_js_version='s2315',is_twitter='';fq=0;fd=1;it=0;iqa=0;iqbi=0;iqm=1;iqs=0;iqp=0;iqq=0;qw=7;dl='pt';ct='BR';iqd=0;r1hc=0;r1c=0;r3c=0;rq='Bette%20Davis%20Eyes%20%2D%20Kim%20Carnes%20letras.mus.br';rqd=\"Bette Davis Eyes - Kim Carnes letras.mus.br\";rfq=0;rt='';ra='';rv='';rad='';rds=30;rs=0;spice_version='1360';spice_paths='{}';locale='pt_BR';settings_url_params={};rl='br-pt';rlo=0;df='';ds='';sfq='';iar='';vqd='310352182820460690721598013595229384743';</script><meta name=\"viewport\" content=\"width=device-width, initial-scale=1, maximum-scale=1, user-scalable=0\"><meta name=\"HandheldFriendly\" content=\"true\"><meta name=\"apple-mobile-web-app-capable\" content=\"no\"><link title=\"DuckDuckGo\" type=\"application/opensearchdescription+xml\" rel=\"search\" href=\"https://duckduckgo.com/opensearch.xml?atb=v98-5__\"></head><body class=\"body--serp\"><input id=\"state_hidden\" name=\"state_hidden\" type=\"text\" size=\"1\"><span class=\"hide\">por favor, ignore este quadro.</span><div id=\"spacing_hidden_wrapper\"><div id=\"spacing_hidden\"></div></div><script type=\"text/javascript\" src=\"/locales/pt_BR/LC_MESSAGES/duckduckgo-duckduckgo+sprintf+gettext+locale-simple.20180106.093003.js\"></script><script type=\"text/javascript\" src=\"/lib/l109.js\"></script><script type=\"text/javascript\" src=\"/util/u165.js\"></script><script type=\"text/javascript\" src=\"/d2315.js\"></script><div class=\"site-wrapper  js-site-wrapper\"><div id=\"header_wrapper\" class=\"header-wrap js-header-wrap\"><div id=\"header\" class=\"header  cw\"><div class=\"header__search-wrap\"><a tabindex=\"-1\" href=\"/\" class=\"header__logo-wrap js-header-logo\"><span class=\"header__logo js-logo-ddg\">DuckDuckGo</span></a><div class=\"header__content  header__search\"><form id=\"search_form\" class=\"search--adv  search--header  js-search-form has-text\" name=\"x\" action=\"/\" method=\"GET\"><input type=\"text\" name=\"q\" tabindex=\"1\" autocomplete=\"off\" id=\"search_form_input\" class=\"search__input--adv  js-search-input\" value=\"Bette Davis Eyes - Kim Carnes letras.mus.br\" autocapitalize=\"off\" autocorrect=\"off\"><input id=\"search_form_input_clear\" class=\"search__clear  js-search-clear\" type=\"button\" tabindex=\"3\" value=\"X\"><input id=\"search_button\" class=\"search__button  js-search-button\" type=\"submit\" tabindex=\"2\" value=\"S\"><a id=\"search_dropdown\" class=\"search__dropdown\" href=\"javascript:;\" tabindex=\"4\"></a><div id=\"search_elements_hidden\" class=\"search__hidden  js-search-hidden\"></div><div class=\"search__autocomplete\" style=\"position: absolute; display: none;\"><div class=\"acp-wrap\"></div><div class=\"acp-footer is-hidden\"><span class=\"acp-footer__instructions\">Selecione um !bang para uma busca direta em um site</span><span class=\"acp-footer__link\"><a class=\"no-visited\" href=\"/bang\">Mais sobre !bangs</a></span></div></div></form></div></div><div id=\"duckbar\" class=\"zcm-wrap  zcm-wrap--header  is-noscript-hidden\"><div class=\"zcm\"><ul class=\"zcm__menu zcm__constant has-zci\" id=\"duckbar_static\"><li class=\"zcm__item\"><a data-zci-link=\"web\" class=\"zcm__link  js-zci-link  js-zci-link--web \" href=\"#\">Web</a></li><li class=\"zcm__item\"><a data-zci-link=\"images\" class=\"zcm__link  js-zci-link  js-zci-link--images \" href=\"#\">Imagens</a></li><li class=\"zcm__item\"><a data-zci-link=\"videos\" class=\"zcm__link  js-zci-link  js-zci-link--videos \" href=\"#\">Vídeos</a></li><li class=\"zcm__item\"><a data-zci-link=\"news\" class=\"zcm__link  js-zci-link  js-zci-link--news \" href=\"#\">Notícias</a></li></ul><ul class=\"zcm__menu zcm__dynamic\" id=\"duckbar_new\"><span id=\"duckbar_dynamic_sep\" class=\"zcm__sep--h sep--before is-hidden\"></span></ul></div></div></div><div class=\"header--aside\"><a class=\"header__button--menu  js-side-menu-open\" href=\"#\">⇶</a></div><div class=\"header--aside\"><div class=\"showcase\"><span class=\"js-showcase-button\" aria-haspopup=\"true\" aria-label=\"Confira a lista de coisas que fizemos também.\" role=\"button\" aria-pressed=\"false\"><span class=\"header--aside__msg showcase__label\" id=\"wedonttrack\">Não rastreamos você</span></span><div class=\"header--aside__msg sep--after\"><span class=\"popout-trig  js-popout\"><span class=\"js-popout-link js-showcase-button ddgsi ddgsi-down showcase__dropdown\" aria-hidden=\"true\"></span><div class=\"modal modal--popout modal--popout--bottom-left modal--popout--sm  js-popout-main showcase__dropdown__modal\"><div class=\"modal__box\"><div class=\"modal__body pd--none\"><nav aria-labelledby=\"wedonttrack\"><section class=\"showcase__dropdown-top\"><ul aria-label=\"Aqui estão algumas coisas que fizemos que você pode gostar.\"><li class=\"fix showcase__dropdown__list\"><a href=\"https://spreadprivacy.com/\" class=\"eighteen js-showcase-item\" aria-hidden=\"true\" data-id=\"blog\"><div class=\"privacy-icon\"></div></a><a href=\"https://spreadprivacy.com/\" class=\"text-left showcase__link eighty js-showcase-item\" data-id=\"blog\"><h1 class=\"showcase__heading tx-clr--dk\">Receba Dicas de Privacidade</h1><p class=\"showcase__subheading\">Encontre dicas úteis de privacidade no nosso blog.</p></a></li><li class=\"fix showcase__dropdown__list\"><a href=\"https://duckduckgo.com/spread\" class=\"eighteen js-showcase-item\" aria-hidden=\"true\" data-id=\"spread\"><div class=\"spread-icon\"></div></a><a href=\"https://duckduckgo.com/spread\" class=\"text-left showcase__link eighty js-showcase-item\" data-id=\"spread\"><h1 class=\"showcase__heading tx-clr--dk\">Spread DuckDuckGo</h1><p class=\"showcase__subheading\">Ajude seus amigos e sua família a virem para o lado do Pato!</p></a></li><li class=\"fix showcase__dropdown__list\"><a href=\"https://duckduckgo.com/bang\" class=\"eighteen js-showcase-item\" aria-hidden=\"true\" data-id=\"bangs\"><div class=\"bangs-icon\"></div></a><a href=\"https://duckduckgo.com/bang\" class=\"text-left showcase__link eighty js-showcase-item\" data-id=\"bangs\"><h1 class=\"showcase__heading tx-clr--dk\">Saiba mais sobre Bangs</h1><p class=\"showcase__subheading\">Pesquise milhares de sites diretamente no DuckDuckGo.</p></a></li></ul></section><section class=\"showcase__dropdown-bottom\"><ul class=\"text-left\" aria-label=\"We've got even more things for you.\"><li class=\"fix showcase__dropdown__list\"><a href=\"https://duckduckgo.com/donations\" class=\"eighteen showcase__icon js-showcase-item\" aria-hidden=\"true\" data-id=\"donations\"><div class=\"donations-icon\"></div></a><a href=\"https://duckduckgo.com/donations\" class=\"text-left showcase__link eighty showcase__text tx-clr--dk2 js-showcase-item\" data-id=\"donations\">$800,000 in privacy donations!</a></li><li class=\"fix showcase__dropdown__list\"><a href=\"https://duckduckgo.com/traffic\" class=\"eighteen showcase__icon js-showcase-item\" aria-hidden=\"true\" data-id=\"traffic\"><div class=\"traffic-icon\"></div></a><a href=\"https://duckduckgo.com/traffic\" class=\"text-left showcase__link eighty showcase__text tx-clr--dk2 js-showcase-item\" data-id=\"traffic\">Mais de 15 bilhões de buscas anônimas.</a></li><li class=\"fix showcase__dropdown__list\"><a href=\"https://donttrack.us/\" class=\"eighteen showcase__icon js-showcase-item\" aria-hidden=\"true\" data-id=\"dnt\"><div class=\"donttrack-icon\"></div></a><a href=\"https://donttrack.us/\" class=\"text-left showcase__link eighty showcase__text tx-clr--dk2 js-showcase-item\" data-id=\"dnt\">Aprenda por que reduzir o rastreamento é importante.</a></li></ul></section></nav></div></div></div></span></div></div><a aria-label=\"Twitter\" class=\"header--aside__twitter js-showcase-twitter\" href=\"https://twitter.com/duckduckgo\"></a></div></div><div id=\"zero_click_wrapper\" class=\"zci-wrap\"></div><div id=\"vertical_wrapper\" class=\"verticals\"></div><div id=\"web_content_wrapper\" class=\"content-wrap \"><div class=\"serp__top-right  js-serp-top-right\"></div><div class=\"serp__bottom-right  js-serp-bottom-right\"><div class=\"js-feedback-btn-wrap\"></div><div id=\"powered_by\" class=\"results--powered\"><a href=\"https://duck.co/help/results/sources\" target=\"_blank\">Em sociedade com</a><a href=\"/yandex/\" target=\"_blank\" class=\"results--powered__badge-link\"> <span class=\"results--powered__badge  badge--yandex\" title=\"yandex\"></span></a></div></div><div class=\"cw\"><div id=\"links_wrapper\" class=\"serp__results js-serp-results\"><div class=\"results--main\"><div class=\"search-filters-wrap\"><div class=\"js-search-filters search-filters\"><div class=\"dropdown dropdown--region is-active has-inactive-region\"><div class=\"dropdown__switch switch js-region-filter-switch \"><span class=\"switch__knob\"></span></div><a class=\"dropdown__button dropdown__button js-dropdown-button\">Brasil</a></div><div class=\"dropdown  dropdown--safe-search \"><a href=\"#\" class=\"dropdown__button js-dropdown-button\">Pesquisa segura: Restringir</a></div><div class=\"dropdown  dropdown--date \"><a href=\"#\" class=\"dropdown__button js-dropdown-button\">Qualquer hora</a></div></div></div><noscript>&lt;meta http-equiv=\"refresh\" content=\"0;URL=/html?q=Bette%20Davis%20Eyes%20%2D%20Kim%20Carnes%20letras.mus.br\"&gt;&lt;link href=\"/css/noscript.css\" rel=\"stylesheet\" type=\"text/css\"&gt;&lt;div class=\"msg msg--noscript\"&gt;&lt;p class=\"msg-title--noscript\"&gt;You are being redirected to the non-JavaScript site.&lt;/p&gt;Click &lt;a href=\"/html/?q=Bette%20Davis%20Eyes%20%2D%20Kim%20Carnes%20letras.mus.br\"&gt;aqui&lt;/a&gt; if it doesn't happen automatically.&lt;/div&gt;</noscript><div class=\"ia-modules js-ia-modules\"></div><div id=\"message\" class=\"results--message\"></div><div id=\"ads\" class=\"results--ads results--ads--main js-results-ads\"></div><div id=\"links\" class=\"results js-results\"><div id=\"r1-0\" class=\"result results_links_deep highlight_d\" data-domain=\"letras.mus.br\" data-hostname=\"www.letras.mus.br\" data-nir=\"1\"><div class=\"result__body links_main links_deep\"><h2 class=\"result__title\"><a class=\"result__a\" rel=\"noopener\" href=\"https://www.letras.mus.br/carnes-kim/78326/\"><b>Bette</b> <b>Davis</b> <b>Eyes</b> - <b>Kim</b> <b>Carnes</b> - <b>LETRAS.MUS.BR</b></a><a rel=\"noopener\" class=\"result__check\" href=\"https://www.letras.mus.br/carnes-kim/78326/\"><span class=\"result__check__tt\">Seu navegador diz que você já visitou este link</span></a></h2><div class=\"result__snippet\">Letras de músicas - <b>Letras.mus.br</b>. menu. Ver todas as músicas de <b>Kim</b> <b>Carnes</b> →. <b>Bette</b> <b>Davis</b> <b>Eyes</b>. I'll Be Here Where The Heart Is. More Love.</div><div class=\"result__extras\"><div class=\"result__extras__url\"><span class=\"result__icon\"><a href=\"/?q=Bette%20Davis%20Eyes%20%2D%20Kim%20Carnes%20letras.mus.br+site:www.letras.mus.br\" title=\"Procurar no domínio www.letras.mus.br\"><img height=\"16\" width=\"16\" title=\"Procurar no domínio www.letras.mus.br\" class=\"result__icon__img js-lazyload-icons\" data-src=\"//icons.duckduckgo.com/ip3/www.letras.mus.br.ico\" src=\"//icons.duckduckgo.com/ip3/www.letras.mus.br.ico\"></a></span><a class=\"result__url\" rel=\"noopener\" href=\"https://www.letras.mus.br/carnes-kim/78326/\"><span class=\"result__url__domain\">https://www.letras.mus.br</span><span class=\"result__url__full\">/carnes-kim/78326/</span></a></div><a href=\"/?q=Bette%20Davis%20Eyes%20%2D%20Kim%20Carnes%20letras.mus.br+site:www.letras.mus.br\" title=\"Procurar no domínio www.letras.mus.br\" class=\"result__menu\">Mais resultados</a></div></div></div><div id=\"r1-1\" class=\"result results_links_deep highlight_d\" data-domain=\"letras.mus.br\" data-hostname=\"www.letras.mus.br\" data-nir=\"1\"><div class=\"result__body links_main links_deep\"><h2 class=\"result__title\"><a class=\"result__a\" rel=\"noopener\" href=\"https://www.letras.mus.br/carnes-kim/\"><b>Kim</b> <b>Carnes</b> - <b>LETRAS.MUS.BR</b></a><a rel=\"noopener\" class=\"result__check\" href=\"https://www.letras.mus.br/carnes-kim/\"><span class=\"result__check__tt\">Seu navegador diz que você já visitou este link</span></a></h2><div class=\"result__snippet\">Veja as letras de <b>Kim</b> <b>Carnes</b> e ouça \"<b>Bette</b> <b>Davis</b> <b>Eyes</b>\", \"I'll Be Here Where The Heart Is\", \"More Love\" e muito mais músicas! Letras de músicas - <b>Letras.mus.br</b>. menu. buscar.</div><div class=\"result__extras\"><div class=\"result__extras__url\"><span class=\"result__icon\"><a href=\"/?q=Bette%20Davis%20Eyes%20%2D%20Kim%20Carnes%20letras.mus.br+site:www.letras.mus.br\" title=\"Procurar no domínio www.letras.mus.br\"><img height=\"16\" width=\"16\" title=\"Procurar no domínio www.letras.mus.br\" class=\"result__icon__img js-lazyload-icons\" data-src=\"//icons.duckduckgo.com/ip3/www.letras.mus.br.ico\"></a></span><a class=\"result__url\" rel=\"noopener\" href=\"https://www.letras.mus.br/carnes-kim/\"><span class=\"result__url__domain\">https://www.letras.mus.br</span><span class=\"result__url__full\">/carnes-kim/</span></a></div><a href=\"/?q=Bette%20Davis%20Eyes%20%2D%20Kim%20Carnes%20letras.mus.br+site:www.letras.mus.br\" title=\"Procurar no domínio www.letras.mus.br\" class=\"result__menu\">Mais resultados</a></div></div></div><div id=\"r1-2\" class=\"result results_links_deep highlight_d\" data-domain=\"azlyrics.com\" data-hostname=\"www.azlyrics.com\" data-nir=\"1\"><div class=\"result__body links_main links_deep\"><h2 class=\"result__title\"><a class=\"result__a\" rel=\"noopener\" href=\"https://www.azlyrics.com/lyrics/kimcarnes/bettedaviseyes.html\"><b>Kim</b> <b>Carnes</b> Lyrics - <b>Bette</b> <b>Davis</b> <b>Eyes</b></a><a rel=\"noopener\" class=\"result__check\" href=\"https://www.azlyrics.com/lyrics/kimcarnes/bettedaviseyes.html\"><span class=\"result__check__tt\">Seu navegador diz que você já visitou este link</span></a></h2><div class=\"result__snippet\">\"<b>Bette</b> <b>Davis</b> <b>Eyes</b>\" (originally by Jackie DeShannon). <b>Kim</b> <b>Carnes</b> lyrics are property and copyright of their owners. \"<b>Bette</b> <b>Davis</b> <b>Eyes</b>\" lyrics provided for educational purposes and personal use only.</div><div class=\"result__extras\"><div class=\"result__extras__url\"><span class=\"result__icon\"><a href=\"/?q=Bette%20Davis%20Eyes%20%2D%20Kim%20Carnes%20letras.mus.br+site:www.azlyrics.com\" title=\"Procurar no domínio www.azlyrics.com\"><img height=\"16\" width=\"16\" title=\"Procurar no domínio www.azlyrics.com\" class=\"result__icon__img js-lazyload-icons\" data-src=\"//icons.duckduckgo.com/ip3/www.azlyrics.com.ico\"></a></span><a class=\"result__url\" rel=\"noopener\" href=\"https://www.azlyrics.com/lyrics/kimcarnes/bettedaviseyes.html\"><span class=\"result__url__domain\">https://www.azlyrics.com</span><span class=\"result__url__full\">/lyrics/kimcarnes/bettedaviseyes.html</span></a></div><a href=\"/?q=Bette%20Davis%20Eyes%20%2D%20Kim%20Carnes%20letras.mus.br+site:www.azlyrics.com\" title=\"Procurar no domínio www.azlyrics.com\" class=\"result__menu\">Mais resultados</a></div></div></div><div id=\"r1-3\" class=\"result results_links_deep highlight_d\" data-domain=\"cifraclub.com.br\" data-hostname=\"www.cifraclub.com.br\" data-nir=\"1\"><div class=\"result__body links_main links_deep\"><h2 class=\"result__title\"><a class=\"result__a\" rel=\"noopener\" href=\"https://www.cifraclub.com.br/carnes-kim/bette-davis-eyes/\"><b>BETTE</b> <b>DAVIS</b> <b>EYES</b> - <b>Kim</b> <b>Carnes</b> (cifra para violão...) | Cifra Club</a><a rel=\"noopener\" class=\"result__check\" href=\"https://www.cifraclub.com.br/carnes-kim/bette-davis-eyes/\"><span class=\"result__check__tt\">Seu navegador diz que você já visitou este link</span></a></h2><div class=\"result__snippet\"><b>Kim</b> <b>Carnes</b> - <b>Bette</b> <b>Davis</b> <b>Eyes</b> (cifra para violão e guitarra) - aprenda a tocar com as cifras da música no Cifra Club. Cifra. Letra. Guitar Pro. Acordes para:violão e guitarra.</div><div class=\"result__extras\"><div class=\"result__extras__url\"><span class=\"result__icon\"><a href=\"/?q=Bette%20Davis%20Eyes%20%2D%20Kim%20Carnes%20letras.mus.br+site:www.cifraclub.com.br\" title=\"Procurar no domínio www.cifraclub.com.br\"><img height=\"16\" width=\"16\" title=\"Procurar no domínio www.cifraclub.com.br\" class=\"result__icon__img js-lazyload-icons\" data-src=\"//icons.duckduckgo.com/ip3/www.cifraclub.com.br.ico\"></a></span><a class=\"result__url\" rel=\"noopener\" href=\"https://www.cifraclub.com.br/carnes-kim/bette-davis-eyes/\"><span class=\"result__url__domain\">https://www.cifraclub.com.br</span><span class=\"result__url__full\">/carnes-kim/bette-davis-eyes/</span></a></div><a href=\"/?q=Bette%20Davis%20Eyes%20%2D%20Kim%20Carnes%20letras.mus.br+site:www.cifraclub.com.br\" title=\"Procurar no domínio www.cifraclub.com.br\" class=\"result__menu\">Mais resultados</a></div></div></div><div id=\"r1-4\" class=\"result results_links_deep highlight_d\" data-domain=\"genius.com\" data-hostname=\"genius.com\" data-nir=\"1\"><div class=\"result__body links_main links_deep\"><h2 class=\"result__title\"><a class=\"result__a\" rel=\"noopener\" href=\"https://genius.com/Kim-carnes-bette-davis-eyes-lyrics\"><b>Kim</b> <b>Carnes</b> - <b>Bette</b> <b>Davis</b> <b>Eyes</b> Lyrics | Genius Lyrics</a><a rel=\"noopener\" class=\"result__check\" href=\"https://genius.com/Kim-carnes-bette-davis-eyes-lyrics\"><span class=\"result__check__tt\">Seu navegador diz que você já visitou este link</span></a></h2><div class=\"result__snippet\"><b>Bette</b> <b>Davis</b> <b>Eyes</b>. <b>Kim</b> <b>Carnes</b>. Produced by Val Garay. [Verse 1] Her hair is Harlow gold Her lips sweet surprise Her hands are never cold She's got <b>Bette</b> <b>Davis</b> <b>eyes</b>. She'll turn her music on you You won't have to think twice She's pure as New York snow She's got <b>Bette</b> <b>Davis</b> <b>eyes</b>.</div><div class=\"result__extras\"><div class=\"result__extras__url\"><span class=\"result__icon\"><a href=\"/?q=Bette%20Davis%20Eyes%20%2D%20Kim%20Carnes%20letras.mus.br+site:genius.com\" title=\"Procurar no domínio genius.com\"><img height=\"16\" width=\"16\" title=\"Procurar no domínio genius.com\" class=\"result__icon__img js-lazyload-icons\" data-src=\"//icons.duckduckgo.com/ip3/genius.com.ico\"></a></span><a class=\"result__url\" rel=\"noopener\" href=\"https://genius.com/Kim-carnes-bette-davis-eyes-lyrics\"><span class=\"result__url__domain\">https://genius.com</span><span class=\"result__url__full\">/Kim-carnes-bette-davis-eyes-lyrics</span></a></div><a href=\"/?q=Bette%20Davis%20Eyes%20%2D%20Kim%20Carnes%20letras.mus.br+site:genius.com\" title=\"Procurar no domínio genius.com\" class=\"result__menu\">Mais resultados</a></div></div></div><div id=\"r1-5\" class=\"result results_links_deep highlight_d\" data-domain=\"vagalume.com.br\" data-hostname=\"www.vagalume.com.br\" data-nir=\"1\"><div class=\"result__body links_main links_deep\"><h2 class=\"result__title\"><a class=\"result__a\" rel=\"noopener\" href=\"https://www.vagalume.com.br/kim-carnes/bette-davis-eyes.html\"><b>Bette</b> <b>Davis</b> <b>Eyes</b> - <b>Kim</b> <b>Carnes</b> - VAGALUME</a><a rel=\"noopener\" class=\"result__check\" href=\"https://www.vagalume.com.br/kim-carnes/bette-davis-eyes.html\"><span class=\"result__check__tt\">Seu navegador diz que você já visitou este link</span></a></h2><div class=\"result__snippet\"><b>Kim</b> <b>Carnes</b> - <b>Bette</b> <b>Davis</b> <b>Eyes</b> (música para ouvir e letra da música com legenda)! www.vagalume.com.br. Todos os nossos sites.</div><div class=\"result__extras\"><div class=\"result__extras__url\"><span class=\"result__icon\"><a href=\"/?q=Bette%20Davis%20Eyes%20%2D%20Kim%20Carnes%20letras.mus.br+site:www.vagalume.com.br\" title=\"Procurar no domínio www.vagalume.com.br\"><img height=\"16\" width=\"16\" title=\"Procurar no domínio www.vagalume.com.br\" class=\"result__icon__img js-lazyload-icons\" data-src=\"//icons.duckduckgo.com/ip3/www.vagalume.com.br.ico\"></a></span><a class=\"result__url\" rel=\"noopener\" href=\"https://www.vagalume.com.br/kim-carnes/bette-davis-eyes.html\"><span class=\"result__url__domain\">https://www.vagalume.com.br</span><span class=\"result__url__full\">/kim-carnes/bette-davis-eyes.html</span></a></div><a href=\"/?q=Bette%20Davis%20Eyes%20%2D%20Kim%20Carnes%20letras.mus.br+site:www.vagalume.com.br\" title=\"Procurar no domínio www.vagalume.com.br\" class=\"result__menu\">Mais resultados</a></div></div></div><div id=\"r1-6\" class=\"result results_links_deep highlight_d\" data-domain=\"lyricsmode.com\" data-hostname=\"www.lyricsmode.com\" data-nir=\"1\"><div class=\"result__body links_main links_deep\"><h2 class=\"result__title\"><a class=\"result__a\" rel=\"noopener\" href=\"http://www.lyricsmode.com/lyrics/k/kim_carnes/bette_davis_eyes.html\"><b>Kim</b> <b>Carnes</b> - <b>Bette</b> <b>Davis</b> <b>Eyes</b> lyrics | LyricsMode.com</a><a rel=\"noopener\" class=\"result__check\" href=\"http://www.lyricsmode.com/lyrics/k/kim_carnes/bette_davis_eyes.html\"><span class=\"result__check__tt\">Seu navegador diz que você já visitou este link</span></a></h2><div class=\"result__snippet\">Add Meaning. <b>Kim</b> CarnesKim <b>Carnes</b> -. Her hair is Harlow gold Her lips sweet surprise Her hands are never cold She's got <b>Bette</b> <b>Davis</b> <b>eyes</b>. She'll turn the music on you You won't have to think twice She's pure as New York snow She's got <b>Bette</b> <b>Davis</b> <b>eyes</b>.</div><div class=\"result__extras\"><div class=\"result__extras__url\"><span class=\"result__icon\"><a href=\"/?q=Bette%20Davis%20Eyes%20%2D%20Kim%20Carnes%20letras.mus.br+site:www.lyricsmode.com\" title=\"Procurar no domínio www.lyricsmode.com\"><img height=\"16\" width=\"16\" title=\"Procurar no domínio www.lyricsmode.com\" class=\"result__icon__img js-lazyload-icons\" data-src=\"//icons.duckduckgo.com/ip3/www.lyricsmode.com.ico\"></a></span><a class=\"result__url\" rel=\"noopener\" href=\"http://www.lyricsmode.com/lyrics/k/kim_carnes/bette_davis_eyes.html\"><span class=\"result__url__domain\">lyricsmode.com</span><span class=\"result__url__full\">/lyrics/k/kim_carnes/bette_davis_eyes.html</span></a></div><a href=\"/?q=Bette%20Davis%20Eyes%20%2D%20Kim%20Carnes%20letras.mus.br+site:www.lyricsmode.com\" title=\"Procurar no domínio www.lyricsmode.com\" class=\"result__menu\">Mais resultados</a></div></div></div><div id=\"r1-7\" class=\"result results_links_deep highlight_d\" data-domain=\"listenonrepeat.com\" data-hostname=\"listenonrepeat.com\" data-nir=\"1\"><div class=\"result__body links_main links_deep\"><h2 class=\"result__title\"><a class=\"result__a\" rel=\"noopener\" href=\"https://listenonrepeat.com/watch/?v=BEI_A5pp9P0\"><b>Bette</b> <b>Davis</b> <b>Eyes</b> - <b>Kim</b> <b>Carnes</b> with lyrics... - ListenOnRepeat</a><a rel=\"noopener\" class=\"result__check\" href=\"https://listenonrepeat.com/watch/?v=BEI_A5pp9P0\"><span class=\"result__check__tt\">Seu navegador diz que você já visitou este link</span></a></h2><div class=\"result__snippet\">Listen to <b>Bette</b> <b>Davis</b> <b>Eyes</b> - <b>Kim</b> <b>Carnes</b> with lyrics [1981 version] on ListenOnRepeat...</div><div class=\"result__extras\"><div class=\"result__extras__url\"><span class=\"result__icon\"><a href=\"/?q=Bette%20Davis%20Eyes%20%2D%20Kim%20Carnes%20letras.mus.br+site:listenonrepeat.com\" title=\"Procurar no domínio listenonrepeat.com\"><img height=\"16\" width=\"16\" title=\"Procurar no domínio listenonrepeat.com\" class=\"result__icon__img js-lazyload-icons\" data-src=\"//icons.duckduckgo.com/ip3/listenonrepeat.com.ico\"></a></span><a class=\"result__url\" rel=\"noopener\" href=\"https://listenonrepeat.com/watch/?v=BEI_A5pp9P0\"><span class=\"result__url__domain\">https://listenonrepeat.com</span><span class=\"result__url__full\">/watch/?v=BEI_A5pp9P0</span></a></div><a href=\"/?q=Bette%20Davis%20Eyes%20%2D%20Kim%20Carnes%20letras.mus.br+site:listenonrepeat.com\" title=\"Procurar no domínio listenonrepeat.com\" class=\"result__menu\">Mais resultados</a></div></div></div><div id=\"r1-8\" class=\"result results_links_deep highlight_d\" data-domain=\"kimcarnes.com\" data-hostname=\"www.kimcarnes.com\" data-nir=\"1\"><div class=\"result__body links_main links_deep\"><h2 class=\"result__title\"><a class=\"result__a\" rel=\"noopener\" href=\"http://www.kimcarnes.com/audio1.html\"><b>Kim</b> <b>Carnes</b> - <b>Bette</b> <b>Davis</b> <b>Eyes</b></a><a rel=\"noopener\" class=\"result__check\" href=\"http://www.kimcarnes.com/audio1.html\"><span class=\"result__check__tt\">Seu navegador diz que você já visitou este link</span></a></h2><div class=\"result__snippet\"><b>Bette</b> <b>Davis</b> <b>Eyes</b>.</div><div class=\"result__extras\"><div class=\"result__extras__url\"><span class=\"result__icon\"><a href=\"/?q=Bette%20Davis%20Eyes%20%2D%20Kim%20Carnes%20letras.mus.br+site:www.kimcarnes.com\" title=\"Procurar no domínio www.kimcarnes.com\"><img height=\"16\" width=\"16\" title=\"Procurar no domínio www.kimcarnes.com\" class=\"result__icon__img js-lazyload-icons\" data-src=\"//icons.duckduckgo.com/ip3/www.kimcarnes.com.ico\"></a></span><a class=\"result__url\" rel=\"noopener\" href=\"http://www.kimcarnes.com/audio1.html\"><span class=\"result__url__domain\">kimcarnes.com</span><span class=\"result__url__full\">/audio1.html</span></a></div><a href=\"/?q=Bette%20Davis%20Eyes%20%2D%20Kim%20Carnes%20letras.mus.br+site:www.kimcarnes.com\" title=\"Procurar no domínio www.kimcarnes.com\" class=\"result__menu\">Mais resultados</a></div></div></div><div id=\"r1-9\" class=\"result results_links_deep highlight_d\" data-domain=\"lyricsfreak.com\" data-hostname=\"www.lyricsfreak.com\" data-nir=\"1\"><div class=\"result__body links_main links_deep\"><h2 class=\"result__title\"><a class=\"result__a\" rel=\"noopener\" href=\"http://www.lyricsfreak.com/k/kim+carnes/bette+davis+eyes_20495978.html\"><b>Bette</b> <b>Davis</b> <b>Eyes</b> Lyrics - <b>Kim</b> <b>Carnes</b></a><a rel=\"noopener\" class=\"result__check\" href=\"http://www.lyricsfreak.com/k/kim+carnes/bette+davis+eyes_20495978.html\"><span class=\"result__check__tt\">Seu navegador diz que você já visitou este link</span></a></h2><div class=\"result__snippet\"><b>Kim</b> <b>Carnes</b> - <b>Bette</b> <b>Davis</b> <b>Eyes</b> Lyrics. Translation in progress. More <b>Kim</b> <b>Carnes</b> lyrics. ·Invitation To Dance. ·Take It On The Chin Baby.</div><div class=\"result__extras\"><div class=\"result__extras__url\"><span class=\"result__icon\"><a href=\"/?q=Bette%20Davis%20Eyes%20%2D%20Kim%20Carnes%20letras.mus.br+site:www.lyricsfreak.com\" title=\"Procurar no domínio www.lyricsfreak.com\"><img height=\"16\" width=\"16\" title=\"Procurar no domínio www.lyricsfreak.com\" class=\"result__icon__img js-lazyload-icons\" data-src=\"//icons.duckduckgo.com/ip3/www.lyricsfreak.com.ico\"></a></span><a class=\"result__url\" rel=\"noopener\" href=\"http://www.lyricsfreak.com/k/kim+carnes/bette+davis+eyes_20495978.html\"><span class=\"result__url__domain\">lyricsfreak.com</span><span class=\"result__url__full\">/k/kim+carnes/bette+davis+eyes_20495978.html</span></a></div><a href=\"/?q=Bette%20Davis%20Eyes%20%2D%20Kim%20Carnes%20letras.mus.br+site:www.lyricsfreak.com\" title=\"Procurar no domínio www.lyricsfreak.com\" class=\"result__menu\">Mais resultados</a></div></div></div><div id=\"r1-10\" class=\"result results_links_deep highlight_d\" data-domain=\"kainsulam.com\" data-hostname=\"www.kainsulam.com\" data-nir=\"1\"><div class=\"result__body links_main links_deep\"><h2 class=\"result__title\"><a class=\"result__a\" rel=\"noopener\" href=\"http://www.kainsulam.com/robiquz/lonirut.php?vm=learn-to-play-bette-davis-eyes\">Learn to play <b>bette</b> <b>davis</b> <b>eyes</b></a><a rel=\"noopener\" class=\"result__check\" href=\"http://www.kainsulam.com/robiquz/lonirut.php?vm=learn-to-play-bette-davis-eyes\"><span class=\"result__check__tt\">Seu navegador diz que você já visitou este link</span></a></h2><div class=\"result__snippet\">After the song \"<b>Bette</b> <b>Davis</b> <b>Eyes</b>\" became a hit single, she wrote letters to singer <b>Kim</b> <b>Carnes</b> and songwriters Donna Weiss and Jackie DeShannon, asking how Taylor Swift - <b>Bette</b> <b>Davis</b> <b>Eyes</b> (música para ouvir e letra da música com legenda)!</div><div class=\"result__extras\"><div class=\"result__extras__url\"><span class=\"result__icon\"><a href=\"/?q=Bette%20Davis%20Eyes%20%2D%20Kim%20Carnes%20letras.mus.br+site:www.kainsulam.com\" title=\"Procurar no domínio www.kainsulam.com\"><img height=\"16\" width=\"16\" title=\"Procurar no domínio www.kainsulam.com\" class=\"result__icon__img js-lazyload-icons\" data-src=\"//icons.duckduckgo.com/ip3/www.kainsulam.com.ico\"></a></span><a class=\"result__url\" rel=\"noopener\" href=\"http://www.kainsulam.com/robiquz/lonirut.php?vm=learn-to-play-bette-davis-eyes\"><span class=\"result__url__domain\">kainsulam.com</span><span class=\"result__url__full\">/robiquz/lonirut.php?vm=learn-to-play-bett...</span></a></div><a href=\"/?q=Bette%20Davis%20Eyes%20%2D%20Kim%20Carnes%20letras.mus.br+site:www.kainsulam.com\" title=\"Procurar no domínio www.kainsulam.com\" class=\"result__menu\">Mais resultados</a></div></div></div><div id=\"r1-11\" class=\"result results_links_deep highlight_d\" data-domain=\"zvuk.top\" data-hostname=\"zvuk.top\" data-nir=\"1\"><div class=\"result__body links_main links_deep\"><h2 class=\"result__title\"><a class=\"result__a\" rel=\"noopener\" href=\"https://zvuk.top/tracks/kim-carnes-bette-davis-eyes\"><b>kim</b> <b>carnes</b> <b>bette</b> <b>davis</b> <b>eyes</b> музыка в MP3 - скачать бесплатно...</a><a rel=\"noopener\" class=\"result__check\" href=\"https://zvuk.top/tracks/kim-carnes-bette-davis-eyes\"><span class=\"result__check__tt\">Seu navegador diz que você já visitou este link</span></a></h2><div class=\"result__snippet\">Tommy Melody — <b>Bette</b> <b>Davis</b> <b>Eyes</b> (Karaoke Version) [Originally Performed by <b>Kim</b> <b>Carnes</b>]. + 03:46. Rock n' Roll Baby Lullaby Ensemble — <b>Bette</b> <b>Davis</b> <b>Eyes</b> (Lullaby Arrangements of <b>Kim</b> <b>Carnes</b>).</div><div class=\"result__extras\"><div class=\"result__extras__url\"><span class=\"result__icon\"><a href=\"/?q=Bette%20Davis%20Eyes%20%2D%20Kim%20Carnes%20letras.mus.br+site:zvuk.top\" title=\"Procurar no domínio zvuk.top\"><img height=\"16\" width=\"16\" title=\"Procurar no domínio zvuk.top\" class=\"result__icon__img js-lazyload-icons\" data-src=\"//icons.duckduckgo.com/ip3/zvuk.top.ico\"></a></span><a class=\"result__url\" rel=\"noopener\" href=\"https://zvuk.top/tracks/kim-carnes-bette-davis-eyes\"><span class=\"result__url__domain\">https://zvuk.top</span><span class=\"result__url__full\">/tracks/kim-carnes-bette-davis-eyes</span></a></div><a href=\"/?q=Bette%20Davis%20Eyes%20%2D%20Kim%20Carnes%20letras.mus.br+site:zvuk.top\" title=\"Procurar no domínio zvuk.top\" class=\"result__menu\">Mais resultados</a></div></div></div><div id=\"r1-12\" class=\"result results_links_deep highlight_d\" data-domain=\"tabs.ultimate-guitar.com\" data-hostname=\"tabs.ultimate-guitar.com\" data-nir=\"1\"><div class=\"result__body links_main links_deep\"><h2 class=\"result__title\"><a class=\"result__a\" rel=\"noopener\" href=\"https://tabs.ultimate-guitar.com/k/kim_carnes/bette_davis_eyes_tab.htm\"><b>BETTE</b> <b>DAVIS</b> <b>EYES</b> TAB by <b>Kim</b> <b>Carnes</b> @ Ultimate-Guitar.Com</a><a rel=\"noopener\" class=\"result__check\" href=\"https://tabs.ultimate-guitar.com/k/kim_carnes/bette_davis_eyes_tab.htm\"><span class=\"result__check__tt\">Seu navegador diz que você já visitou este link</span></a></h2><div class=\"result__snippet\">by <b>Kim</b> <b>Carnes</b>. 118,059 views 159 this week. 1 commentread comment. [Verse 1] Her hair is Harlowe gold (Fig.A) Lips sweet surprise (Fig.B) Her hands are never cold (Fig.C) She's got <b>Bette</b> <b>Davis</b> <b>eyes</b>.</div><div class=\"result__extras\"><div class=\"result__extras__url\"><span class=\"result__icon\"><a href=\"/?q=Bette%20Davis%20Eyes%20%2D%20Kim%20Carnes%20letras.mus.br+site:tabs.ultimate-guitar.com\" title=\"Procurar no domínio tabs.ultimate-guitar.com\"><img height=\"16\" width=\"16\" title=\"Procurar no domínio tabs.ultimate-guitar.com\" class=\"result__icon__img js-lazyload-icons\" data-src=\"//icons.duckduckgo.com/ip3/tabs.ultimate-guitar.com.ico\"></a></span><a class=\"result__url\" rel=\"noopener\" href=\"https://tabs.ultimate-guitar.com/k/kim_carnes/bette_davis_eyes_tab.htm\"><span class=\"result__url__domain\">https://tabs.ultimate-guitar.com</span><span class=\"result__url__full\">/k/kim_carnes/bette_davis_eyes_tab.htm</span></a></div><a href=\"/?q=Bette%20Davis%20Eyes%20%2D%20Kim%20Carnes%20letras.mus.br+site:tabs.ultimate-guitar.com\" title=\"Procurar no domínio tabs.ultimate-guitar.com\" class=\"result__menu\">Mais resultados</a></div></div></div><div id=\"r1-13\" class=\"result results_links_deep highlight_d\" data-domain=\"karaoke-version.com\" data-hostname=\"www.karaoke-version.com\" data-nir=\"1\"><div class=\"result__body links_main links_deep\"><h2 class=\"result__title\"><a class=\"result__a\" rel=\"noopener\" href=\"http://www.karaoke-version.com/custombackingtrack/kim-carnes/bette-davis-eyes.html\"><b>Bette</b> <b>Davis</b> <b>Eyes</b> - <b>Kim</b> <b>Carnes</b> - Custom Backing Track - Karaoke...</a><a rel=\"noopener\" class=\"result__check\" href=\"http://www.karaoke-version.com/custombackingtrack/kim-carnes/bette-davis-eyes.html\"><span class=\"result__check__tt\">Seu navegador diz que você já visitou este link</span></a></h2><div class=\"result__snippet\">2.99 USD. This title is a cover of <b>Bette</b> <b>Davis</b> <b>Eyes</b> as made famous by <b>Kim</b> <b>Carnes</b>.</div><div class=\"result__extras\"><div class=\"result__extras__url\"><span class=\"result__icon\"><a href=\"/?q=Bette%20Davis%20Eyes%20%2D%20Kim%20Carnes%20letras.mus.br+site:www.karaoke-version.com\" title=\"Procurar no domínio www.karaoke-version.com\"><img height=\"16\" width=\"16\" title=\"Procurar no domínio www.karaoke-version.com\" class=\"result__icon__img js-lazyload-icons\" data-src=\"//icons.duckduckgo.com/ip3/www.karaoke-version.com.ico\"></a></span><a class=\"result__url\" rel=\"noopener\" href=\"http://www.karaoke-version.com/custombackingtrack/kim-carnes/bette-davis-eyes.html\"><span class=\"result__url__domain\">karaoke-version.com</span><span class=\"result__url__full\">/custombackingtrack/kim-carnes/bette-davis...</span></a></div><a href=\"/?q=Bette%20Davis%20Eyes%20%2D%20Kim%20Carnes%20letras.mus.br+site:www.karaoke-version.com\" title=\"Procurar no domínio www.karaoke-version.com\" class=\"result__menu\">Mais resultados</a></div></div></div><div id=\"r1-14\" class=\"result results_links_deep highlight_d\" data-domain=\"karafun.com\" data-hostname=\"www.karafun.com\" data-nir=\"1\"><div class=\"result__body links_main links_deep\"><h2 class=\"result__title\"><a class=\"result__a\" rel=\"noopener\" href=\"http://www.karafun.com/karaoke/kim-carnes/bette-davis-eyes/\">Karaoke <b>Bette</b> <b>Davis</b> <b>Eyes</b> - Video with Lyrics - <b>Kim</b> <b>Carnes</b></a><a rel=\"noopener\" class=\"result__check\" href=\"http://www.karafun.com/karaoke/kim-carnes/bette-davis-eyes/\"><span class=\"result__check__tt\">Seu navegador diz que você já visitou este link</span></a></h2><div class=\"result__snippet\">Karaoke <b>Bette</b> <b>Davis</b> <b>Eyes</b> <b>Kim</b> <b>Carnes</b>. 3:58. In the same key as the original: F. Her hair is Harlowe gold lips sweet surprise Her hands are never cold She's got <b>Bette</b> <b>Davis</b> <b>eyes</b> She'll turn her music on You won't have to think twice She's pure as New York snow She got <b>Bette</b> <b>Davis</b> <b>eyes</b> And she'll...</div><div class=\"result__extras\"><div class=\"result__extras__url\"><span class=\"result__icon\"><a href=\"/?q=Bette%20Davis%20Eyes%20%2D%20Kim%20Carnes%20letras.mus.br+site:www.karafun.com\" title=\"Procurar no domínio www.karafun.com\"><img height=\"16\" width=\"16\" title=\"Procurar no domínio www.karafun.com\" class=\"result__icon__img js-lazyload-icons\" data-src=\"//icons.duckduckgo.com/ip3/www.karafun.com.ico\"></a></span><a class=\"result__url\" rel=\"noopener\" href=\"http://www.karafun.com/karaoke/kim-carnes/bette-davis-eyes/\"><span class=\"result__url__domain\">karafun.com</span><span class=\"result__url__full\">/karaoke/kim-carnes/bette-davis-eyes/</span></a></div><a href=\"/?q=Bette%20Davis%20Eyes%20%2D%20Kim%20Carnes%20letras.mus.br+site:www.karafun.com\" title=\"Procurar no domínio www.karafun.com\" class=\"result__menu\">Mais resultados</a></div></div></div><div id=\"r1-15\" class=\"result results_links_deep highlight_d\" data-domain=\"en.wikipedia.org\" data-hostname=\"en.wikipedia.org\" data-nir=\"1\"><div class=\"result__body links_main links_deep\"><h2 class=\"result__title\"><a class=\"result__a\" rel=\"noopener\" href=\"https://en.wikipedia.org/wiki/Bette_Davis_Eyes\"><b>Bette</b> <b>Davis</b> <b>Eyes</b> - Wikipedia</a><a rel=\"noopener\" class=\"result__check\" href=\"https://en.wikipedia.org/wiki/Bette_Davis_Eyes\"><span class=\"result__check__tt\">Seu navegador diz que você já visitou este link</span></a></h2><div class=\"result__snippet\">\"<b>Bette</b> <b>Davis</b> <b>Eyes</b>\" is a song written and composed by Donna Weiss and Jackie DeShannon, and made popular by American singer <b>Kim</b> <b>Carnes</b>. DeShannon recorded it in 1974; Carnes's 1981 version spent nine weeks at No. 1 on the Billboard Hot 100 and was Billboard's biggest hit of 1981.</div><div class=\"result__extras\"><div class=\"result__extras__url\"><span class=\"result__icon\"><a href=\"/?q=Bette%20Davis%20Eyes%20%2D%20Kim%20Carnes%20letras.mus.br+site:en.wikipedia.org\" title=\"Procurar no domínio en.wikipedia.org\"><img height=\"16\" width=\"16\" title=\"Procurar no domínio en.wikipedia.org\" class=\"result__icon__img js-lazyload-icons\" data-src=\"/assets/icons/favicons/wikipedia.png\"></a></span><a class=\"result__url\" rel=\"noopener\" href=\"https://en.wikipedia.org/wiki/Bette_Davis_Eyes\"><span class=\"result__url__domain\">https://en.wikipedia.org</span><span class=\"result__url__full\">/wiki/Bette_Davis_Eyes</span></a></div><a href=\"/?q=Bette%20Davis%20Eyes%20%2D%20Kim%20Carnes%20letras.mus.br+site:en.wikipedia.org\" title=\"Procurar no domínio en.wikipedia.org\" class=\"result__menu\">Mais resultados</a></div></div></div><div id=\"r1-16\" class=\"result results_links_deep highlight_d\" data-domain=\"soundcloud.com\" data-hostname=\"soundcloud.com\" data-nir=\"1\"><div class=\"result__body links_main links_deep\"><h2 class=\"result__title\"><a class=\"result__a\" rel=\"noopener\" href=\"https://soundcloud.com/alinababydoll/kim-carnes-bette-davis-eyes\"><b>Kim</b> <b>Carnes</b> - <b>Bette</b> <b>Davis</b> <b>Eyes</b>... | Free Listening on SoundCloud</a><a rel=\"noopener\" class=\"result__check\" href=\"https://soundcloud.com/alinababydoll/kim-carnes-bette-davis-eyes\"><span class=\"result__check__tt\">Seu navegador diz que você já visitou este link</span></a></h2><div class=\"result__snippet\">Your current browser isn't compatible with SoundCloud. Please download one of our supported browsers. Need help? Sorry! Something went wrong. Is your network connection unstable or browser outdated?</div><div class=\"result__extras\"><div class=\"result__extras__url\"><span class=\"result__icon\"><a href=\"/?q=Bette%20Davis%20Eyes%20%2D%20Kim%20Carnes%20letras.mus.br+site:soundcloud.com\" title=\"Procurar no domínio soundcloud.com\"><img height=\"16\" width=\"16\" title=\"Procurar no domínio soundcloud.com\" class=\"result__icon__img js-lazyload-icons\" data-src=\"/assets/icons/favicons/soundcloud.png\"></a></span><a class=\"result__url\" rel=\"noopener\" href=\"https://soundcloud.com/alinababydoll/kim-carnes-bette-davis-eyes\"><span class=\"result__url__domain\">https://soundcloud.com</span><span class=\"result__url__full\">/alinababydoll/kim-carnes-bette-davis-eyes</span></a></div><a href=\"/?q=Bette%20Davis%20Eyes%20%2D%20Kim%20Carnes%20letras.mus.br+site:soundcloud.com\" title=\"Procurar no domínio soundcloud.com\" class=\"result__menu\">Mais resultados</a></div></div></div><div id=\"r1-17\" class=\"result results_links_deep highlight_d\" data-domain=\"chordie.com\" data-hostname=\"www.chordie.com\" data-nir=\"1\"><div class=\"result__body links_main links_deep\"><h2 class=\"result__title\"><a class=\"result__a\" rel=\"noopener\" href=\"http://www.chordie.com/chord.pere/tabfu.thudspace.net/c/carnes_kim/bette_davis_eyes.tab\"><b>bette</b> <b>davis</b> <b>eyes</b> <b>Kim</b> <b>Carnes</b> Tabs and Guitar Tablature</a><a rel=\"noopener\" class=\"result__check\" href=\"http://www.chordie.com/chord.pere/tabfu.thudspace.net/c/carnes_kim/bette_davis_eyes.tab\"><span class=\"result__check__tt\">Seu navegador diz que você já visitou este link</span></a></h2><div class=\"result__snippet\">Her hair is Harlowe gold (Fig.A) Lips sweet surprise (Fig.B) Her hands are never cold (Fig.C) She's got <b>Bette</b> <b>Davis</b> <b>eyes</b>. <b>Kim</b> <b>Carnes</b> - <b>bette</b> <b>davis</b> <b>eyes</b>. SHARE PAGE.</div><div class=\"result__extras\"><div class=\"result__extras__url\"><span class=\"result__icon\"><a href=\"/?q=Bette%20Davis%20Eyes%20%2D%20Kim%20Carnes%20letras.mus.br+site:www.chordie.com\" title=\"Procurar no domínio www.chordie.com\"><img height=\"16\" width=\"16\" title=\"Procurar no domínio www.chordie.com\" class=\"result__icon__img js-lazyload-icons\" data-src=\"//icons.duckduckgo.com/ip3/www.chordie.com.ico\"></a></span><a class=\"result__url\" rel=\"noopener\" href=\"http://www.chordie.com/chord.pere/tabfu.thudspace.net/c/carnes_kim/bette_davis_eyes.tab\"><span class=\"result__url__domain\">chordie.com</span><span class=\"result__url__full\">/chord.pere/tabfu.thudspace.net/c/carnes_k...</span></a></div><a href=\"/?q=Bette%20Davis%20Eyes%20%2D%20Kim%20Carnes%20letras.mus.br+site:www.chordie.com\" title=\"Procurar no domínio www.chordie.com\" class=\"result__menu\">Mais resultados</a></div></div></div><div id=\"r1-18\" class=\"result results_links_deep highlight_d\" data-domain=\"smule.com\" data-hostname=\"www.smule.com\" data-nir=\"1\"><div class=\"result__body links_main links_deep\"><h2 class=\"result__title\"><a class=\"result__a\" rel=\"noopener\" href=\"https://www.smule.com/recording/kim-carnes-bette-davis-eyes/134423287_1639239755\"><b>Kim</b> <b>Carnes</b> - <b>Bette</b> <b>Davis</b> <b>Eyes</b> on Sing! Karaoke by... | Smule</a><a rel=\"noopener\" class=\"result__check\" href=\"https://www.smule.com/recording/kim-carnes-bette-davis-eyes/134423287_1639239755\"><span class=\"result__check__tt\">Seu navegador diz que você já visitou este link</span></a></h2><div class=\"result__extras\"><div class=\"result__extras__url\"><span class=\"result__icon\"><a href=\"/?q=Bette%20Davis%20Eyes%20%2D%20Kim%20Carnes%20letras.mus.br+site:www.smule.com\" title=\"Procurar no domínio www.smule.com\"><img height=\"16\" width=\"16\" title=\"Procurar no domínio www.smule.com\" class=\"result__icon__img js-lazyload-icons\" data-src=\"//icons.duckduckgo.com/ip3/www.smule.com.ico\"></a></span><a class=\"result__url\" rel=\"noopener\" href=\"https://www.smule.com/recording/kim-carnes-bette-davis-eyes/134423287_1639239755\"><span class=\"result__url__domain\">https://www.smule.com</span><span class=\"result__url__full\">/recording/kim-carnes-bette-davis-eyes/134...</span></a></div><a href=\"/?q=Bette%20Davis%20Eyes%20%2D%20Kim%20Carnes%20letras.mus.br+site:www.smule.com\" title=\"Procurar no domínio www.smule.com\" class=\"result__menu\">Mais resultados</a></div></div></div><div id=\"r1-19\" class=\"result results_links_deep highlight_d\" data-domain=\"multimedia-english.com\" data-hostname=\"multimedia-english.com\" data-nir=\"1\"><div class=\"result__body links_main links_deep\"><h2 class=\"result__title\"><a class=\"result__a\" rel=\"noopener\" href=\"https://multimedia-english.com/videos/music/bette-davis-eyes-3421\"><b>Bette</b> <b>Davis</b> <b>Eyes</b> (<b>Kim</b> <b>Carnes</b>) -[Multimedia-English videos]</a><a rel=\"noopener\" class=\"result__check\" href=\"https://multimedia-english.com/videos/music/bette-davis-eyes-3421\"><span class=\"result__check__tt\">Seu navegador diz que você já visitou este link</span></a></h2><div class=\"result__snippet\">An old song from 1974 turned into a hit by <b>Kim</b> <b>Carnes</b> in 1981. She'll expose you, when she snows you Off your feet with the crumbs she throws you She's ferocious and she knows just What it takes to make a pro blush All the boys think she's a spy She's got <b>Bette</b> <b>Davis</b> <b>eyes</b>.</div><div class=\"result__extras\"><div class=\"result__extras__url\"><span class=\"result__icon\"><a href=\"/?q=Bette%20Davis%20Eyes%20%2D%20Kim%20Carnes%20letras.mus.br+site:multimedia-english.com\" title=\"Procurar no domínio multimedia-english.com\"><img height=\"16\" width=\"16\" title=\"Procurar no domínio multimedia-english.com\" class=\"result__icon__img js-lazyload-icons\" data-src=\"//icons.duckduckgo.com/ip3/multimedia-english.com.ico\"></a></span><a class=\"result__url\" rel=\"noopener\" href=\"https://multimedia-english.com/videos/music/bette-davis-eyes-3421\"><span class=\"result__url__domain\">https://multimedia-english.com</span><span class=\"result__url__full\">/videos/music/bette-davis-eyes-3421</span></a></div><a href=\"/?q=Bette%20Davis%20Eyes%20%2D%20Kim%20Carnes%20letras.mus.br+site:multimedia-english.com\" title=\"Procurar no domínio multimedia-english.com\" class=\"result__menu\">Mais resultados</a></div></div></div><div id=\"r1-20\" class=\"result results_links_deep highlight_d\" data-domain=\"ofgweb.de\" data-hostname=\"ofgweb.de\" data-nir=\"1\"><div class=\"result__body links_main links_deep\"><h2 class=\"result__title\"><a class=\"result__a\" rel=\"noopener\" href=\"http://ofgweb.de/score/bette/score_bette_davis_eyes_kim_carnes.pdf\"><span class=\"result__type\">PDF</span> Browse and Read Score <b>Bette</b> <b>Davis</b> <b>Eyes</b> <b>Kim</b> <b>Carnes</b></a><a rel=\"noopener\" class=\"result__check\" href=\"http://ofgweb.de/score/bette/score_bette_davis_eyes_kim_carnes.pdf\"><span class=\"result__check__tt\">Seu navegador diz que você já visitou este link</span></a></h2><div class=\"result__snippet\">Follow up what we will offer in this article about score <b>bette</b> <b>davis</b> <b>eyes</b> <b>kim</b> <b>carnes</b>. You know really that this book is coming as the best seller book today. Popular Books Similar With Score <b>Bette</b> <b>Davis</b> <b>Eyes</b> <b>Kim</b> <b>Carnes</b> Are Listed Below</div><div class=\"result__extras\"><div class=\"result__extras__url\"><span class=\"result__icon\"><a href=\"/?q=Bette%20Davis%20Eyes%20%2D%20Kim%20Carnes%20letras.mus.br+site:ofgweb.de\" title=\"Procurar no domínio ofgweb.de\"><img height=\"16\" width=\"16\" title=\"Procurar no domínio ofgweb.de\" class=\"result__icon__img js-lazyload-icons\" data-src=\"//icons.duckduckgo.com/ip3/ofgweb.de.ico\"></a></span><a class=\"result__url\" rel=\"noopener\" href=\"http://ofgweb.de/score/bette/score_bette_davis_eyes_kim_carnes.pdf\"><span class=\"result__url__domain\">ofgweb.de</span><span class=\"result__url__full\">/score/bette/score_bette_davis_eyes_kim_ca...</span></a></div><a href=\"/?q=Bette%20Davis%20Eyes%20%2D%20Kim%20Carnes%20letras.mus.br+site:ofgweb.de\" title=\"Procurar no domínio ofgweb.de\" class=\"result__menu\">Mais resultados</a></div></div></div><div id=\"r1-21\" class=\"result results_links_deep highlight_d\" data-domain=\"guitaretab.com\" data-hostname=\"www.guitaretab.com\" data-nir=\"1\"><div class=\"result__body links_main links_deep\"><h2 class=\"result__title\"><a class=\"result__a\" rel=\"noopener\" href=\"http://www.guitaretab.com/k/kim-carnes/123817.html\"><b>Kim</b> <b>Carnes</b> - ( <b>Bette</b> <b>Davis</b> <b>Eyes</b> tab )</a><a rel=\"noopener\" class=\"result__check\" href=\"http://www.guitaretab.com/k/kim-carnes/123817.html\"><span class=\"result__check__tt\">Seu navegador diz que você já visitou este link</span></a></h2><div class=\"result__snippet\"><b>Bette</b> <b>Davis</b> <b>Eyes</b> tab (version 1) by <b>Kim</b> <b>Carnes</b> at GuitareTab.com. F F/A (Fig.E repeated) She'll turn the music on you (Fig.C) You won't have to think twice (Fig.D) She's pure as New York Snow (Fig.C) She got <b>Bette</b> <b>Davis</b> <b>eyes</b> (Fig.G).</div><div class=\"result__extras\"><div class=\"result__extras__url\"><span class=\"result__icon\"><a href=\"/?q=Bette%20Davis%20Eyes%20%2D%20Kim%20Carnes%20letras.mus.br+site:www.guitaretab.com\" title=\"Procurar no domínio www.guitaretab.com\"><img height=\"16\" width=\"16\" title=\"Procurar no domínio www.guitaretab.com\" class=\"result__icon__img js-lazyload-icons\" data-src=\"//icons.duckduckgo.com/ip3/www.guitaretab.com.ico\"></a></span><a class=\"result__url\" rel=\"noopener\" href=\"http://www.guitaretab.com/k/kim-carnes/123817.html\"><span class=\"result__url__domain\">guitaretab.com</span><span class=\"result__url__full\">/k/kim-carnes/123817.html</span></a></div><a href=\"/?q=Bette%20Davis%20Eyes%20%2D%20Kim%20Carnes%20letras.mus.br+site:www.guitaretab.com\" title=\"Procurar no domínio www.guitaretab.com\" class=\"result__menu\">Mais resultados</a></div></div></div><div id=\"r1-22\" class=\"result results_links_deep highlight_d\" data-domain=\"dadrox.de\" data-hostname=\"dadrox.de\" data-nir=\"1\"><div class=\"result__body links_main links_deep\"><h2 class=\"result__title\"><a class=\"result__a\" rel=\"noopener\" href=\"http://dadrox.de/score/bette/score_bette_davis_eyes_kim_carnes.pdf\"><span class=\"result__type\">PDF</span> Score <b>Bette</b> <b>Davis</b> <b>Eyes</b> <b>Kim</b> <b>Carnes</b></a><a rel=\"noopener\" class=\"result__check\" href=\"http://dadrox.de/score/bette/score_bette_davis_eyes_kim_carnes.pdf\"><span class=\"result__check__tt\">Seu navegador diz que você já visitou este link</span></a></h2><div class=\"result__snippet\">Now, we will show you a new book enPDFd score <b>bette</b> <b>davis</b> <b>eyes</b> <b>kim</b> <b>carnes</b> that can be a new way to explore the knowledge. When reading this book, you can get one thing to always remember in every reading time, even step by step.</div><div class=\"result__extras\"><div class=\"result__extras__url\"><span class=\"result__icon\"><a href=\"/?q=Bette%20Davis%20Eyes%20%2D%20Kim%20Carnes%20letras.mus.br+site:dadrox.de\" title=\"Procurar no domínio dadrox.de\"><img height=\"16\" width=\"16\" title=\"Procurar no domínio dadrox.de\" class=\"result__icon__img js-lazyload-icons\" data-src=\"//icons.duckduckgo.com/ip3/dadrox.de.ico\"></a></span><a class=\"result__url\" rel=\"noopener\" href=\"http://dadrox.de/score/bette/score_bette_davis_eyes_kim_carnes.pdf\"><span class=\"result__url__domain\">dadrox.de</span><span class=\"result__url__full\">/score/bette/score_bette_davis_eyes_kim_ca...</span></a></div><a href=\"/?q=Bette%20Davis%20Eyes%20%2D%20Kim%20Carnes%20letras.mus.br+site:dadrox.de\" title=\"Procurar no domínio dadrox.de\" class=\"result__menu\">Mais resultados</a></div></div></div><div id=\"r1-23\" class=\"result results_links_deep highlight_d\" data-domain=\"guitar-town.blogspot.ru\" data-hostname=\"guitar-town.blogspot.ru\" data-nir=\"1\"><div class=\"result__body links_main links_deep\"><h2 class=\"result__title\"><a class=\"result__a\" rel=\"noopener\" href=\"https://guitar-town.blogspot.ru/2010/09/bette-davis-eyes-kim-carnes.html\">\"<b>Bette</b> <b>Davis</b> <b>Eyes</b>\" - <b>Kim</b> <b>Carnes</b></a><a rel=\"noopener\" class=\"result__check\" href=\"https://guitar-town.blogspot.ru/2010/09/bette-davis-eyes-kim-carnes.html\"><span class=\"result__check__tt\">Seu navegador diz que você já visitou este link</span></a></h2><div class=\"result__snippet\">Oh eighties. I just realized that in all of my time as a \"blogger\", I have yet to write about a hit from the Eighties. In my opinion the Eighties was the MOST significant music era. Bands like Heart, KISS, Bon Jovi, Madonna and Guns N' Roses reigned supreme.</div><div class=\"result__extras\"><div class=\"result__extras__url\"><span class=\"result__icon\"><a href=\"/?q=Bette%20Davis%20Eyes%20%2D%20Kim%20Carnes%20letras.mus.br+site:guitar-town.blogspot.ru\" title=\"Procurar no domínio guitar-town.blogspot.ru\"><img height=\"16\" width=\"16\" title=\"Procurar no domínio guitar-town.blogspot.ru\" class=\"result__icon__img js-lazyload-icons\" data-src=\"//icons.duckduckgo.com/ip3/guitar-town.blogspot.ru.ico\"></a></span><a class=\"result__url\" rel=\"noopener\" href=\"https://guitar-town.blogspot.ru/2010/09/bette-davis-eyes-kim-carnes.html\"><span class=\"result__url__domain\">https://guitar-town.blogspot.ru</span><span class=\"result__url__full\">/2010/09/bette-davis-eyes-kim-carnes.html</span></a></div><a href=\"/?q=Bette%20Davis%20Eyes%20%2D%20Kim%20Carnes%20letras.mus.br+site:guitar-town.blogspot.ru\" title=\"Procurar no domínio guitar-town.blogspot.ru\" class=\"result__menu\">Mais resultados</a></div></div></div><div id=\"r1-24\" class=\"result results_links_deep highlight_d\" data-domain=\"musicnoteslib.com\" data-hostname=\"musicnoteslib.com\" data-nir=\"1\"><div class=\"result__body links_main links_deep\"><h2 class=\"result__title\"><a class=\"result__a\" rel=\"noopener\" href=\"http://musicnoteslib.com/tabs/Kim_Carnes-Bette_Davis_Eyes-728847.html\"><b>Bette</b> <b>Davis</b> <b>Eyes</b> chords and tabs by <b>Kim</b> <b>Carnes</b> @ musicnoteslib.com</a><a rel=\"noopener\" class=\"result__check\" href=\"http://musicnoteslib.com/tabs/Kim_Carnes-Bette_Davis_Eyes-728847.html\"><span class=\"result__check__tt\">Seu navegador diz que você já visitou este link</span></a></h2><div class=\"result__snippet\"><b>Kim</b> <b>Carnes</b>-<b>Bette</b> <b>Davis</b> <b>Eyes</b> 1 guitar tab, guitar tabs, bass tabs, chords and guitar pro tabs. Her hair is Harlowe gold (Fig.A) Lips sweet surprise (Fig.B) Her hands are never cold (Fig.C) She's got <b>Bette</b> <b>Davis</b> <b>eyes</b>.</div><div class=\"result__extras\"><div class=\"result__extras__url\"><span class=\"result__icon\"><a href=\"/?q=Bette%20Davis%20Eyes%20%2D%20Kim%20Carnes%20letras.mus.br+site:musicnoteslib.com\" title=\"Procurar no domínio musicnoteslib.com\"><img height=\"16\" width=\"16\" title=\"Procurar no domínio musicnoteslib.com\" class=\"result__icon__img js-lazyload-icons\" data-src=\"//icons.duckduckgo.com/ip3/musicnoteslib.com.ico\"></a></span><a class=\"result__url\" rel=\"noopener\" href=\"http://musicnoteslib.com/tabs/Kim_Carnes-Bette_Davis_Eyes-728847.html\"><span class=\"result__url__domain\">musicnoteslib.com</span><span class=\"result__url__full\">/tabs/Kim_Carnes-Bette_Davis_Eyes-728847.html</span></a></div><a href=\"/?q=Bette%20Davis%20Eyes%20%2D%20Kim%20Carnes%20letras.mus.br+site:musicnoteslib.com\" title=\"Procurar no domínio musicnoteslib.com\" class=\"result__menu\">Mais resultados</a></div></div></div><div id=\"r1-25\" class=\"result results_links_deep highlight_d\" data-domain=\"lyricscopy.com\" data-hostname=\"www.lyricscopy.com\" data-nir=\"1\"><div class=\"result__body links_main links_deep\"><h2 class=\"result__title\"><a class=\"result__a\" rel=\"noopener\" href=\"http://www.lyricscopy.com/kim-carnes/bette-davis-eyes.htm\"><b>Bette</b> <b>Davis</b> <b>Eyes</b> - <b>Kim</b> <b>Carnes</b> - Lyrics of the song</a><a rel=\"noopener\" class=\"result__check\" href=\"http://www.lyricscopy.com/kim-carnes/bette-davis-eyes.htm\"><span class=\"result__check__tt\">Seu navegador diz que você já visitou este link</span></a></h2><div class=\"result__snippet\">Home &gt; K &gt; <b>Kim</b> <b>Carnes</b> &gt; <b>Bette</b> <b>davis</b> <b>eyes</b>. Search Her hair is harlow gold, her lips sweet surprise Her hands are never cold, she´s got <b>Bette</b> <b>Davis</b> <b>eyes</b> She´ll turn the music on you, you won´t have to think twice She´s pure as New York snow, she got <b>Bette</b> <b>Davis</b> <b>eyes</b> ...</div><div class=\"result__extras\"><div class=\"result__extras__url\"><span class=\"result__icon\"><a href=\"/?q=Bette%20Davis%20Eyes%20%2D%20Kim%20Carnes%20letras.mus.br+site:www.lyricscopy.com\" title=\"Procurar no domínio www.lyricscopy.com\"><img height=\"16\" width=\"16\" title=\"Procurar no domínio www.lyricscopy.com\" class=\"result__icon__img js-lazyload-icons\" data-src=\"//icons.duckduckgo.com/ip3/www.lyricscopy.com.ico\"></a></span><a class=\"result__url\" rel=\"noopener\" href=\"http://www.lyricscopy.com/kim-carnes/bette-davis-eyes.htm\"><span class=\"result__url__domain\">lyricscopy.com</span><span class=\"result__url__full\">/kim-carnes/bette-davis-eyes.htm</span></a></div><a href=\"/?q=Bette%20Davis%20Eyes%20%2D%20Kim%20Carnes%20letras.mus.br+site:www.lyricscopy.com\" title=\"Procurar no domínio www.lyricscopy.com\" class=\"result__menu\">Mais resultados</a></div></div></div><div id=\"r1-26\" class=\"result results_links_deep highlight_d\" data-domain=\"youtube.com\" data-hostname=\"www.youtube.com\" data-nir=\"1\"><div class=\"result__body links_main links_deep\"><h2 class=\"result__title\"><a class=\"result__a\" rel=\"noopener\" href=\"https://www.youtube.com/watch?v=ifDycyRNpcI\"><b>Kim</b> <b>Carnes</b> - <b>Bette</b> <b>Davis</b> <b>Eyes</b> - YouTube</a><a rel=\"noopener\" class=\"result__check\" href=\"https://www.youtube.com/watch?v=ifDycyRNpcI\"><span class=\"result__check__tt\">Seu navegador diz que você já visitou este link</span></a></h2><div class=\"result__snippet\"><b>Bette</b> <b>Davis</b> <b>Eyes</b> - <b>Kim</b> <b>Carnes</b> - Duration: 3:43. <b>Kim</b> <b>Carnes</b> - <b>BETTE</b> <b>DAVIS</b> <b>EYE</b> - Les années bonheur - Patrick Sébastien - Live - Duration: 4:20.</div><div class=\"result__extras\"><div class=\"result__extras__url\"><span class=\"result__icon\"><a href=\"/?q=Bette%20Davis%20Eyes%20%2D%20Kim%20Carnes%20letras.mus.br+site:www.youtube.com\" title=\"Procurar no domínio www.youtube.com\"><img height=\"16\" width=\"16\" title=\"Procurar no domínio www.youtube.com\" class=\"result__icon__img js-lazyload-icons\" data-src=\"/assets/icons/favicons/youtube.png\"></a></span><a class=\"result__url\" rel=\"noopener\" href=\"https://www.youtube.com/watch?v=ifDycyRNpcI\"><span class=\"result__url__domain\">https://www.youtube.com</span><span class=\"result__url__full\">/watch?v=ifDycyRNpcI</span></a></div><a href=\"/?q=Bette%20Davis%20Eyes%20%2D%20Kim%20Carnes%20letras.mus.br+site:www.youtube.com\" title=\"Procurar no domínio www.youtube.com\" class=\"result__menu\">Mais resultados</a></div></div></div><div class=\"result result--more\" id=\"rld-1\"><a href=\"javascript:;\" class=\"result--more__btn  btn  btn--alt  btn--full\">Carregar mais</a></div><div id=\"rrd-1\" style=\"display: none;\"></div></div></div><div class=\"results--sidebar js-results-sidebar\"><div class=\"sidebar-modules js-sidebar-modules\"></div><div class=\"js-sidebar-ads\"></div></div></div></div></div><div id=\"bottom_spacing2\"> </div><div class=\"nav-menu--slideout\"><ul class=\"nav-menu__list\"><i class=\"nav-menu__close  js-side-menu-close\">X</i><ul class=\"nav-menu--theme\"><li class=\"nav-menu__heading\"><span>Configurações</span></li><li class=\"nav-menu__item\"><ul class=\"nav-menu__themes\"><li class=\"nav-menu__theme  js-side-menu-theme theme-is-selected\"><span class=\"nav-menu__theme-color\"><span class=\"nav-menu__theme-color-top\" style=\"background-color:#084999;\"></span><span class=\"nav-menu__theme-color-bot\" style=\"background-color:#888;\"></span></span></li><li class=\"nav-menu__theme  js-side-menu-theme\"><span class=\"nav-menu__theme-color\"><span class=\"nav-menu__theme-color-top\" style=\"background-color:#333;\"></span><span class=\"nav-menu__theme-color-bot\" style=\"background-color:#888;\"></span></span></li><li class=\"nav-menu__theme  js-side-menu-theme\"><span class=\"nav-menu__theme-color\"><span class=\"nav-menu__theme-color-top\" style=\"background-color:#3434d4;\"></span><span class=\"nav-menu__theme-color-bot\" style=\"background-color:#047d00;\"></span></span></li><li class=\"nav-menu__theme  js-side-menu-theme\"><span class=\"nav-menu__theme-color\"><span class=\"nav-menu__theme-color-top\" style=\"background-color:#444;\"></span><span class=\"nav-menu__theme-color-bot\" style=\"background-color:#222;\"></span></span></li></ul></li><li class=\"nav-menu__item clear\"><a href=\"/settings#theme\" data-settings=\"1\">Mais Temas</a></li><li class=\"nav-menu__item\"><a href=\"/settings\" tabindex=\"-1\" data-settings=\"1\">Outras Configurações</a></li></ul><ul class=\"nav-menu--feedback\"><li class=\"nav-menu__heading\"><span>Enviar comentários</span></li><li class=\"nav-menu__feedback\"><a href=\"#\" class=\"nav-menu__feedback__icon nav-menu__feedback__icon--love js-side-menu-love\"></a><a href=\"#\" class=\"nav-menu__feedback__icon nav-menu__feedback__icon--nolove js-side-menu-nolove\"></a></li></ul><ul class=\"nav-menu--main\"><li class=\"nav-menu__heading\"><span>Menu</span></li><li class=\"nav-menu__item\"><a href=\"/about\">Sobre</a></li><li class=\"nav-menu__item\"><a href=\"/bang\">Bangs</a></li><li class=\"nav-menu__item\"><a href=\"/spread\">Espalhar</a></li><li class=\"nav-menu__item\"><a href=\"/hiring\">Carreiras</a></li><li class=\"nav-menu__item  hide--mob\"><a href=\"https://duck.co/help\">Ajuda</a></li></ul><ul class=\"nav-menu--privacy\">       <li class=\"nav-menu__heading\"><span>Privacidade</span></li><li class=\"nav-menu__item\"><a href=\"https://spreadprivacy.com/\">Blogue</a></li><li class=\"nav-menu__item\"><a href=\"https://donttrack.us/\">DontTrack.us</a></li><li class=\"nav-menu__item\"><a href=\"/privacy\">Política</a></li></ul><ul class=\"nav-menu--social-media\">       <li class=\"nav-menu__heading\"><span>Mantenha contato</span></li><li class=\"nav-menu__item\"><a href=\"https://twitter.com/duckduckgo\">Twitter</a></li><li class=\"nav-menu__item\"><a href=\"https://reddit.com/r/duckduckgo\">Reddit</a></li></ul></ul></div></div><script type=\"text/javascript\"></script><script type=\"text/JavaScript\">function nrji() {nrj('/t.js?q=Bette%20Davis%20Eyes%20%2D%20Kim%20Carnes%20letras.mus.br&l=br-pt&p=1&s=0&dl=pt&ct=BR&ss_mkt=br');nrje('/d.js?q=Bette%20Davis%20Eyes%20%2D%20Kim%20Carnes%20letras.mus.br&l=br-pt&p=1&s=0&dl=pt&ct=BR&ss_mkt=br&vqd=310352182820460690721598013595229384743','/d.js?q=Bette%20Davis%20Eyes%20%2D%20Kim%20Carnes%20letras.mus.br&l=br-pt&p=1&s=0&dl=pt&ct=BR&ss_mkt=br&vqd=310352182820460690721598013595229384743');;};DDG.ready(nrji, 1);</script><script src=\"/g1815.js\"></script><script type=\"text/javascript\">DDG.page = new DDG.Pages.SERP({ showSafeSearch: 0, instantAnswerAds: false });</script><div id=\"z2\"> </div><div id=\"z\"></div><iframe id=\"iframe_hidden\" src=\"/post2.html\"></iframe></body></html>\n"
     ]
    }
   ],
   "source": [
    "from selenium import webdriver\n",
    "driver = webdriver.PhantomJS()\n",
    "driver.get(\"https://duckduckgo.com/?q=Bette Davis Eyes - Kim Carnes letras.mus.br\")\n",
    "print(driver.page_source)\n",
    "#print(p_element.text)"
   ]
  },
  {
   "cell_type": "code",
   "execution_count": 24,
   "metadata": {},
   "outputs": [
    {
     "data": {
      "text/plain": [
       "'https://www.letras.mus.br/carnes-kim/78326/'"
      ]
     },
     "execution_count": 24,
     "metadata": {},
     "output_type": "execute_result"
    }
   ],
   "source": [
    "buscando_link = scp(text=driver.page_source).xpath('//a[@class=\"result__a\"]/@href').extract_first()\n",
    "buscando_link"
   ]
  },
  {
   "cell_type": "code",
   "execution_count": 77,
   "metadata": {},
   "outputs": [],
   "source": [
    "# success! #:)"
   ]
  },
  {
   "cell_type": "code",
   "execution_count": 25,
   "metadata": {},
   "outputs": [
    {
     "name": "stdout",
     "output_type": "stream",
     "text": [
      "200\n"
     ]
    }
   ],
   "source": [
    "#indo até o site letras.mus.br\n",
    "r = req.get(buscando_link)\n",
    "print(r.status_code)"
   ]
  },
  {
   "cell_type": "code",
   "execution_count": 26,
   "metadata": {},
   "outputs": [
    {
     "data": {
      "text/plain": [
       "'http://www.cifraclub.com.br/carnes-kim/bette-davis-eyes/'"
      ]
     },
     "execution_count": 26,
     "metadata": {},
     "output_type": "execute_result"
    }
   ],
   "source": [
    "# pegando link da cifra\n",
    "link_da_cifra = scp(text=r.content).xpath('//div[@class=\"letra-menu\"]/a/@href').extract()[2]\n",
    "link_da_cifra"
   ]
  },
  {
   "cell_type": "code",
   "execution_count": 27,
   "metadata": {},
   "outputs": [
    {
     "name": "stdout",
     "output_type": "stream",
     "text": [
      "200\n"
     ]
    }
   ],
   "source": [
    "# crawleando os links para acesso as músicas por ano\n",
    "\n",
    "r = req.get(\"http://www.mofolandia.com.br/mofolandia_nova/musica_tophits.htm\")\n",
    "print(r.status_code)"
   ]
  },
  {
   "cell_type": "code",
   "execution_count": 28,
   "metadata": {},
   "outputs": [
    {
     "data": {
      "text/plain": [
       "['musica_tophits_58.htm',\n",
       " 'musica_tophits_59.htm',\n",
       " 'musica_tophits_60.htm',\n",
       " 'musica_tophits_61.htm',\n",
       " 'musica_tophits_62.htm',\n",
       " 'musica_tophits_63.htm',\n",
       " 'musica_tophits_64.htm',\n",
       " 'musica_tophits_65.htm',\n",
       " 'musica_tophits_66.htm',\n",
       " 'musica_tophits_67.htm',\n",
       " 'musica_tophits_68.htm',\n",
       " 'musica_tophits_69.htm',\n",
       " 'musica_tophits_70.htm',\n",
       " 'musica_tophits_71.htm',\n",
       " 'musica_tophits_72.htm',\n",
       " 'musica_tophits_73.htm',\n",
       " 'musica_tophits_74.htm',\n",
       " 'musica_tophits_75.htm',\n",
       " 'musica_tophits_76.htm',\n",
       " 'musica_tophits_77.htm',\n",
       " 'musica_tophits_78.htm',\n",
       " 'musica_tophits_79.htm',\n",
       " 'musica_tophits_80.htm',\n",
       " 'musica_tophits_81.htm',\n",
       " 'musica_tophits_82.htm',\n",
       " 'musica_tophits_83.htm',\n",
       " 'musica_tophits_84.htm',\n",
       " 'musica_tophits_85.htm',\n",
       " 'musica_tophits_86.htm',\n",
       " 'musica_tophits_87.htm',\n",
       " 'musica_tophits_88.htm',\n",
       " 'musica_tophits_89.htm',\n",
       " 'musica_tophits_90.htm',\n",
       " 'musica_tophits_91.htm',\n",
       " 'musica_tophits_92.htm',\n",
       " 'musica_tophits_93.htm',\n",
       " 'musica_tophits_94.htm',\n",
       " 'musica_tophits_95.htm',\n",
       " 'musica_tophits_96.htm',\n",
       " 'musica_tophits_97.htm',\n",
       " 'musica_tophits_98.htm',\n",
       " 'musica_tophits_99.htm',\n",
       " 'musica_tophits_00.htm',\n",
       " 'musica_tophits_01.htm',\n",
       " 'musica_tophits_02.htm',\n",
       " 'musica_tophits_03.htm',\n",
       " 'musica_tophits_04.htm',\n",
       " 'musica_tophits_05.htm',\n",
       " 'musica_tophits_06.htm',\n",
       " 'musica_tophits_07.htm',\n",
       " 'musica_tophits_08.htm',\n",
       " 'musica_tophits_09.htm',\n",
       " 'musica_tophits_10.htm',\n",
       " 'musica_tophits_11.htm',\n",
       " 'musica_tophits_12.htm',\n",
       " 'musica_tophits_13.htm',\n",
       " 'musica_tophits_14.htm',\n",
       " 'musica_tophits_15.htm']"
      ]
     },
     "execution_count": 28,
     "metadata": {},
     "output_type": "execute_result"
    }
   ],
   "source": [
    "links_para_os_anos = scp(text=r.content).xpath('//a/@href').extract()\n",
    "links_para_os_anos"
   ]
  },
  {
   "cell_type": "code",
   "execution_count": 33,
   "metadata": {},
   "outputs": [
    {
     "name": "stdout",
     "output_type": "stream",
     "text": [
      "\n",
      "Musicas musica_tophits_58.htm:\n",
      "\n",
      "\n",
      "Musicas musica_tophits_59.htm:\n",
      "\n",
      "\n",
      "Musicas musica_tophits_60.htm:\n",
      "\n",
      "\n",
      "Musicas musica_tophits_61.htm:\n",
      "\n",
      "\n",
      "Musicas musica_tophits_62.htm:\n",
      "\n",
      "\n",
      "Musicas musica_tophits_63.htm:\n",
      "\n",
      "\n",
      "Musicas musica_tophits_64.htm:\n",
      "\n",
      "\n",
      "Musicas musica_tophits_65.htm:\n",
      "\n",
      "\n",
      "Musicas musica_tophits_66.htm:\n",
      "\n",
      "\n",
      "Musicas musica_tophits_67.htm:\n",
      "\n",
      "\n",
      "Musicas musica_tophits_68.htm:\n",
      "\n",
      "\n",
      "Musicas musica_tophits_69.htm:\n",
      "\n",
      "\n",
      "Musicas musica_tophits_70.htm:\n",
      "\n",
      "\n",
      "Musicas musica_tophits_71.htm:\n",
      "\n",
      "\n",
      "Musicas musica_tophits_72.htm:\n",
      "\n",
      "\n",
      "Musicas musica_tophits_73.htm:\n",
      "\n",
      "\n",
      "Musicas musica_tophits_74.htm:\n",
      "\n",
      "\n",
      "Musicas musica_tophits_75.htm:\n",
      "\n",
      "\n",
      "Musicas musica_tophits_76.htm:\n",
      "\n",
      "\n",
      "Musicas musica_tophits_77.htm:\n",
      "\n",
      "\n",
      "Musicas musica_tophits_78.htm:\n",
      "\n",
      "\n",
      "Musicas musica_tophits_79.htm:\n",
      "\n",
      "\n",
      "Musicas musica_tophits_80.htm:\n",
      "\n",
      "\n",
      "Musicas musica_tophits_81.htm:\n",
      "\n",
      "\n",
      "Musicas musica_tophits_82.htm:\n",
      "\n",
      "\n",
      "Musicas musica_tophits_83.htm:\n",
      "\n",
      "\n",
      "Musicas musica_tophits_84.htm:\n",
      "\n",
      "\n",
      "Musicas musica_tophits_85.htm:\n",
      "\n",
      "\n",
      "Musicas musica_tophits_86.htm:\n",
      "\n",
      "\n",
      "Musicas musica_tophits_87.htm:\n",
      "\n",
      "\n",
      "Musicas musica_tophits_88.htm:\n",
      "\n",
      "\n",
      "Musicas musica_tophits_89.htm:\n",
      "\n",
      "\n",
      "Musicas musica_tophits_90.htm:\n",
      "\n",
      "\n",
      "Musicas musica_tophits_91.htm:\n",
      "\n",
      "\n",
      "Musicas musica_tophits_92.htm:\n",
      "\n",
      "\n",
      "Musicas musica_tophits_93.htm:\n",
      "\n",
      "\n",
      "Musicas musica_tophits_94.htm:\n",
      "\n",
      "\n",
      "Musicas musica_tophits_95.htm:\n",
      "\n",
      "\n",
      "Musicas musica_tophits_96.htm:\n",
      "\n",
      "\n",
      "Musicas musica_tophits_97.htm:\n",
      "\n",
      "\n",
      "Musicas musica_tophits_98.htm:\n",
      "\n",
      "\n",
      "Musicas musica_tophits_99.htm:\n",
      "\n",
      "\n",
      "Musicas musica_tophits_00.htm:\n",
      "\n"
     ]
    }
   ],
   "source": [
    "array_com_todas = []\n",
    "#http://www.mofolandia.com.br/mofolandia_nova/musica_tophits_96.htm\n",
    "\n",
    "for link in links_para_os_anos:\n",
    "    if link == \"musica_tophits_01.htm\":\n",
    "        break\n",
    "    r = None\n",
    "    try:        \n",
    "        r = req.get(\"http://www.mofolandia.com.br/mofolandia_nova/\"+link)\n",
    "    except:\n",
    "        #print(\"Tentando de novo...\")\n",
    "        r = req.get(\"http://www.mofolandia.com.br/mofolandia_nova/\"+link)\n",
    "    if r.status_code == 200:\n",
    "        texto = r.content.decode('iso8859-1')\n",
    "        #print(texto)\n",
    "        lista_hits = scp(text=texto).xpath('//font[@face=\"Arial\"]/text()').extract()\n",
    "        #print(lista_hits81)\n",
    "        lista_nova = []\n",
    "        for musica in lista_hits:\n",
    "            laux = list(musica)            \n",
    "            if \"\\n\" in laux:                \n",
    "                laux.remove(\"\\n\")\n",
    "            if \"\\r\" in laux:\n",
    "                laux.remove(\"\\r\")\n",
    "            lista_nova.append(\"\".join(laux).replace(\"      \",' '))\n",
    "        print(\"\\nMusicas {}:\\n\".format(link))\n",
    "        arq = open(link+\".csv\", 'w')\n",
    "        for li in lista_nova:\n",
    "            arq.write(li.replace(\" - \", \";\"))\n",
    "            arq.write(\"\\n\")\n",
    "            #print(li.replace(\" - \", \";\"))\n",
    "        #print(lista_nova[0:3])\n",
    "        arq.close()\n",
    "        array_com_todas.append(lista_nova)\n",
    "    \n",
    "    "
   ]
  },
  {
   "cell_type": "code",
   "execution_count": 105,
   "metadata": {},
   "outputs": [],
   "source": [
    "# O crawler está falhando em músicas após o ano 2000... vamos averiguar"
   ]
  },
  {
   "cell_type": "code",
   "execution_count": 117,
   "metadata": {},
   "outputs": [],
   "source": [
    "r = req.get(\"http://www.mofolandia.com.br/mofolandia_nova/musica_tophits_01.htm\")"
   ]
  },
  {
   "cell_type": "code",
   "execution_count": 119,
   "metadata": {},
   "outputs": [
    {
     "data": {
      "text/plain": [
       "[]"
      ]
     },
     "execution_count": 119,
     "metadata": {},
     "output_type": "execute_result"
    }
   ],
   "source": [
    "# resolução para 2001 (mantém as condições do \\n e \\r)\n",
    "texto = r.content.decode('iso8859-1')\n",
    "#print(texto)\n",
    "lista_hits = scp(text=texto).xpath('//td[@width=\"95%\"]/p/text()').extract()\n",
    "lista_hits"
   ]
  },
  {
   "cell_type": "code",
   "execution_count": 120,
   "metadata": {},
   "outputs": [],
   "source": [
    "r = req.get(\"http://www.mofolandia.com.br/mofolandia_nova/musica_tophits_02.htm\")"
   ]
  },
  {
   "cell_type": "code",
   "execution_count": 131,
   "metadata": {},
   "outputs": [
    {
     "data": {
      "text/plain": [
       "['Love never fails -  Sandy & Junior ',\n",
       " 'Festa - \\r\\n      Ivete Sangalo \\xa0',\n",
       " 'In the end - Linkin Park \\xa0\\xa0',\n",
       " 'Anjo - \\r\\n      Kelly Key ',\n",
       " 'Cant`t get you out of my mind - \\r\\n      Kylie Minogue  \\xa0',\n",
       " 'Epitáfio - \\r\\n      Titãs ',\n",
       " 'Carla - \\r\\n      LS Jack ',\n",
       " 'Wherever you will go -  The Calling ',\n",
       " 'Complicated -\\r\\n      Avril Lavigne ',\n",
       " 'Ragatanga (Asereje) - \\xa0 Rouge & Las Ketchup ',\n",
       " 'Distância -\\r\\n      Os Travessos ',\n",
       " 'MURDER\\r\\n      ON THE DANCEFLOOR\\xa0 Sophie Ellis-Bextor ',\n",
       " 'Something - \\r\\n      Lasgo',\n",
       " 'Que nem maré -  Jorge Vercilo ',\n",
       " 'Without me - Eminem ',\n",
       " 'HOW\\r\\n      YOU REMIND ME\\xa0 Nickelback ',\n",
       " 'Tanta saudade -  Wanessa Camargo \\xa0',\n",
       " 'Baba - \\r\\n      Kelly Key  \\xa0',\n",
       " 'Mutante - \\r\\n      Daniela Mercury ',\n",
       " 'O\\r\\n      grande amor da minha vida é você (Convite de Casamento)\\xa0-\\r\\n      Vavá ',\n",
       " 'A\\r\\n      ferro e fogo - \\r\\n      Zezé Di Camargo & Luciano ',\n",
       " 'Vida minha - \\r\\n      Daniel ',\n",
       " 'O\\r\\n      mundo é bão, Sebastião - \\r\\n      Titãs ',\n",
       " 'Te amo demais - \\r\\n      Leonardo ',\n",
       " 'Dias iguais - \\r\\n      Luiza Possi ',\n",
       " 'Ain`t it funmy - \\r\\n      Jennifer Lopez ',\n",
       " 'Underneath your clothes - \\r\\n      Shakira ',\n",
       " 'Quando você passa -  Sandy\\r\\n      & Junior ',\n",
       " 'Whenever, wherever -\\xa0\\r\\n      Shakira ',\n",
       " 'Só pensando em você - \\r\\n      Rick & Renner',\n",
       " 'Clima de rodeio -  Dallas Company ',\n",
       " 'Te amar ainda mais - \\r\\n      KLB ',\n",
       " 'Noite do prazer - Claudio Zoli',\n",
       " 'Coração radiante - \\r\\n      Grupo Revelação ',\n",
       " 'Chase the sun - \\r\\n      Planet Funk ',\n",
       " 'My lover`s gone - \\r\\n      Dido ',\n",
       " 'Cachorrinho - \\r\\n      Kelly Key ',\n",
       " 'Toque de mágica - \\r\\n      Pedro & Thiago ',\n",
       " 'Hero - \\r\\n      Chad Kroeger featuring Josey Scott',\n",
       " 'Te busquei nas avenidas -\\xa0\\r\\n      Sérgio & Tchelo \\r\\n      ',\n",
       " 'A\\r\\n      cada dez palavras - \\r\\n      KLB ',\n",
       " 'Deixa a vida me levar - \\r\\n      Zeca Pagodinho ',\n",
       " 'Já sei namorar - \\r\\n      Tribalistas',\n",
       " 'Necessidade - \\r\\n      Alexandre Pires ',\n",
       " 'All for love  (A Miragem)\\xa0\\r\\n      - Michael Bolton ',\n",
       " 'Por enquanto  (ao vivo) - \\r\\n      Cássia Eller ',\n",
       " 'Hands cleana - \\r\\n      Alanis Morissette ',\n",
       " 'Te peço, fica comigo - \\r\\n      Marlon & Maicon ',\n",
       " 'Final feliz -  Só\\r\\n      Pra Contrariar & Caetano Veloso ',\n",
       " 'Asas - \\r\\n      Maskavo ',\n",
       " 'Rapture\\r\\n      (Tastes So Sweet)\\xa0\\r\\n      Iio \\r\\n      ',\n",
       " 'There must be an angel -  No Angels ',\n",
       " 'Som e imagem -  Guilherme & Santiago ',\n",
       " 'The game of love -  Santana featuring Michelle Branch ',\n",
       " 'Inconseqüente - \\r\\n      Os Travessos ',\n",
       " \"(I\\r\\n      Didn't Know I Was) Looking for love -  Mariana Kupfer \",\n",
       " 'À\\r\\n      sua maneira -  Capital Inicial \\xa0\\xa0',\n",
       " '19-2000\\xa0-\\r\\n      Gorillaz \\xa0',\n",
       " 'Me,\\r\\n      myself and -  JIVEjones ',\n",
       " 'Canção noturna (ao vivo) - \\xa0 Skank \\xa0',\n",
       " 'My sacrifice -  Creed ',\n",
       " 'Bijuteria - \\r\\n      Bruno & Marrone ',\n",
       " 'Green hair (Japa Girl)\\xa0- Supla ',\n",
       " 'Die another day -  Madonna ',\n",
       " 'Agora vai -  Bruno & Marrone ',\n",
       " 'Tô por aí - \\r\\n      Rionegro & Solimões ',\n",
       " 'Alimenta meu sonho -  Refla ',\n",
       " 'Grades do coração -  Grupo Revelação ',\n",
       " 'É\\r\\n      por amor -  Alexandre Pires ',\n",
       " 'Prá sempr eem mim  (You Needed Me)\\xa0-  Zezé Di Camargo & Luciano\\r\\n       \\xa0',\n",
       " 'Eu quero ser o seu amor -  Wanessa Camargo \\xa0',\n",
       " 'A\\r\\n      thousand miles -  Vanessa Carlton ',\n",
       " 'Mexe a lomba lomba - Cecéu Muniz ',\n",
       " 'Abrigo - \\r\\n      Belo ',\n",
       " 'Tá\\r\\ndoendo demais essa saudade  -  Art Popular ',\n",
       " 'Speranza - \\r\\n      Laura Pausini ',\n",
       " 'Mutirão do amor -  Jorge Aragão & Zeca Pagodinho ',\n",
       " 'Hero - \\r\\n      Enrique Iglesias ',\n",
       " 'Girassol\\r\\n      (acústico) -\\r\\n      Cidade Negra ',\n",
       " 'HEY\\r\\n      BABY\\xa0 No Doubt featuring Bounty Killer ',\n",
       " 'Girlfriend - \\r\\n      NSync featuring Nelly ',\n",
       " 'Se eu pudesse -  SNZ ',\n",
       " 'Usted - \\r\\n      Bruno & Marrone ',\n",
       " 'The zephyr song -  Red Hot Chili Peppers ',\n",
       " \"Emotion - \\r\\n      Destiny's Child \",\n",
       " 'Get the party started -  Pink ',\n",
       " 'Hold you -  ATB',\n",
       " 'O\\r\\n      calibre - Os Paralamas do Sucesso ',\n",
       " 'Sufocado\\r\\n      (Drowning) - Zezé Di Camargo & Luciano ',\n",
       " 'Tá na cara -  Marlon & Maicon ',\n",
       " 'Onde está o meu amor -  RPM ',\n",
       " 'Rezo - \\r\\n      Marlon & Maicon ',\n",
       " 'Desert rose -  Sting featuring Chebbi Mama ',\n",
       " 'É\\r\\n      melhor assim - \\r\\n      Pedro & Thiago \\r\\n      ',\n",
       " 'A\\r\\n      musa das minhas canções -  Alexandre Pires ',\n",
       " 'Se quer saber -  Maurício Manieri ',\n",
       " 'Fica - \\r\\n      Skank ',\n",
       " 'Tanto\\r\\n      (ao vivo)\\xa0- Skank ',\n",
       " 'By the way -  Red Hot Chili Peppers ',\n",
       " 'Juventude -  Adryana & A Rapaziada ']"
      ]
     },
     "execution_count": 131,
     "metadata": {},
     "output_type": "execute_result"
    }
   ],
   "source": [
    "# resolução para 2002\n",
    "texto = r.content.decode('iso8859-1')\n",
    "#print(texto)\n",
    "lista_hits = scp(text=texto).xpath('//td[@width=\"95%\"]/p//font/text()').extract()\n",
    "lista_hits"
   ]
  },
  {
   "cell_type": "code",
   "execution_count": 133,
   "metadata": {},
   "outputs": [],
   "source": [
    "r = req.get(\"http://www.mofolandia.com.br/mofolandia_nova/musica_tophits_03.htm\")"
   ]
  },
  {
   "cell_type": "code",
   "execution_count": 141,
   "metadata": {},
   "outputs": [
    {
     "data": {
      "text/plain": [
       "['Tô\\r\\nnem aí -  Luka ',\n",
       " 'Velha infância -  Tribalistas \\xa0',\n",
       " 'Dilemma - Nelly feat. Kelly Rowland',\n",
       " 'Dois rios -  Skank ',\n",
       " 'Amor maior -  Jota Quest  \\xa0',\n",
       " 'Ligação urbana -  Bruno & Marrone ',\n",
       " 'Sedex up -  Robbie Williams ',\n",
       " 'I\\r\\n      want you -  Thalia feat. Fat Joe ',\n",
       " 'Prá mudar a minha vida -  Zezé Di Camargo & Luciano ',\n",
       " 'Mmais uma vez -  Renato Russo ',\n",
       " 'Por causa de você -  KLB ',\n",
       " 'Bring me to life - \\r\\n      Evanescence feat. Paul McCoy ',\n",
       " 'Coisas de casal -  Alex Cohen ',\n",
       " 'Adoleta - \\r\\n      Kelly Key ',\n",
       " 'Sk8ter boi - Avril Lavigne ',\n",
       " 'Jenny from the block -  Jennifer Lopez feat. Jadakiss & Styles\\r\\n      ',\n",
       " 'Monalisa - \\r\\n      Jorge Vercilo ',\n",
       " 'Preciso de um tempo -  Zezé Di Camargo & Luciano \\xa0',\n",
       " 'Já\\r\\nsei namorar  - \\r\\n      Tribalistas \\xa0 \\xa0',\n",
       " 'Brilha la luna - \\r\\n      Rouge ',\n",
       " 'Lágrimas e chuva  (versão acústica) - \\r\\n      Kid Abelha ',\n",
       " 'Vem me amar - \\xa0\\r\\n      Alexandre Pires ',\n",
       " 'Vai dar namoro - \\r\\n      Bruno & Marrone ',\n",
       " 'Prá onde você for - \\r\\n      Pedro & Thiago ',\n",
       " 'I`m with you - \\r\\n      Avril Lavigne ',\n",
       " 'Encanto - \\r\\n      Sandy & Junior ',\n",
       " 'Minha fantasia - \\r\\n      Só Pra Contrariar ',\n",
       " 'Cai fora -  Babado\\r\\n      Novo ',\n",
       " 'Opções - \\r\\n      Os Mulekes ',\n",
       " 'Vivir sen aire - \\r\\n      Maná ',\n",
       " 'De volta prá mim - \\r\\n      Vanessa Jackson ',\n",
       " \"Prometida \\r\\n      (Guararé) -  Br'oz \",\n",
       " 'Unwell - \\xa0\\r\\n      Matchbox Twenty ',\n",
       " 'Somewhere I belong - \\r\\n      Linkin Park ',\n",
       " 'Só dessa vez - \\r\\n      KLB ',\n",
       " 'Sorte grande - Ivete Sangalo ',\n",
       " 'Alô- \\r\\n      Os Travessos ',\n",
       " 'Tua sombra em meu caminho - \\r\\n      Leonardo ',\n",
       " 'Crazy in love - \\r\\n      Beyoncé featuring Jay-Z ',\n",
       " 'Como é grande o meu amor por você - \\r\\n      Sandy & Junior ',\n",
       " 'Égua pocotó - \\r\\n      MC Serginho',\n",
       " 'All the things she said - T.A.T.u. ',\n",
       " 'Encontro das águas - \\r\\n      Jorge Aragão & Jorge Vercilo ',\n",
       " 'A\\r\\n      luz que acende o olhar -  Deborah Blando ',\n",
       " 'A\\r\\n      malvada - Leonardo ',\n",
       " \"I'm glad - \\r\\n      Jennifer Lopez \",\n",
       " 'Do I have to cry for - \\r\\n      Nick Carter ',\n",
       " 'Quero te encontrar - \\r\\n      Kid Abelha ',\n",
       " 'Don`t stop dancing - \\r\\n      Creed ',\n",
       " 'AMERICAN\\r\\n      LIFE\\xa0\\r\\n      Madonna ',\n",
       " 'Evidências - \\r\\n      Daniel ',\n",
       " 'A\\r\\n      estrada  (versão acústica)\\xa0-\\r\\n      Cidade Negra \\r\\n      ',\n",
       " 'Dà-me, dà-me (dame dame)\\xa0-  Daniel ',\n",
       " 'Homem aranha - \\r\\n      Jorge Vercilo ',\n",
       " 'Só por uma noite -  Charlie Brown Jr. ',\n",
       " 'Like a stone -  Audioslave ',\n",
       " 'A\\r\\n      festa - Maria Rita ',\n",
       " 'A\\r\\n      cada dez palavras -  KLB \\xa0\\xa0',\n",
       " 'Prá sempre -  Roberto Carlos \\xa0',\n",
       " 'Não olhe assim -  KLB ',\n",
       " 'Eu sem você -  Rick & Renner',\n",
       " 'PAGO\\r\\n      PRA VER\\xa0 Zeca Pagodinho ',\n",
       " 'SUGAR\\xa0\\r\\n      Marina Lima & Alvin L. ',\n",
       " 'Quatro semanas de amaor -  Pedro & Thiago ',\n",
       " 'Amor e sexo -  Rita Lee',\n",
       " 'Cruz em credo, ave Maria -  Bruno & Marrone ',\n",
       " 'Me against the music - \\r\\n      Britney Spears feat. Madonna ',\n",
       " 'Quando o sol se for -  Detonautas ',\n",
       " 'Prá ser feliz -  Gustavo Lins ',\n",
       " 'Gotta get thru this -  Daniel Bedingfield ',\n",
       " 'Nada é por acaso  (ao vivo)\\xa0- Sandy & Junior  \\xa0',\n",
       " 'Elevador (livro do esquecimento) - Ana Carolina \\xa0',\n",
       " 'Beautiful - \\r\\n      Christina Aguilera ',\n",
       " 'Você vai se arrepender -  Mailon & Maicon ',\n",
       " 'Papo reto -  Charlie Brown Jr. ',\n",
       " 'Retrato de um playboy  - parte II\\xa0- Gabriel O Pensador ',\n",
       " 'Fullgás\\r\\n      (versão acústica) - Marina Lima ',\n",
       " 'Why don`t you and I - Santana feat. Chad Kroeger / Alex Band\\r\\n      ',\n",
       " 'Bum,\\r\\n      bum, bum -  Alexandre Pires ',\n",
       " 'Brincadeira tem hora - \\r\\n      Leonardo ',\n",
       " 'Deixa disso -  Felipe Dylon ',\n",
       " 'Sem querer - Vanessa Camargo ',\n",
       " 'Tem que valer -  Kaleidoscópio',\n",
       " 'Já é -  Lulu Santos ',\n",
       " 'Você não me ensinou a te esquecer -  Caetano Veloso ',\n",
       " 'Um amor assim -  Orlando Morais',\n",
       " 'Máscara - \\r\\n      Pitty ',\n",
       " 'On the horizon -  Melanie C ',\n",
       " 'Lágrimas demais -  Ritchie ',\n",
       " 'Vícios e virtudes -  Charlie Brown Jr. ',\n",
       " 'Sem radar -  LS Jack ',\n",
       " 'Deixa de banca -  Raça Negra & Reginaldo Rossi ',\n",
       " 'O\\r\\n      mundo é de nós dois -  Alcione ',\n",
       " 'Explosão - \\r\\n      Tchaka Bum ',\n",
       " 'Complicated - \\r\\n      Avril Lavigne \\r\\n      ',\n",
       " 'Meu plano -  Daniela Mercury ',\n",
       " 'Eu preciso te tirar do sério -  Frejat ',\n",
       " 'Um anjo veio me falar - \\xa0 Rouge ',\n",
       " 'Sing for the moment -  Eminem ']"
      ]
     },
     "execution_count": 141,
     "metadata": {},
     "output_type": "execute_result"
    }
   ],
   "source": [
    "# resolução para 2003\n",
    "texto = r.content.decode('iso8859-1')\n",
    "#print(texto)\n",
    "lista_hits = scp(text=texto).xpath('//td[@width=\"93%\"]/p//font/text()').extract()\n",
    "lista_hits"
   ]
  },
  {
   "cell_type": "code",
   "execution_count": 142,
   "metadata": {},
   "outputs": [],
   "source": [
    "# resolução para 2004\n",
    "r = req.get(\"http://www.mofolandia.com.br/mofolandia_nova/musica_tophits_04.htm\")"
   ]
  },
  {
   "cell_type": "code",
   "execution_count": 143,
   "metadata": {
    "scrolled": true
   },
   "outputs": [
    {
     "data": {
      "text/plain": [
       "['\\r\\n      Vou deixar - Skank ',\n",
       " '\\r\\n      Nosso amor é ouro - \\xa0 \\r\\n      Zezé Di Camargo & Luciano',\n",
       " '\\r\\n      Hey ya! - \\xa0\\r\\n      OutKast\\xa0',\n",
       " '\\r\\n      Equalize -  \\r\\n      Pitty',\n",
       " '\\r\\n      Shut up - Black Eyed Peas',\n",
       " '\\r\\n      Flor do reggae - Ivete Sangalo',\n",
       " '\\r\\n      Amanhã não se sabe -  LS Jack',\n",
       " '\\r\\n      Prá sempre -  Zezé Di Camargo & Luciano',\n",
       " '\\r\\n      Faz tempo -  Ivete Sangalo',\n",
       " '\\r\\n      Sorte grande -  Ivete Sangalo',\n",
       " '\\r\\n      The reason -  \\r\\n      Hoobastak ',\n",
       " '\\r\\n      Fantasias -  Leonardo',\n",
       " '\\r\\n      Enquanto houver sol -  ',\n",
       " 'Titãs',\n",
       " '\\r\\n      Será -  Bruno & Marrone',\n",
       " '\\r\\n      Você prá sempre (inveja) -  Sandy & Junior',\n",
       " '\\r\\n      Behind blue eyes -  Limp Bizkit',\n",
       " '\\r\\n      Musa de verão -  Felipe Dylon',\n",
       " '\\r\\n      Você me vira a cabeça (ao vivo) -  Alcione',\n",
       " '\\r\\n      My immortal -  Evanescence',\n",
       " '\\r\\n      Where is love\\r\\n-      Black Eyed Peas featuring Justin Timberlake',\n",
       " '\\r\\n      This love -  Maroon5',\n",
       " '\\r\\n      Encostar na tua -  Ana Carolina',\n",
       " '\\r\\n      Eu ei que te perdi - \\r\\n      Leonardo',\n",
       " '\\r\\n      Breaking the habit -  \\r\\n      Linkin Park',\n",
       " '\\r\\n      Talvez (aovivo) -  Grupo Revelação',\n",
       " '\\r\\n      Shortinho Saint-Tropez -  Bokaloka',\n",
       " '\\r\\n      Bum, Bum, Bum -  Alexandre Pires',\n",
       " '\\r\\n      Jogado na rua -  Daniel',\n",
       " '\\r\\n      It`s my life -  No Doubt',\n",
       " '\\r\\n      Me engana que eu gosto -  Wanessa Camargo',\n",
       " '\\r\\n      Vamos fugir -  ',\n",
       " 'Skank',\n",
       " '\\r\\n      Porta-retrato -  Edson & Hudson',\n",
       " '\\r\\n      Deixa -  Bruno & Marrone',\n",
       " '\\r\\n      Toxic -  Britney Spears',\n",
       " \"\\r\\n      Vem prá minha vida -  Br'oz\",\n",
       " '\\r\\n      Do seu lado -  Jota Quest ',\n",
       " \"\\r\\n      Prometida (Guararé) -  Br'oz\",\n",
       " '\\r\\n      Te amar foi ilusão -  Bruno & Marrone',\n",
       " '\\r\\n      A ilha -  KLB',\n",
       " '\\r\\n      Amor e sexo -  Rita Lee',\n",
       " '\\r\\n      Numb -  Linkin Park',\n",
       " '\\r\\n      Universo paralelo -  \\r\\n      Vinny',\n",
       " '\\r\\n      Sinônimos -  \\r\\n      Chitãozinho & Xororó / Zé Ramalho',\n",
       " '\\r\\n      Vai dar namoro -  Bruno & Marrone',\n",
       " '\\r\\n      My place - Nelly featuring Jaheim',\n",
       " '\\r\\n      My band -  D12 featuring Eminem',\n",
       " '\\r\\n      Porta aberta -  Luka',\n",
       " '\\r\\n      Como eu quero (acústico) - Kid Abelha',\n",
       " '\\r\\n      Eternamente feliz -  Art Popular',\n",
       " '\\r\\n      Just lose it -\\r\\n      Eminem',\n",
       " '\\r\\n      Don`t tell me -  \\r\\n      Avril Lavigne',\n",
       " '\\r\\n      Perdi você -  Guilherme & Santiago',\n",
       " '\\r\\n      Vem cair na zueira -  Rouge',\n",
       " '\\r\\n      A canção e o vento -  Jorge \\r\\n      Aragão',\n",
       " '\\r\\n      You don`t know my name -  \\r\\n      Alicia Keys',\n",
       " '\\r\\n      Provas de amor -  Titãs',\n",
       " '\\r\\n      Não olhe para trás -  Capital Inicial',\n",
       " '\\r\\n      Não olhe assim -  KLB',\n",
       " '\\r\\n      Blá Blá Blá -  \\r\\n      Rouge',\n",
       " '\\r\\n      Sem você -  Rouge',\n",
       " '\\r\\n      Chuvas de verão (ao vivo) - KLB',\n",
       " '\\r\\n      Lucidez -  \\r\\n      Fundo de Quintal & Jorge Aragão',\n",
       " '\\r\\n      Horizonte de emoção -  Grupo Revelação',\n",
       " '\\r\\n      Vertigo -  \\r\\n      U2',\n",
       " '\\r\\n      Evidências -  \\r\\n      Daniel',\n",
       " '\\r\\n      Fico assim sem você -  Adriana Calcanhoto',\n",
       " '\\r\\n      Encanto - \\r\\n      Sandy & Junior',\n",
       " '\\r\\n      Apaixonado  (Imbranato)\\xa0- Hugo & Tiago',\n",
       " '\\r\\n      Poesia e paixão - ',\n",
       " 'Liah',\n",
       " '\\r\\n      Our lives -  The Calling',\n",
       " '\\r\\n      Going under - Evanescence',\n",
       " '\\r\\n      Let`s get it started / Let`s get retarted - Black Eyed Peas',\n",
       " '\\r\\n      Uns dias - \\r\\n      Os Paralamas do Sucesso & Frejat',\n",
       " '\\r\\n      Neurótico -  \\r\\n      Vinimax',\n",
       " '\\r\\n      Perto de Deus - Cidade Negra',\n",
       " '\\r\\n      Vícios e virtudes -  \\r\\n      Charlie Brown Jr.',\n",
       " '\\r\\n      Eu mereço -  Rick & Renner',\n",
       " '\\r\\n      Metade de mim -  Wanessa Camargo',\n",
       " '\\r\\n      Luz das estrelas -  Belo',\n",
       " '\\r\\n      Amiga de trabalho -Vavá',\n",
       " '\\r\\n      Meu sossego -  LS Jack',\n",
       " '\\r\\n      Ela é jogo duro -  Só Pra \\r\\n      Contrariar',\n",
       " '\\r\\n      Prá sempre -  \\r\\n      Roberto Carlos',\n",
       " '\\r\\n      Amores perfeitos -  Skank',\n",
       " '\\r\\n      É você - Tribalistas',\n",
       " '\\r\\n      Como você -  Martinho da Vila',\n",
       " '\\r\\n      Não se sinta só - Os Travessos',\n",
       " '\\r\\n      Me against the music - Britney Spears featuring Madonna',\n",
       " '\\r\\n      I know what you want -  Busta Rhymes featuring Mariah Carey',\n",
       " '\\r\\n      História combinada -  Pique Novo',\n",
       " '\\r\\n      Quero acender teu fogo -  Leonardo',\n",
       " '\\r\\n      O penetra - Zeca Pagodinho',\n",
       " '\\r\\n      Samba makossa -  Charlie Brown Jr & Marcelo D2',\n",
       " '\\r\\n      Tomada -  É o Tchan!',\n",
       " '\\r\\n      Broken -  Seether featuring Amy Lee',\n",
       " '\\r\\n      Não uso sapato -  Charlie Brown Jr',\n",
       " '\\r\\n      Everytime -  \\r\\n      Britney Spears',\n",
       " '\\r\\n      Dogão é mau -  Dogão',\n",
       " '\\r\\n      Desperdiçou - Sandy & Junior',\n",
       " '\\r\\n      Todo mundo quer cuidar de mim -  Brava']"
      ]
     },
     "execution_count": 143,
     "metadata": {},
     "output_type": "execute_result"
    }
   ],
   "source": [
    "texto = r.content.decode('iso8859-1')\n",
    "#print(texto)\n",
    "lista_hits = scp(text=texto).xpath('//td[@width=\"96%\"]/p//font/text()').extract()\n",
    "lista_hits"
   ]
  },
  {
   "cell_type": "code",
   "execution_count": 3,
   "metadata": {},
   "outputs": [],
   "source": [
    "# resolução para 2005\n",
    "r = req.get(\"http://www.mofolandia.com.br/mofolandia_nova/musica_tophits_05.htm\")"
   ]
  },
  {
   "cell_type": "code",
   "execution_count": 5,
   "metadata": {},
   "outputs": [
    {
     "data": {
      "text/plain": [
       "[' My boo - \\xa0 Usher & Alicia Keys ',\n",
       " ' Eu amo - \\xa0 \\r\\n              Zezé Di Camargo & Luciano ',\n",
       " ' Quer casar comigo? - \\xa0\\r\\n              Bruno & Marrone \\xa0 \\xa0',\n",
       " ' Fui eu - \\xa0 Zezé Di Camargo & Luciano ',\n",
       " ' Boulevard of broken dreams - \\xa0 Green Day  \\xa0',\n",
       " ' Choram as rosas - \\xa0  Bruno & Marrone \\xa0 ',\n",
       " ' Você sempre será - \\xa0 Marjorie Estiano ',\n",
       " ' Como vai você - \\xa0 Zezé Di Camargo & Luciano ft Antonio Marcos',\n",
       " ' Um minuto para o fim do mundo - \\xa0 CPM 22 ',\n",
       " ' Lonely  - \\xa0 Akon ',\n",
       " ' Cadê meu amor?\\xa0- \\r\\n              Zeca Pagodinho ',\n",
       " ' Céu da boca \\xa0- \\r\\n              Ivete Sangalo & Gilberto Gil ',\n",
       " ' Festa no apê \\xa0- Latino ',\n",
       " ' We belong togheter \\xa0- \\r\\n              Mariah Carey ',\n",
       " ' C.B. Sangue bom (acústico)\\xa0- Marcelo D2 ',\n",
       " ' Um mais um \\xa0- Skank ',\n",
       " ' É amor demais \\xa0- Edson & Hudson ',\n",
       " ' Vamos fugir \\xa0- Skank ',\n",
       " ' Doce desejo\\xa0- Babado Novo \\xa0',\n",
       " ' Irresistível\\xa0-\\r\\n              CPM 22 \\xa0 \\xa0',\n",
       " ' Candy shop \\xa0- \\r\\n              50 Cent ft Olivia ',\n",
       " ' Speed of sound \\xa0- Coldplay ',\n",
       " ' Incomplete \\xa0- Backstreet Boys',\n",
       " ' Numb/Encore\\xa0- \\r\\n              Jay-Z/Linkin Park',\n",
       " ' She will be loved \\xa0- Maroon5 ',\n",
       " ' Inevitável (ao vivo)\\xa0 Bruno & Marrone \\xa0 ',\n",
       " ' Uma vez mais \\xa0- Ivo Pessoa',\n",
       " ' Ddon`t phunk with my heart \\xa0- The Black Eyed Peas ',\n",
       " ' A desconhecida \\xa0- Leonardo ',\n",
       " ' A ilha  \\xa0- KLB ',\n",
       " ' O amor que eu sempre quis \\xa0- Levada Louca & Belo ou Belo \\r\\n              & Paulinha ',\n",
       " ' Na frente do reto \\xa0- \\r\\n              O Rappa ',\n",
       " ' Don`t lie \\xa0- The Black Eyed Peas ',\n",
       " ' Meu ébano\\xa0- Alcione',\n",
       " ' Wake me up when september ends \\xa0- Green Day ',\n",
       " ' Poligamia\\xa0- Kid Abelha ',\n",
       " ' Other side of the world - \\xa0 KT Tunstall ',\n",
       " ' Shut up!\\xa0- Simple Plan ',\n",
       " ' Coração\\xa0- \\r\\n              Rapazolla ',\n",
       " ' Abalou\\xa0- Ivete Sangalo ',\n",
       " ' Os amantes\\xa0- Daniel (Continental)',\n",
       " ' Magia e mistério \\xa0- Guilherme & Santiago ',\n",
       " ' Senhorita\\xa0- Motirô (Hum \\r\\n              Batuque) ',\n",
       " ' Get right\\xa0- \\r\\n              Jennifer Lopez ',\n",
       " ' Hollaback girl \\xa0- Gwen Stefani ',\n",
       " ' Car wash\\xa0- \\r\\n              Christina Aguilera ft Missy Elliott ',\n",
       " ' Duvido (ao vivo)\\xa0- Bokaloka',\n",
       " ' Hung up \\xa0- Madonna ',\n",
       " ' 100% Você\\xa0- Chiclete com Banana ',\n",
       " ' Apaixonado (Imbranato) - \\xa0Hugo & Thiago',\n",
       " ' Amor, amor \\xa0- \\r\\n              Wanessa Camargo ',\n",
       " ' A volta \\xa0- Roberto Carlos ',\n",
       " ' Vem, Habib (wala, wala) -\\xa0Rouge ',\n",
       " ' Mulheres são de vênus, os homens são de marte \\xa0- Tihuana ',\n",
       " ' Anacrônico\\xa0- Pitty',\n",
       " ' Homem carente\\xa0- Rick & Renner',\n",
       " ' Missing\\xa0- Evanescence ',\n",
       " ' Não me conte seus problemas \\xa0- \\r\\n              Banda Eva ft Ivete Sangalo ',\n",
       " ' Peito aberto\\xa0- Kid Abelha ',\n",
       " ' Foi - Zezé Di Camargo & Luciano \\xa0',\n",
       " ' Bebedeira\\xa0- Rick & Renner',\n",
       " ' Desatino\\xa0- Daniel (Continental)',\n",
       " ' Se\\xa0- Fábio Jr. \\xa0',\n",
       " ' Tira ela de mim \\xa0- Alexandre Pires ',\n",
       " ' Gasolina\\xa0- Daddy Yankee ',\n",
       " ' Tantas palavras \\xa0- Marlon & Maicon ft Robin Gibb',\n",
       " ' Sere nere\\xa0- Tiziano Ferro ft Liah ',\n",
       " ' Um anjo\\xa0- KLB ',\n",
       " ' Já tentei\\xa0- Exaltasamba ',\n",
       " ' Codinome beija-flor (ao vivo)\\xa0- Barão Vermelho ft Cazuza ',\n",
       " ' Escuta aí rapaz \\xa0- Kelly Key ',\n",
       " ' Me chama de amor \\xa0- Babado Novo ',\n",
       " ' Nua\\xa0- \\r\\n              Ana Carolina  \\xa0',\n",
       " ' Se ainda existe amor \\xa0- \\r\\n              Leonardo \\xa0',\n",
       " ' Ao sentir o amor \\xa0- Alexandre Pires ft Fat Family ',\n",
       " ' Lutar pelo que é meu \\xa0- \\r\\n              Charlie Brown Jr. ',\n",
       " ' Eu quero sempre mais \\xa0- Ira! ft Pitty ',\n",
       " \" Lose my breath \\xa0- Destiny's Child \",\n",
       " ' Vertigo\\xa0- U2 ',\n",
       " 'Breaking the habit\\xa0- Linkin Park ',\n",
       " ' Pareço um menino \\xa0- Leonardo ',\n",
       " ' Just lose it \\xa0- Eminem ',\n",
       " ' Nobody`s home \\xa0- \\r\\n              Avril Lavigne ',\n",
       " ' Além das ondas \\xa0- Cidade Negra ',\n",
       " ' Vida real\\xa0- Engenheiros do Hawaii ',\n",
       " ' 1967 (ao vivo)\\xa0- Marcelo D2 ',\n",
       " ' Sunday morning \\xa0- Maroon5 ',\n",
       " ' Lose control\\xa0- Missy Elliott ft Ciara & Fat Man Scoop ',\n",
       " ' Sistema bruto \\xa0- Chitãozinho & Xororó ',\n",
       " ' Ai, ai, ai... (Deep lick radio mix)\\xa0- Vanessa da Mata ',\n",
       " ' Por que choras?\\xa0- Bruno & Marrone ft Joelma/Banda Calypso ',\n",
       " ' La tortura\\xa0- \\r\\n              Shakira ft Alejandro Sanz ',\n",
       " ' Renata\\xa0- Tihuana ',\n",
       " ' Além do horizonte \\xa0- \\r\\n              Jota Quest ',\n",
       " ' Vossa excelência \\xa0- Titãs ',\n",
       " ' Respirar você \\xa0- Capital Inicial ',\n",
       " ' Hey ho\\xa0- Tragedie ',\n",
       " ' A lua me traiu \\xa0- Banda Calypso',\n",
       " ' Sou a Barbie girl -\\xa0 Kelly Key ',\n",
       " ' 1, 2 step \\xa0- Ciara ']"
      ]
     },
     "execution_count": 5,
     "metadata": {},
     "output_type": "execute_result"
    }
   ],
   "source": [
    "texto = r.content.decode('iso8859-1')\n",
    "#print(texto)\n",
    "lista_hits = scp(text=texto).xpath('//td[@width=\"95%\"]/p//font/text()').extract()\n",
    "lista_hits"
   ]
  },
  {
   "cell_type": "code",
   "execution_count": 6,
   "metadata": {},
   "outputs": [],
   "source": [
    "# resolução para 2006\n",
    "r = req.get(\"http://www.mofolandia.com.br/mofolandia_nova/musica_tophits_06.htm\")"
   ]
  },
  {
   "cell_type": "code",
   "execution_count": 9,
   "metadata": {},
   "outputs": [
    {
     "data": {
      "text/plain": [
       "[\"Don't   cha - \\xa0 The Pussycat Dolls & Busta Rhymes\"]"
      ]
     },
     "execution_count": 9,
     "metadata": {},
     "output_type": "execute_result"
    }
   ],
   "source": [
    "texto = r.content.decode('iso8859-1')\n",
    "#print(texto)\n",
    "lista_hits = scp(text=texto).xpath('//td[@height=\"12\"]/text()').extract()\n",
    "lista_hits"
   ]
  }
 ],
 "metadata": {
  "kernelspec": {
   "display_name": "Python 3",
   "language": "python",
   "name": "python3"
  },
  "language_info": {
   "codemirror_mode": {
    "name": "ipython",
    "version": 3
   },
   "file_extension": ".py",
   "mimetype": "text/x-python",
   "name": "python",
   "nbconvert_exporter": "python",
   "pygments_lexer": "ipython3",
   "version": "3.6.3"
  }
 },
 "nbformat": 4,
 "nbformat_minor": 2
}
