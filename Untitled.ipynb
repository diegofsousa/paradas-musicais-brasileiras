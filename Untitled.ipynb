{
 "cells": [
  {
   "cell_type": "code",
   "execution_count": 1,
   "metadata": {},
   "outputs": [],
   "source": [
    "from crawler.music_crawler import CrowlerList"
   ]
  },
  {
   "cell_type": "code",
   "execution_count": 2,
   "metadata": {},
   "outputs": [],
   "source": [
    "cl = CrowlerList()"
   ]
  },
  {
   "cell_type": "code",
   "execution_count": 3,
   "metadata": {},
   "outputs": [],
   "source": [
    "lista = [\n",
    "    ['vespas mandarinas', 'santa sampa'],\n",
    "    ['caetano veloso', 'sozinho']\n",
    "]"
   ]
  },
  {
   "cell_type": "code",
   "execution_count": 4,
   "metadata": {},
   "outputs": [
    {
     "name": "stdout",
     "output_type": "stream",
     "text": [
      "[1/2] Searching for 'vespas mandarinas - santa sampa'' ...\n",
      "Request duck go search url...  Ok!\n",
      "Request lyrics url to https://www.letras.mus.br/vespas-mandarinas/santa-sampa/ ...   Ok!\n",
      "Request cipher url to http://www.cifraclub.com.br/vespas-mandarinas/santa-sampa/ ...  Ok!\n",
      "\n",
      "\n",
      "[2/2] Searching for 'caetano veloso - sozinho'' ...\n",
      "Request duck go search url...  Ok!\n",
      "Request lyrics url to https://www.letras.mus.br/caetano-veloso/41672/ ...   Ok!\n",
      "Request cipher url to http://www.cifraclub.com.br/caetano-veloso/sozinho/ ...  Ok!\n",
      "\n",
      "\n"
     ]
    }
   ],
   "source": [
    "cl.matrix_to_csv(lista)"
   ]
  }
 ],
 "metadata": {
  "kernelspec": {
   "display_name": "Python 3",
   "language": "python",
   "name": "python3"
  },
  "language_info": {
   "codemirror_mode": {
    "name": "ipython",
    "version": 3
   },
   "file_extension": ".py",
   "mimetype": "text/x-python",
   "name": "python",
   "nbconvert_exporter": "python",
   "pygments_lexer": "ipython3",
   "version": "3.6.3"
  }
 },
 "nbformat": 4,
 "nbformat_minor": 2
}
